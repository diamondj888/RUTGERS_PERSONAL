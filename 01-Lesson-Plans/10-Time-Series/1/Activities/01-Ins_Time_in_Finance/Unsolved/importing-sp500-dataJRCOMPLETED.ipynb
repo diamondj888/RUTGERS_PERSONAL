{
 "cells": [
  {
   "cell_type": "markdown",
   "metadata": {},
   "source": [
    "# Demo: Using Pandas to Work with Time Data"
   ]
  },
  {
   "cell_type": "code",
   "execution_count": 9,
   "metadata": {},
   "outputs": [],
   "source": [
    "# Initial imports\n",
    "import pandas as pd\n",
    "from pathlib import Path"
   ]
  },
  {
   "cell_type": "code",
   "execution_count": 10,
   "metadata": {},
   "outputs": [
    {
     "data": {
      "text/html": [
       "<div>\n",
       "<style scoped>\n",
       "    .dataframe tbody tr th:only-of-type {\n",
       "        vertical-align: middle;\n",
       "    }\n",
       "\n",
       "    .dataframe tbody tr th {\n",
       "        vertical-align: top;\n",
       "    }\n",
       "\n",
       "    .dataframe thead th {\n",
       "        text-align: right;\n",
       "    }\n",
       "</style>\n",
       "<table border=\"1\" class=\"dataframe\">\n",
       "  <thead>\n",
       "    <tr style=\"text-align: right;\">\n",
       "      <th></th>\n",
       "      <th>time</th>\n",
       "      <th>close</th>\n",
       "    </tr>\n",
       "  </thead>\n",
       "  <tbody>\n",
       "    <tr>\n",
       "      <th>0</th>\n",
       "      <td>2019-01-02 12:45:00+00:00</td>\n",
       "      <td>246.16</td>\n",
       "    </tr>\n",
       "    <tr>\n",
       "      <th>1</th>\n",
       "      <td>2019-01-02 13:00:00+00:00</td>\n",
       "      <td>246.15</td>\n",
       "    </tr>\n",
       "    <tr>\n",
       "      <th>2</th>\n",
       "      <td>2019-01-02 13:15:00+00:00</td>\n",
       "      <td>245.50</td>\n",
       "    </tr>\n",
       "    <tr>\n",
       "      <th>3</th>\n",
       "      <td>2019-01-02 13:30:00+00:00</td>\n",
       "      <td>245.71</td>\n",
       "    </tr>\n",
       "    <tr>\n",
       "      <th>4</th>\n",
       "      <td>2019-01-02 13:45:00+00:00</td>\n",
       "      <td>245.76</td>\n",
       "    </tr>\n",
       "  </tbody>\n",
       "</table>\n",
       "</div>"
      ],
      "text/plain": [
       "                        time   close\n",
       "0  2019-01-02 12:45:00+00:00  246.16\n",
       "1  2019-01-02 13:00:00+00:00  246.15\n",
       "2  2019-01-02 13:15:00+00:00  245.50\n",
       "3  2019-01-02 13:30:00+00:00  245.71\n",
       "4  2019-01-02 13:45:00+00:00  245.76"
      ]
     },
     "execution_count": 10,
     "metadata": {},
     "output_type": "execute_result"
    }
   ],
   "source": [
    "# Read the S&P 500 CSV data into a DataFrame\n",
    "df_sp500 = pd.read_csv(Path(\"../Resources/sp500.csv\")) \n",
    "\n",
    "\n",
    "# Display the DataFrame\n",
    "df_sp500.head()\n"
   ]
  },
  {
   "cell_type": "code",
   "execution_count": 11,
   "metadata": {},
   "outputs": [
    {
     "data": {
      "text/plain": [
       "time      object\n",
       "close    float64\n",
       "dtype: object"
      ]
     },
     "execution_count": 11,
     "metadata": {},
     "output_type": "execute_result"
    }
   ],
   "source": [
    "# Verify the data types using dtypes\n",
    "df_sp500.dtypes"
   ]
  },
  {
   "cell_type": "code",
   "execution_count": 12,
   "metadata": {},
   "outputs": [
    {
     "data": {
      "text/plain": [
       "time    2019-01-02 12:45:00+00:00\n",
       "Name: 0, dtype: object"
      ]
     },
     "execution_count": 12,
     "metadata": {},
     "output_type": "execute_result"
    }
   ],
   "source": [
    "# Reviewing the time value from index position 0\n",
    "## REMEMBER THE INDEX IS 0... WHEN NOT DESIGNATED\n",
    "#df_sp500[\"time\"][0]\n",
    "#df_sp500[\"time\"][1]\n",
    "#df_sp500[\"time\"]\n",
    "#df_sp500.iloc[0]\n",
    "df_sp500.iloc[0, [0]]"
   ]
  },
  {
   "cell_type": "code",
   "execution_count": 13,
   "metadata": {},
   "outputs": [
    {
     "data": {
      "text/plain": [
       "Timestamp('2022-07-03 20:49:59.341276')"
      ]
     },
     "execution_count": 13,
     "metadata": {},
     "output_type": "execute_result"
    }
   ],
   "source": [
    "# Getting the current date and time\n",
    "pd.to_datetime(\"today\")"
   ]
  },
  {
   "cell_type": "code",
   "execution_count": 17,
   "metadata": {},
   "outputs": [
    {
     "data": {
      "text/plain": [
       "time     datetime64[ns, US/Eastern]\n",
       "close                       float64\n",
       "dtype: object"
      ]
     },
     "execution_count": 17,
     "metadata": {},
     "output_type": "execute_result"
    }
   ],
   "source": [
    "# Transform the time column to a datetime data type\n",
    "df_sp500[\"time\"] = pd.to_datetime(df_sp500[\"time\"])\n",
    "# Verify the data type transformation using the info function\n",
    "df_sp500.dtypes"
   ]
  },
  {
   "cell_type": "code",
   "execution_count": 15,
   "metadata": {},
   "outputs": [
    {
     "data": {
      "text/plain": [
       "<bound method DataFrame.info of                           time   close\n",
       "0    2019-01-02 07:45:00-05:00  246.16\n",
       "1    2019-01-02 08:00:00-05:00  246.15\n",
       "2    2019-01-02 08:15:00-05:00  245.50\n",
       "3    2019-01-02 08:30:00-05:00  245.71\n",
       "4    2019-01-02 08:45:00-05:00  245.76\n",
       "...                        ...     ...\n",
       "9323 2019-12-30 15:30:00-05:00  321.10\n",
       "9324 2019-12-30 15:45:00-05:00  321.12\n",
       "9325 2019-12-30 16:00:00-05:00  321.23\n",
       "9326 2019-12-30 16:30:00-05:00  321.23\n",
       "9327 2019-12-30 16:45:00-05:00  321.20\n",
       "\n",
       "[9328 rows x 2 columns]>"
      ]
     },
     "execution_count": 15,
     "metadata": {},
     "output_type": "execute_result"
    }
   ],
   "source": [
    "# Convert the time column to the US/Eastern timezone\n",
    "df_sp500[\"time\"] = df_sp500[\"time\"].dt.tz_convert(\"US/Eastern\")\n",
    "\n",
    "# Verify the data type transformation using the info function\n",
    "df_sp500.info"
   ]
  },
  {
   "cell_type": "code",
   "execution_count": 16,
   "metadata": {},
   "outputs": [
    {
     "data": {
      "text/html": [
       "<div>\n",
       "<style scoped>\n",
       "    .dataframe tbody tr th:only-of-type {\n",
       "        vertical-align: middle;\n",
       "    }\n",
       "\n",
       "    .dataframe tbody tr th {\n",
       "        vertical-align: top;\n",
       "    }\n",
       "\n",
       "    .dataframe thead th {\n",
       "        text-align: right;\n",
       "    }\n",
       "</style>\n",
       "<table border=\"1\" class=\"dataframe\">\n",
       "  <thead>\n",
       "    <tr style=\"text-align: right;\">\n",
       "      <th></th>\n",
       "      <th>time</th>\n",
       "      <th>close</th>\n",
       "    </tr>\n",
       "  </thead>\n",
       "  <tbody>\n",
       "    <tr>\n",
       "      <th>0</th>\n",
       "      <td>2019-01-02 07:45:00-05:00</td>\n",
       "      <td>246.16</td>\n",
       "    </tr>\n",
       "    <tr>\n",
       "      <th>1</th>\n",
       "      <td>2019-01-02 08:00:00-05:00</td>\n",
       "      <td>246.15</td>\n",
       "    </tr>\n",
       "    <tr>\n",
       "      <th>2</th>\n",
       "      <td>2019-01-02 08:15:00-05:00</td>\n",
       "      <td>245.50</td>\n",
       "    </tr>\n",
       "    <tr>\n",
       "      <th>3</th>\n",
       "      <td>2019-01-02 08:30:00-05:00</td>\n",
       "      <td>245.71</td>\n",
       "    </tr>\n",
       "    <tr>\n",
       "      <th>4</th>\n",
       "      <td>2019-01-02 08:45:00-05:00</td>\n",
       "      <td>245.76</td>\n",
       "    </tr>\n",
       "    <tr>\n",
       "      <th>...</th>\n",
       "      <td>...</td>\n",
       "      <td>...</td>\n",
       "    </tr>\n",
       "    <tr>\n",
       "      <th>9323</th>\n",
       "      <td>2019-12-30 15:30:00-05:00</td>\n",
       "      <td>321.10</td>\n",
       "    </tr>\n",
       "    <tr>\n",
       "      <th>9324</th>\n",
       "      <td>2019-12-30 15:45:00-05:00</td>\n",
       "      <td>321.12</td>\n",
       "    </tr>\n",
       "    <tr>\n",
       "      <th>9325</th>\n",
       "      <td>2019-12-30 16:00:00-05:00</td>\n",
       "      <td>321.23</td>\n",
       "    </tr>\n",
       "    <tr>\n",
       "      <th>9326</th>\n",
       "      <td>2019-12-30 16:30:00-05:00</td>\n",
       "      <td>321.23</td>\n",
       "    </tr>\n",
       "    <tr>\n",
       "      <th>9327</th>\n",
       "      <td>2019-12-30 16:45:00-05:00</td>\n",
       "      <td>321.20</td>\n",
       "    </tr>\n",
       "  </tbody>\n",
       "</table>\n",
       "<p>9328 rows × 2 columns</p>\n",
       "</div>"
      ],
      "text/plain": [
       "                          time   close\n",
       "0    2019-01-02 07:45:00-05:00  246.16\n",
       "1    2019-01-02 08:00:00-05:00  246.15\n",
       "2    2019-01-02 08:15:00-05:00  245.50\n",
       "3    2019-01-02 08:30:00-05:00  245.71\n",
       "4    2019-01-02 08:45:00-05:00  245.76\n",
       "...                        ...     ...\n",
       "9323 2019-12-30 15:30:00-05:00  321.10\n",
       "9324 2019-12-30 15:45:00-05:00  321.12\n",
       "9325 2019-12-30 16:00:00-05:00  321.23\n",
       "9326 2019-12-30 16:30:00-05:00  321.23\n",
       "9327 2019-12-30 16:45:00-05:00  321.20\n",
       "\n",
       "[9328 rows x 2 columns]"
      ]
     },
     "execution_count": 16,
     "metadata": {},
     "output_type": "execute_result"
    }
   ],
   "source": [
    "# Review the DataFrame with the new timezone information\n",
    "df_sp500"
   ]
  }
 ],
 "metadata": {
  "kernelspec": {
   "display_name": "Python 3.7.13 ('dev')",
   "language": "python",
   "name": "python3"
  },
  "language_info": {
   "codemirror_mode": {
    "name": "ipython",
    "version": 3
   },
   "file_extension": ".py",
   "mimetype": "text/x-python",
   "name": "python",
   "nbconvert_exporter": "python",
   "pygments_lexer": "ipython3",
   "version": "3.7.13"
  },
  "vscode": {
   "interpreter": {
    "hash": "7631c39f756ee97fc32a5db05973838915965d11307db0fdf357e8b46bea8845"
   }
  }
 },
 "nbformat": 4,
 "nbformat_minor": 4
}
