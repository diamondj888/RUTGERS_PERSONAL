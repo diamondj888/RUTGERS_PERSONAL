{
 "cells": [
  {
   "cell_type": "markdown",
   "metadata": {},
   "source": [
    "# Inspecting Time Zones in Stock Data\n",
    "\n",
    "In this activity, you’ll load historical stock data from Tesla Motors (TSLA) to practice your `datetime` data transformation skills.\n",
    "\n",
    "Instructions:\n",
    "\n",
    "1. Read the Tesla historical stock data from the CSV file into a DataFrame.\n",
    "\n",
    "2. Use the Pandas `head` function to inspect the data. Use the Pandas `info` function to check the data types of each column.\n",
    "\n",
    "3. Convert the “time” column to the `datetime` data type by using the Pandas `to_datetime` function.\n",
    "\n",
    "    > **Hint** Because the “time” column contains UTC `Timestamp` data, remember to set `utc=True`.\n",
    "\n",
    "4. Use the Pandas `head` and `info` functions to verify the data type transformation and the time zone.\n",
    "\n",
    "5. Convert the time zone to that of Berlin (`Europe/Berlin`), and verify the time zone transformation by using the Pandas `head` and `info` functions.\n",
    "\n",
    "\n",
    "References:\n",
    "\n",
    "[Pandas.to_datetime](https://pandas.pydata.org/pandas-docs/stable/reference/api/pandas.to_datetime.html)\n",
    "\n",
    "[Pandas.dt.tz_convert](https://pandas.pydata.org/pandas-docs/stable/reference/api/pandas.Series.dt.tz_convert.html)\n",
    "\n",
    "[Python time zones](https://pvlib-python.readthedocs.io/en/stable/timetimezones.html)\n"
   ]
  },
  {
   "cell_type": "code",
   "execution_count": 32,
   "metadata": {},
   "outputs": [],
   "source": [
    "# Import the required libraries and dependencies.\n",
    "import pandas as pd\n",
    "from pathlib import Path"
   ]
  },
  {
   "cell_type": "markdown",
   "metadata": {},
   "source": [
    "## Step 1: Read the Tesla historical stock data from the CSV file into a DataFrame."
   ]
  },
  {
   "cell_type": "code",
   "execution_count": 33,
   "metadata": {},
   "outputs": [
    {
     "data": {
      "text/plain": [
       "<bound method NDFrame.head of                             time    close\n",
       "0      2018-01-02 09:30:00-05:00  315.870\n",
       "1      2018-01-02 09:45:00-05:00  317.500\n",
       "2      2018-01-02 10:00:00-05:00  318.035\n",
       "3      2018-01-02 10:15:00-05:00  317.470\n",
       "4      2018-01-02 10:30:00-05:00  316.875\n",
       "...                          ...      ...\n",
       "21274  2020-09-29 15:15:00-04:00  418.980\n",
       "21275  2020-09-29 15:30:00-04:00  418.950\n",
       "21276  2020-09-29 15:45:00-04:00  418.990\n",
       "21277  2020-09-29 16:00:00-04:00  417.820\n",
       "21278  2020-09-29 17:45:00-04:00  418.490\n",
       "\n",
       "[21279 rows x 2 columns]>"
      ]
     },
     "execution_count": 33,
     "metadata": {},
     "output_type": "execute_result"
    }
   ],
   "source": [
    "# Read the data from the tsla_historical.csv file into a Pandas DataFrame\n",
    "df_tsla = pd.read_csv(Path(\"../Resources/tsla_historical.csv\"))\n",
    "df_tsla.head\n"
   ]
  },
  {
   "cell_type": "markdown",
   "metadata": {},
   "source": [
    "## Step 2. Use the Pandas `head` function to inspect the data. Use the Pandas `info` function to check the data types of each column."
   ]
  },
  {
   "cell_type": "code",
   "execution_count": 34,
   "metadata": {},
   "outputs": [
    {
     "data": {
      "text/plain": [
       "<bound method NDFrame.head of                             time    close\n",
       "0      2018-01-02 09:30:00-05:00  315.870\n",
       "1      2018-01-02 09:45:00-05:00  317.500\n",
       "2      2018-01-02 10:00:00-05:00  318.035\n",
       "3      2018-01-02 10:15:00-05:00  317.470\n",
       "4      2018-01-02 10:30:00-05:00  316.875\n",
       "...                          ...      ...\n",
       "21274  2020-09-29 15:15:00-04:00  418.980\n",
       "21275  2020-09-29 15:30:00-04:00  418.950\n",
       "21276  2020-09-29 15:45:00-04:00  418.990\n",
       "21277  2020-09-29 16:00:00-04:00  417.820\n",
       "21278  2020-09-29 17:45:00-04:00  418.490\n",
       "\n",
       "[21279 rows x 2 columns]>"
      ]
     },
     "execution_count": 34,
     "metadata": {},
     "output_type": "execute_result"
    }
   ],
   "source": [
    "# Display the first five rows of the DataFrame\n",
    "# YOUR CODE HERE\n",
    "df_tsla.head"
   ]
  },
  {
   "cell_type": "code",
   "execution_count": 35,
   "metadata": {},
   "outputs": [
    {
     "data": {
      "text/plain": [
       "<bound method DataFrame.info of                             time    close\n",
       "0      2018-01-02 09:30:00-05:00  315.870\n",
       "1      2018-01-02 09:45:00-05:00  317.500\n",
       "2      2018-01-02 10:00:00-05:00  318.035\n",
       "3      2018-01-02 10:15:00-05:00  317.470\n",
       "4      2018-01-02 10:30:00-05:00  316.875\n",
       "...                          ...      ...\n",
       "21274  2020-09-29 15:15:00-04:00  418.980\n",
       "21275  2020-09-29 15:30:00-04:00  418.950\n",
       "21276  2020-09-29 15:45:00-04:00  418.990\n",
       "21277  2020-09-29 16:00:00-04:00  417.820\n",
       "21278  2020-09-29 17:45:00-04:00  418.490\n",
       "\n",
       "[21279 rows x 2 columns]>"
      ]
     },
     "execution_count": 35,
     "metadata": {},
     "output_type": "execute_result"
    }
   ],
   "source": [
    "# Inspect the DataFrame's data types using the info function\n",
    "# YOUR CODE HERE\n",
    "df_tsla.info"
   ]
  },
  {
   "cell_type": "markdown",
   "metadata": {},
   "source": [
    "## Step 3: Convert the “time” column to the `datetime` data type by using the Pandas `to_datetime` function.\n",
    "\n",
    "> **Hint** Because the “time” column contains UTC `Timestamp` data, remember to set `utc=True`.\n"
   ]
  },
  {
   "cell_type": "code",
   "execution_count": 36,
   "metadata": {},
   "outputs": [],
   "source": [
    "# Transform the time column to a datetime data type\n",
    "#df_tsla[\"time\"] = pd.to_datetime(df_tsla[\"time\"](utc=True))\n",
    "df_tsla[\"time\"] = pd.to_datetime(\n",
    "    df_tsla[\"time\"],\n",
    "    infer_datetime_format=True,\n",
    "    utc = True\n",
    ")"
   ]
  },
  {
   "cell_type": "code",
   "execution_count": 37,
   "metadata": {},
   "outputs": [
    {
     "data": {
      "text/plain": [
       "time     datetime64[ns, UTC]\n",
       "close                float64\n",
       "dtype: object"
      ]
     },
     "execution_count": 37,
     "metadata": {},
     "output_type": "execute_result"
    }
   ],
   "source": [
    "df_tsla.dtypes"
   ]
  },
  {
   "cell_type": "markdown",
   "metadata": {},
   "source": [
    "## Step 4: Use the Pandas `head` and `info` functions to verify the data type transformation and the time zone"
   ]
  },
  {
   "cell_type": "code",
   "execution_count": 38,
   "metadata": {},
   "outputs": [
    {
     "data": {
      "text/plain": [
       "<bound method NDFrame.head of                            time    close\n",
       "0     2018-01-02 14:30:00+00:00  315.870\n",
       "1     2018-01-02 14:45:00+00:00  317.500\n",
       "2     2018-01-02 15:00:00+00:00  318.035\n",
       "3     2018-01-02 15:15:00+00:00  317.470\n",
       "4     2018-01-02 15:30:00+00:00  316.875\n",
       "...                         ...      ...\n",
       "21274 2020-09-29 19:15:00+00:00  418.980\n",
       "21275 2020-09-29 19:30:00+00:00  418.950\n",
       "21276 2020-09-29 19:45:00+00:00  418.990\n",
       "21277 2020-09-29 20:00:00+00:00  417.820\n",
       "21278 2020-09-29 21:45:00+00:00  418.490\n",
       "\n",
       "[21279 rows x 2 columns]>"
      ]
     },
     "execution_count": 38,
     "metadata": {},
     "output_type": "execute_result"
    }
   ],
   "source": [
    "# Display the first five rows of the DataFrame to confirm\n",
    "# changes to the time column\n",
    "# YOUR CODE HERE\n",
    "df_tsla.head"
   ]
  },
  {
   "cell_type": "code",
   "execution_count": 39,
   "metadata": {},
   "outputs": [
    {
     "data": {
      "text/plain": [
       "time     datetime64[ns, UTC]\n",
       "close                float64\n",
       "dtype: object"
      ]
     },
     "execution_count": 39,
     "metadata": {},
     "output_type": "execute_result"
    }
   ],
   "source": [
    "# Use the info function to confirm the change in data type \n",
    "# for the time column\n",
    "# YOUR CODE HERE\n",
    "df_tsla.dtypes"
   ]
  },
  {
   "cell_type": "markdown",
   "metadata": {},
   "source": [
    "## Step 5: Convert the time zone to that of Berlin (`Europe/Berlin`), and verify the time zone transformation by using the Pandas `head` and `info` functions."
   ]
  },
  {
   "cell_type": "code",
   "execution_count": 44,
   "metadata": {},
   "outputs": [
    {
     "data": {
      "text/html": [
       "<div>\n",
       "<style scoped>\n",
       "    .dataframe tbody tr th:only-of-type {\n",
       "        vertical-align: middle;\n",
       "    }\n",
       "\n",
       "    .dataframe tbody tr th {\n",
       "        vertical-align: top;\n",
       "    }\n",
       "\n",
       "    .dataframe thead th {\n",
       "        text-align: right;\n",
       "    }\n",
       "</style>\n",
       "<table border=\"1\" class=\"dataframe\">\n",
       "  <thead>\n",
       "    <tr style=\"text-align: right;\">\n",
       "      <th></th>\n",
       "      <th>time</th>\n",
       "      <th>close</th>\n",
       "    </tr>\n",
       "  </thead>\n",
       "  <tbody>\n",
       "    <tr>\n",
       "      <th>0</th>\n",
       "      <td>2018-01-02 15:30:00+01:00</td>\n",
       "      <td>315.870</td>\n",
       "    </tr>\n",
       "    <tr>\n",
       "      <th>1</th>\n",
       "      <td>2018-01-02 15:45:00+01:00</td>\n",
       "      <td>317.500</td>\n",
       "    </tr>\n",
       "    <tr>\n",
       "      <th>2</th>\n",
       "      <td>2018-01-02 16:00:00+01:00</td>\n",
       "      <td>318.035</td>\n",
       "    </tr>\n",
       "    <tr>\n",
       "      <th>3</th>\n",
       "      <td>2018-01-02 16:15:00+01:00</td>\n",
       "      <td>317.470</td>\n",
       "    </tr>\n",
       "    <tr>\n",
       "      <th>4</th>\n",
       "      <td>2018-01-02 16:30:00+01:00</td>\n",
       "      <td>316.875</td>\n",
       "    </tr>\n",
       "  </tbody>\n",
       "</table>\n",
       "</div>"
      ],
      "text/plain": [
       "                       time    close\n",
       "0 2018-01-02 15:30:00+01:00  315.870\n",
       "1 2018-01-02 15:45:00+01:00  317.500\n",
       "2 2018-01-02 16:00:00+01:00  318.035\n",
       "3 2018-01-02 16:15:00+01:00  317.470\n",
       "4 2018-01-02 16:30:00+01:00  316.875"
      ]
     },
     "execution_count": 44,
     "metadata": {},
     "output_type": "execute_result"
    }
   ],
   "source": [
    "# View the first five rows of the DataFrame to confirm the\n",
    "# conversion of the time column\n",
    "# YOUR CODE HERE\n",
    "df_tsla.head(5)"
   ]
  },
  {
   "cell_type": "code",
   "execution_count": 45,
   "metadata": {},
   "outputs": [
    {
     "name": "stdout",
     "output_type": "stream",
     "text": [
      "<class 'pandas.core.frame.DataFrame'>\n",
      "RangeIndex: 21279 entries, 0 to 21278\n",
      "Data columns (total 2 columns):\n",
      " #   Column  Non-Null Count  Dtype                        \n",
      "---  ------  --------------  -----                        \n",
      " 0   time    21279 non-null  datetime64[ns, Europe/Berlin]\n",
      " 1   close   21279 non-null  float64                      \n",
      "dtypes: datetime64[ns, Europe/Berlin](1), float64(1)\n",
      "memory usage: 332.6 KB\n"
     ]
    }
   ],
   "source": [
    "# Use the info function to confirm the change in the time zone\n",
    "# associated with the time column\n",
    "# YOUR CODE HERE\n",
    "df_tsla.info([\"time\"])"
   ]
  },
  {
   "cell_type": "code",
   "execution_count": null,
   "metadata": {},
   "outputs": [],
   "source": []
  }
 ],
 "metadata": {
  "kernelspec": {
   "display_name": "Python 3.7.13 ('dev')",
   "language": "python",
   "name": "python3"
  },
  "language_info": {
   "codemirror_mode": {
    "name": "ipython",
    "version": 3
   },
   "file_extension": ".py",
   "mimetype": "text/x-python",
   "name": "python",
   "nbconvert_exporter": "python",
   "pygments_lexer": "ipython3",
   "version": "3.7.13"
  },
  "vscode": {
   "interpreter": {
    "hash": "7631c39f756ee97fc32a5db05973838915965d11307db0fdf357e8b46bea8845"
   }
  }
 },
 "nbformat": 4,
 "nbformat_minor": 4
}
