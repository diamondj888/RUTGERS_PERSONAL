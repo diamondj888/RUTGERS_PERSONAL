{
 "cells": [
  {
   "cell_type": "markdown",
   "metadata": {},
   "source": [
    "# Demo: Analyzing Market Data Across Time"
   ]
  },
  {
   "cell_type": "code",
   "execution_count": 19,
   "metadata": {},
   "outputs": [],
   "source": [
    "#####\n",
    "#print(data.index) # confirm index is DateTimeIndex\n",
    "\n",
    "#data[start:end] # note end is currently inclusive, may change with python version\n",
    "\n",
    "#data[\"11/01/2021\":\"11/07/2021\"] # Range on dates, includes the last date\n",
    "\n",
    "#data[\"2021\":] # Select everything starting at 2021\n",
    "\n",
    "#data[:\"2021\"] # Select everthing ending on 12/31/2021\n",
    "        \n",
    "#data[\"2021\":\"2021\"] # Starts begenning 2021, ends at end of 2021 (1 year of data)\n",
    "\n",
    "#data[\"2021\":\"2022\"] # Starts begenning of 2021, ends at end of 2022\n",
    "\n",
    "# You can also use the index\n",
    "#data[data.index.year == 2021] # only 2021\n",
    "\n",
    "#data[data.index.year >= 2021] # Year 2021 and up\n",
    "\n",
    "#data[data.index.dayofweek == 0] # Select every monday\n",
    "\n",
    "#data[data.index.month == 12 & data.index.year = 2021] # December of 2021\n",
    "\n",
    "# Even date time objects\n",
    "#data[ ( pd.to_datetime('today') - pd.DateOffset(years=1) ) :]  # 1 Year from today and up\n",
    "\n",
    "#data[ ( pd.to_datetime('today') - pd.DateOffset(months=6) ) :] # 6 Months from today \n",
    "######\n"
   ]
  },
  {
   "cell_type": "code",
   "execution_count": 9,
   "metadata": {},
   "outputs": [],
   "source": [
    "# Initial imports\n",
    "import pandas as pd\n",
    "from pathlib import Path"
   ]
  },
  {
   "cell_type": "code",
   "execution_count": 10,
   "metadata": {},
   "outputs": [
    {
     "data": {
      "text/html": [
       "<div>\n",
       "<style scoped>\n",
       "    .dataframe tbody tr th:only-of-type {\n",
       "        vertical-align: middle;\n",
       "    }\n",
       "\n",
       "    .dataframe tbody tr th {\n",
       "        vertical-align: top;\n",
       "    }\n",
       "\n",
       "    .dataframe thead th {\n",
       "        text-align: right;\n",
       "    }\n",
       "</style>\n",
       "<table border=\"1\" class=\"dataframe\">\n",
       "  <thead>\n",
       "    <tr style=\"text-align: right;\">\n",
       "      <th></th>\n",
       "      <th>time</th>\n",
       "      <th>close</th>\n",
       "    </tr>\n",
       "  </thead>\n",
       "  <tbody>\n",
       "    <tr>\n",
       "      <th>0</th>\n",
       "      <td>2019-01-02 12:45:00+00:00</td>\n",
       "      <td>246.16</td>\n",
       "    </tr>\n",
       "    <tr>\n",
       "      <th>1</th>\n",
       "      <td>2019-01-02 13:00:00+00:00</td>\n",
       "      <td>246.15</td>\n",
       "    </tr>\n",
       "    <tr>\n",
       "      <th>2</th>\n",
       "      <td>2019-01-02 13:15:00+00:00</td>\n",
       "      <td>245.50</td>\n",
       "    </tr>\n",
       "    <tr>\n",
       "      <th>3</th>\n",
       "      <td>2019-01-02 13:30:00+00:00</td>\n",
       "      <td>245.71</td>\n",
       "    </tr>\n",
       "    <tr>\n",
       "      <th>4</th>\n",
       "      <td>2019-01-02 13:45:00+00:00</td>\n",
       "      <td>245.76</td>\n",
       "    </tr>\n",
       "  </tbody>\n",
       "</table>\n",
       "</div>"
      ],
      "text/plain": [
       "                        time   close\n",
       "0  2019-01-02 12:45:00+00:00  246.16\n",
       "1  2019-01-02 13:00:00+00:00  246.15\n",
       "2  2019-01-02 13:15:00+00:00  245.50\n",
       "3  2019-01-02 13:30:00+00:00  245.71\n",
       "4  2019-01-02 13:45:00+00:00  245.76"
      ]
     },
     "execution_count": 10,
     "metadata": {},
     "output_type": "execute_result"
    }
   ],
   "source": [
    "# Read the new S&P 500 CSV data into a DataFrame\n",
    "df_sp500 = pd.read_csv(\n",
    "    Path(\"../Resources/sp500.csv\")\n",
    ")\n",
    "\n",
    "# Display the DataFrame\n",
    "df_sp500.head()"
   ]
  },
  {
   "cell_type": "code",
   "execution_count": 11,
   "metadata": {},
   "outputs": [
    {
     "name": "stdout",
     "output_type": "stream",
     "text": [
      "<class 'pandas.core.frame.DataFrame'>\n",
      "RangeIndex: 9328 entries, 0 to 9327\n",
      "Data columns (total 2 columns):\n",
      " #   Column  Non-Null Count  Dtype                     \n",
      "---  ------  --------------  -----                     \n",
      " 0   time    9328 non-null   datetime64[ns, US/Eastern]\n",
      " 1   close   9328 non-null   float64                   \n",
      "dtypes: datetime64[ns, US/Eastern](1), float64(1)\n",
      "memory usage: 145.9 KB\n"
     ]
    }
   ],
   "source": [
    "# Transform time column to datetime\n",
    "df_sp500[\"time\"] = pd.to_datetime(\n",
    "    df_sp500[\"time\"],\n",
    "    infer_datetime_format=True,\n",
    "    utc=True\n",
    ")\n",
    "\n",
    "# Convert the time column to the US/Estern timezone\n",
    "df_sp500[\"time\"] = df_sp500[\"time\"].dt.tz_convert(\"US/Eastern\")\n",
    "\n",
    "# Verify data type transformation\n",
    "df_sp500.info()"
   ]
  },
  {
   "cell_type": "code",
   "execution_count": 12,
   "metadata": {},
   "outputs": [
    {
     "data": {
      "text/html": [
       "<div>\n",
       "<style scoped>\n",
       "    .dataframe tbody tr th:only-of-type {\n",
       "        vertical-align: middle;\n",
       "    }\n",
       "\n",
       "    .dataframe tbody tr th {\n",
       "        vertical-align: top;\n",
       "    }\n",
       "\n",
       "    .dataframe thead th {\n",
       "        text-align: right;\n",
       "    }\n",
       "</style>\n",
       "<table border=\"1\" class=\"dataframe\">\n",
       "  <thead>\n",
       "    <tr style=\"text-align: right;\">\n",
       "      <th></th>\n",
       "      <th>close</th>\n",
       "    </tr>\n",
       "    <tr>\n",
       "      <th>time</th>\n",
       "      <th></th>\n",
       "    </tr>\n",
       "  </thead>\n",
       "  <tbody>\n",
       "    <tr>\n",
       "      <th>2019-01-02 07:45:00-05:00</th>\n",
       "      <td>246.16</td>\n",
       "    </tr>\n",
       "    <tr>\n",
       "      <th>2019-01-02 08:00:00-05:00</th>\n",
       "      <td>246.15</td>\n",
       "    </tr>\n",
       "    <tr>\n",
       "      <th>2019-01-02 08:15:00-05:00</th>\n",
       "      <td>245.50</td>\n",
       "    </tr>\n",
       "    <tr>\n",
       "      <th>2019-01-02 08:30:00-05:00</th>\n",
       "      <td>245.71</td>\n",
       "    </tr>\n",
       "    <tr>\n",
       "      <th>2019-01-02 08:45:00-05:00</th>\n",
       "      <td>245.76</td>\n",
       "    </tr>\n",
       "  </tbody>\n",
       "</table>\n",
       "</div>"
      ],
      "text/plain": [
       "                            close\n",
       "time                             \n",
       "2019-01-02 07:45:00-05:00  246.16\n",
       "2019-01-02 08:00:00-05:00  246.15\n",
       "2019-01-02 08:15:00-05:00  245.50\n",
       "2019-01-02 08:30:00-05:00  245.71\n",
       "2019-01-02 08:45:00-05:00  245.76"
      ]
     },
     "execution_count": 12,
     "metadata": {},
     "output_type": "execute_result"
    }
   ],
   "source": [
    "# Set the time column as DataFrame index\n",
    "df_sp500 = df_sp500.set_index(\"time\")\n",
    "# Display the DataFrame\n",
    "df_sp500.head()\n"
   ]
  },
  {
   "cell_type": "code",
   "execution_count": 13,
   "metadata": {},
   "outputs": [
    {
     "name": "stdout",
     "output_type": "stream",
     "text": [
      "Int64Index([2019, 2019, 2019, 2019, 2019, 2019, 2019, 2019, 2019, 2019,\n",
      "            ...\n",
      "            2019, 2019, 2019, 2019, 2019, 2019, 2019, 2019, 2019, 2019],\n",
      "           dtype='int64', name='time', length=9328)\n",
      "Int64Index([ 1,  1,  1,  1,  1,  1,  1,  1,  1,  1,\n",
      "            ...\n",
      "            12, 12, 12, 12, 12, 12, 12, 12, 12, 12],\n",
      "           dtype='int64', name='time', length=9328)\n",
      "Int64Index([1, 1, 1, 1, 1, 1, 1, 1, 1, 1,\n",
      "            ...\n",
      "            4, 4, 4, 4, 4, 4, 4, 4, 4, 4],\n",
      "           dtype='int64', name='time', length=9328)\n"
     ]
    }
   ],
   "source": [
    "# Querying individual date and time components\n",
    "print(df_sp500.index.year)\n",
    "print(df_sp500.index.month)\n",
    "print(df_sp500.index.quarter)"
   ]
  },
  {
   "cell_type": "code",
   "execution_count": 14,
   "metadata": {},
   "outputs": [
    {
     "data": {
      "text/plain": [
       "<AxesSubplot:title={'center':'Historical S&P 500 Closing Prices'}, xlabel='time'>"
      ]
     },
     "execution_count": 14,
     "metadata": {},
     "output_type": "execute_result"
    },
    {
     "data": {
      "image/png": "[encoded data removed]",
      "text/plain": [
       "<Figure size 1440x720 with 1 Axes>"
      ]
     },
     "metadata": {
      "needs_background": "light"
     },
     "output_type": "display_data"
    }
   ],
   "source": [
    "# Plot the close column to examine the trend for closing prices\n",
    "df_sp500['close'].plot(\n",
    "    title=\"Historical S&P 500 Closing Prices\", \n",
    "    figsize=[20, 10]\n",
    ")"
   ]
  },
  {
   "cell_type": "code",
   "execution_count": 15,
   "metadata": {},
   "outputs": [
    {
     "data": {
      "text/html": [
       "<div>\n",
       "<style scoped>\n",
       "    .dataframe tbody tr th:only-of-type {\n",
       "        vertical-align: middle;\n",
       "    }\n",
       "\n",
       "    .dataframe tbody tr th {\n",
       "        vertical-align: top;\n",
       "    }\n",
       "\n",
       "    .dataframe thead th {\n",
       "        text-align: right;\n",
       "    }\n",
       "</style>\n",
       "<table border=\"1\" class=\"dataframe\">\n",
       "  <thead>\n",
       "    <tr style=\"text-align: right;\">\n",
       "      <th></th>\n",
       "      <th>close</th>\n",
       "    </tr>\n",
       "    <tr>\n",
       "      <th>time</th>\n",
       "      <th></th>\n",
       "    </tr>\n",
       "  </thead>\n",
       "  <tbody>\n",
       "    <tr>\n",
       "      <th>2019-06-06 07:00:00-04:00</th>\n",
       "      <td>283.83</td>\n",
       "    </tr>\n",
       "    <tr>\n",
       "      <th>2019-06-06 07:15:00-04:00</th>\n",
       "      <td>283.89</td>\n",
       "    </tr>\n",
       "    <tr>\n",
       "      <th>2019-06-06 07:30:00-04:00</th>\n",
       "      <td>283.79</td>\n",
       "    </tr>\n",
       "    <tr>\n",
       "      <th>2019-06-06 07:45:00-04:00</th>\n",
       "      <td>283.89</td>\n",
       "    </tr>\n",
       "    <tr>\n",
       "      <th>2019-06-06 08:00:00-04:00</th>\n",
       "      <td>283.70</td>\n",
       "    </tr>\n",
       "    <tr>\n",
       "      <th>2019-06-06 08:15:00-04:00</th>\n",
       "      <td>283.80</td>\n",
       "    </tr>\n",
       "    <tr>\n",
       "      <th>2019-06-06 08:30:00-04:00</th>\n",
       "      <td>283.34</td>\n",
       "    </tr>\n",
       "    <tr>\n",
       "      <th>2019-06-06 08:45:00-04:00</th>\n",
       "      <td>283.13</td>\n",
       "    </tr>\n",
       "    <tr>\n",
       "      <th>2019-06-06 09:00:00-04:00</th>\n",
       "      <td>283.20</td>\n",
       "    </tr>\n",
       "    <tr>\n",
       "      <th>2019-06-06 09:15:00-04:00</th>\n",
       "      <td>283.30</td>\n",
       "    </tr>\n",
       "    <tr>\n",
       "      <th>2019-06-06 09:30:00-04:00</th>\n",
       "      <td>283.29</td>\n",
       "    </tr>\n",
       "    <tr>\n",
       "      <th>2019-06-06 09:45:00-04:00</th>\n",
       "      <td>282.84</td>\n",
       "    </tr>\n",
       "    <tr>\n",
       "      <th>2019-06-06 10:00:00-04:00</th>\n",
       "      <td>283.13</td>\n",
       "    </tr>\n",
       "    <tr>\n",
       "      <th>2019-06-06 10:15:00-04:00</th>\n",
       "      <td>282.64</td>\n",
       "    </tr>\n",
       "    <tr>\n",
       "      <th>2019-06-06 10:30:00-04:00</th>\n",
       "      <td>283.36</td>\n",
       "    </tr>\n",
       "    <tr>\n",
       "      <th>2019-06-06 10:45:00-04:00</th>\n",
       "      <td>283.25</td>\n",
       "    </tr>\n",
       "    <tr>\n",
       "      <th>2019-06-06 11:00:00-04:00</th>\n",
       "      <td>283.58</td>\n",
       "    </tr>\n",
       "    <tr>\n",
       "      <th>2019-06-06 11:15:00-04:00</th>\n",
       "      <td>283.75</td>\n",
       "    </tr>\n",
       "    <tr>\n",
       "      <th>2019-06-06 11:30:00-04:00</th>\n",
       "      <td>283.38</td>\n",
       "    </tr>\n",
       "    <tr>\n",
       "      <th>2019-06-06 11:45:00-04:00</th>\n",
       "      <td>283.20</td>\n",
       "    </tr>\n",
       "  </tbody>\n",
       "</table>\n",
       "</div>"
      ],
      "text/plain": [
       "                            close\n",
       "time                             \n",
       "2019-06-06 07:00:00-04:00  283.83\n",
       "2019-06-06 07:15:00-04:00  283.89\n",
       "2019-06-06 07:30:00-04:00  283.79\n",
       "2019-06-06 07:45:00-04:00  283.89\n",
       "2019-06-06 08:00:00-04:00  283.70\n",
       "2019-06-06 08:15:00-04:00  283.80\n",
       "2019-06-06 08:30:00-04:00  283.34\n",
       "2019-06-06 08:45:00-04:00  283.13\n",
       "2019-06-06 09:00:00-04:00  283.20\n",
       "2019-06-06 09:15:00-04:00  283.30\n",
       "2019-06-06 09:30:00-04:00  283.29\n",
       "2019-06-06 09:45:00-04:00  282.84\n",
       "2019-06-06 10:00:00-04:00  283.13\n",
       "2019-06-06 10:15:00-04:00  282.64\n",
       "2019-06-06 10:30:00-04:00  283.36\n",
       "2019-06-06 10:45:00-04:00  283.25\n",
       "2019-06-06 11:00:00-04:00  283.58\n",
       "2019-06-06 11:15:00-04:00  283.75\n",
       "2019-06-06 11:30:00-04:00  283.38\n",
       "2019-06-06 11:45:00-04:00  283.20"
      ]
     },
     "execution_count": 15,
     "metadata": {},
     "output_type": "execute_result"
    }
   ],
   "source": [
    "# Pick a single date from the DataFrame\n",
    "# Display the first 20 rows\n",
    "df_sp500.loc[\"2019-06-06\"].head(20)"
   ]
  },
  {
   "cell_type": "code",
   "execution_count": 17,
   "metadata": {},
   "outputs": [
    {
     "data": {
      "text/html": [
       "<div>\n",
       "<style scoped>\n",
       "    .dataframe tbody tr th:only-of-type {\n",
       "        vertical-align: middle;\n",
       "    }\n",
       "\n",
       "    .dataframe tbody tr th {\n",
       "        vertical-align: top;\n",
       "    }\n",
       "\n",
       "    .dataframe thead th {\n",
       "        text-align: right;\n",
       "    }\n",
       "</style>\n",
       "<table border=\"1\" class=\"dataframe\">\n",
       "  <thead>\n",
       "    <tr style=\"text-align: right;\">\n",
       "      <th></th>\n",
       "      <th>close</th>\n",
       "    </tr>\n",
       "    <tr>\n",
       "      <th>time</th>\n",
       "      <th></th>\n",
       "    </tr>\n",
       "  </thead>\n",
       "  <tbody>\n",
       "    <tr>\n",
       "      <th>2019-06-06 07:00:00-04:00</th>\n",
       "      <td>283.83</td>\n",
       "    </tr>\n",
       "    <tr>\n",
       "      <th>2019-06-06 07:15:00-04:00</th>\n",
       "      <td>283.89</td>\n",
       "    </tr>\n",
       "    <tr>\n",
       "      <th>2019-06-06 07:30:00-04:00</th>\n",
       "      <td>283.79</td>\n",
       "    </tr>\n",
       "    <tr>\n",
       "      <th>2019-06-06 07:45:00-04:00</th>\n",
       "      <td>283.89</td>\n",
       "    </tr>\n",
       "    <tr>\n",
       "      <th>2019-06-06 08:00:00-04:00</th>\n",
       "      <td>283.70</td>\n",
       "    </tr>\n",
       "    <tr>\n",
       "      <th>2019-06-06 08:15:00-04:00</th>\n",
       "      <td>283.80</td>\n",
       "    </tr>\n",
       "    <tr>\n",
       "      <th>2019-06-06 08:30:00-04:00</th>\n",
       "      <td>283.34</td>\n",
       "    </tr>\n",
       "    <tr>\n",
       "      <th>2019-06-06 08:45:00-04:00</th>\n",
       "      <td>283.13</td>\n",
       "    </tr>\n",
       "    <tr>\n",
       "      <th>2019-06-06 09:00:00-04:00</th>\n",
       "      <td>283.20</td>\n",
       "    </tr>\n",
       "    <tr>\n",
       "      <th>2019-06-06 09:15:00-04:00</th>\n",
       "      <td>283.30</td>\n",
       "    </tr>\n",
       "    <tr>\n",
       "      <th>2019-06-06 09:30:00-04:00</th>\n",
       "      <td>283.29</td>\n",
       "    </tr>\n",
       "  </tbody>\n",
       "</table>\n",
       "</div>"
      ],
      "text/plain": [
       "                            close\n",
       "time                             \n",
       "2019-06-06 07:00:00-04:00  283.83\n",
       "2019-06-06 07:15:00-04:00  283.89\n",
       "2019-06-06 07:30:00-04:00  283.79\n",
       "2019-06-06 07:45:00-04:00  283.89\n",
       "2019-06-06 08:00:00-04:00  283.70\n",
       "2019-06-06 08:15:00-04:00  283.80\n",
       "2019-06-06 08:30:00-04:00  283.34\n",
       "2019-06-06 08:45:00-04:00  283.13\n",
       "2019-06-06 09:00:00-04:00  283.20\n",
       "2019-06-06 09:15:00-04:00  283.30\n",
       "2019-06-06 09:30:00-04:00  283.29"
      ]
     },
     "execution_count": 17,
     "metadata": {},
     "output_type": "execute_result"
    }
   ],
   "source": [
    "# Picking specific times from a datetime range\n",
    "df_sp500.loc[\"2019-06-06 07:00:00\":\"2019-06-06 9:30:00\"]"
   ]
  },
  {
   "cell_type": "code",
   "execution_count": null,
   "metadata": {},
   "outputs": [],
   "source": [
    "# Plotting pre-market hours trading (7:00 am - 9:30 am)\n"
   ]
  },
  {
   "cell_type": "code",
   "execution_count": null,
   "metadata": {},
   "outputs": [],
   "source": [
    "# When the stock market opens there is usually an initial push in one direction\n"
   ]
  },
  {
   "cell_type": "code",
   "execution_count": null,
   "metadata": {},
   "outputs": [],
   "source": [
    "# Closing prices during lunch time\n"
   ]
  },
  {
   "cell_type": "code",
   "execution_count": null,
   "metadata": {},
   "outputs": [],
   "source": [
    "# Closing prices just a little over an hour before market close\n"
   ]
  },
  {
   "cell_type": "code",
   "execution_count": null,
   "metadata": {},
   "outputs": [],
   "source": [
    "# Closing prices thirty minutes before market closes\n"
   ]
  },
  {
   "cell_type": "code",
   "execution_count": null,
   "metadata": {},
   "outputs": [],
   "source": []
  },
  {
   "cell_type": "code",
   "execution_count": null,
   "metadata": {},
   "outputs": [],
   "source": []
  }
 ],
 "metadata": {
  "kernelspec": {
   "display_name": "Python 3.7.13 ('dev')",
   "language": "python",
   "name": "python3"
  },
  "language_info": {
   "codemirror_mode": {
    "name": "ipython",
    "version": 3
   },
   "file_extension": ".py",
   "mimetype": "text/x-python",
   "name": "python",
   "nbconvert_exporter": "python",
   "pygments_lexer": "ipython3",
   "version": "3.7.13"
  },
  "vscode": {
   "interpreter": {
    "hash": "7631c39f756ee97fc32a5db05973838915965d11307db0fdf357e8b46bea8845"
   }
  }
 },
 "nbformat": 4,
 "nbformat_minor": 4
}
