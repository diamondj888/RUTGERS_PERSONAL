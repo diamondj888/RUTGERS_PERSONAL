{
 "cells": [
  {
   "cell_type": "markdown",
   "metadata": {},
   "source": [
    "# Demo: Identifying Patterned Relationships and Correlation"
   ]
  },
  {
   "cell_type": "code",
   "execution_count": 26,
   "metadata": {},
   "outputs": [],
   "source": [
    "# Initial imports\n",
    "import numpy as np\n",
    "import pandas as pd\n",
    "import hvplot.pandas\n",
    "from pathlib import Path"
   ]
  },
  {
   "cell_type": "markdown",
   "metadata": {},
   "source": [
    "## Loading Time Series Data Into a DataFrame"
   ]
  },
  {
   "cell_type": "code",
   "execution_count": 27,
   "metadata": {},
   "outputs": [],
   "source": [
    "# Set the file path\n",
    "file_path = Path(\"../Resources/national-home-sales.csv\")"
   ]
  },
  {
   "cell_type": "code",
   "execution_count": 28,
   "metadata": {},
   "outputs": [],
   "source": [
    "# Load time series data into Pandas\n",
    "df_home_sales = pd.read_csv(\n",
    "    file_path,\n",
    "    index_col=\"period_end_date\",\n",
    "    parse_dates=True\n",
    ")"
   ]
  },
  {
   "cell_type": "code",
   "execution_count": 29,
   "metadata": {},
   "outputs": [
    {
     "data": {
      "text/html": [
       "<div>\n",
       "<style scoped>\n",
       "    .dataframe tbody tr th:only-of-type {\n",
       "        vertical-align: middle;\n",
       "    }\n",
       "\n",
       "    .dataframe tbody tr th {\n",
       "        vertical-align: top;\n",
       "    }\n",
       "\n",
       "    .dataframe thead th {\n",
       "        text-align: right;\n",
       "    }\n",
       "</style>\n",
       "<table border=\"1\" class=\"dataframe\">\n",
       "  <thead>\n",
       "    <tr style=\"text-align: right;\">\n",
       "      <th></th>\n",
       "      <th>inventory</th>\n",
       "      <th>homes_sold</th>\n",
       "      <th>median_sale_price</th>\n",
       "    </tr>\n",
       "    <tr>\n",
       "      <th>period_end_date</th>\n",
       "      <th></th>\n",
       "      <th></th>\n",
       "      <th></th>\n",
       "    </tr>\n",
       "  </thead>\n",
       "  <tbody>\n",
       "    <tr>\n",
       "      <th>2020-01-01</th>\n",
       "      <td>1250798</td>\n",
       "      <td>377964</td>\n",
       "      <td>289000</td>\n",
       "    </tr>\n",
       "    <tr>\n",
       "      <th>2020-02-01</th>\n",
       "      <td>1265253</td>\n",
       "      <td>405992</td>\n",
       "      <td>294000</td>\n",
       "    </tr>\n",
       "    <tr>\n",
       "      <th>2020-03-01</th>\n",
       "      <td>1316823</td>\n",
       "      <td>507324</td>\n",
       "      <td>303000</td>\n",
       "    </tr>\n",
       "    <tr>\n",
       "      <th>2020-04-01</th>\n",
       "      <td>1297460</td>\n",
       "      <td>436855</td>\n",
       "      <td>304000</td>\n",
       "    </tr>\n",
       "    <tr>\n",
       "      <th>2020-05-01</th>\n",
       "      <td>1289500</td>\n",
       "      <td>421351</td>\n",
       "      <td>299000</td>\n",
       "    </tr>\n",
       "    <tr>\n",
       "      <th>2020-06-01</th>\n",
       "      <td>1219863</td>\n",
       "      <td>587635</td>\n",
       "      <td>310000</td>\n",
       "    </tr>\n",
       "    <tr>\n",
       "      <th>2020-07-01</th>\n",
       "      <td>1165359</td>\n",
       "      <td>700733</td>\n",
       "      <td>323000</td>\n",
       "    </tr>\n",
       "    <tr>\n",
       "      <th>2020-08-01</th>\n",
       "      <td>1066903</td>\n",
       "      <td>652878</td>\n",
       "      <td>328000</td>\n",
       "    </tr>\n",
       "    <tr>\n",
       "      <th>2012-02-01</th>\n",
       "      <td>2078931</td>\n",
       "      <td>304737</td>\n",
       "      <td>160000</td>\n",
       "    </tr>\n",
       "    <tr>\n",
       "      <th>2012-03-01</th>\n",
       "      <td>2120173</td>\n",
       "      <td>394034</td>\n",
       "      <td>171000</td>\n",
       "    </tr>\n",
       "  </tbody>\n",
       "</table>\n",
       "</div>"
      ],
      "text/plain": [
       "                 inventory  homes_sold  median_sale_price\n",
       "period_end_date                                          \n",
       "2020-01-01         1250798      377964             289000\n",
       "2020-02-01         1265253      405992             294000\n",
       "2020-03-01         1316823      507324             303000\n",
       "2020-04-01         1297460      436855             304000\n",
       "2020-05-01         1289500      421351             299000\n",
       "2020-06-01         1219863      587635             310000\n",
       "2020-07-01         1165359      700733             323000\n",
       "2020-08-01         1066903      652878             328000\n",
       "2012-02-01         2078931      304737             160000\n",
       "2012-03-01         2120173      394034             171000"
      ]
     },
     "execution_count": 29,
     "metadata": {},
     "output_type": "execute_result"
    }
   ],
   "source": [
    "# Display sample data\n",
    "df_home_sales.head(10)"
   ]
  },
  {
   "cell_type": "code",
   "execution_count": 30,
   "metadata": {},
   "outputs": [
    {
     "data": {
      "text/html": [
       "<div>\n",
       "<style scoped>\n",
       "    .dataframe tbody tr th:only-of-type {\n",
       "        vertical-align: middle;\n",
       "    }\n",
       "\n",
       "    .dataframe tbody tr th {\n",
       "        vertical-align: top;\n",
       "    }\n",
       "\n",
       "    .dataframe thead th {\n",
       "        text-align: right;\n",
       "    }\n",
       "</style>\n",
       "<table border=\"1\" class=\"dataframe\">\n",
       "  <thead>\n",
       "    <tr style=\"text-align: right;\">\n",
       "      <th></th>\n",
       "      <th>inventory</th>\n",
       "      <th>homes_sold</th>\n",
       "      <th>median_sale_price</th>\n",
       "    </tr>\n",
       "    <tr>\n",
       "      <th>period_end_date</th>\n",
       "      <th></th>\n",
       "      <th></th>\n",
       "      <th></th>\n",
       "    </tr>\n",
       "  </thead>\n",
       "  <tbody>\n",
       "    <tr>\n",
       "      <th>2012-02-01</th>\n",
       "      <td>2078931</td>\n",
       "      <td>304737</td>\n",
       "      <td>160000</td>\n",
       "    </tr>\n",
       "    <tr>\n",
       "      <th>2012-03-01</th>\n",
       "      <td>2120173</td>\n",
       "      <td>394034</td>\n",
       "      <td>171000</td>\n",
       "    </tr>\n",
       "    <tr>\n",
       "      <th>2012-04-01</th>\n",
       "      <td>2155803</td>\n",
       "      <td>404927</td>\n",
       "      <td>178000</td>\n",
       "    </tr>\n",
       "    <tr>\n",
       "      <th>2012-05-01</th>\n",
       "      <td>2163303</td>\n",
       "      <td>464281</td>\n",
       "      <td>186000</td>\n",
       "    </tr>\n",
       "    <tr>\n",
       "      <th>2012-06-01</th>\n",
       "      <td>2145658</td>\n",
       "      <td>487959</td>\n",
       "      <td>194000</td>\n",
       "    </tr>\n",
       "    <tr>\n",
       "      <th>2012-07-01</th>\n",
       "      <td>2109202</td>\n",
       "      <td>451243</td>\n",
       "      <td>192000</td>\n",
       "    </tr>\n",
       "    <tr>\n",
       "      <th>2012-08-01</th>\n",
       "      <td>2048712</td>\n",
       "      <td>485480</td>\n",
       "      <td>190000</td>\n",
       "    </tr>\n",
       "    <tr>\n",
       "      <th>2012-09-01</th>\n",
       "      <td>2010080</td>\n",
       "      <td>392397</td>\n",
       "      <td>187000</td>\n",
       "    </tr>\n",
       "    <tr>\n",
       "      <th>2012-10-01</th>\n",
       "      <td>1936114</td>\n",
       "      <td>423079</td>\n",
       "      <td>185000</td>\n",
       "    </tr>\n",
       "    <tr>\n",
       "      <th>2012-11-01</th>\n",
       "      <td>1823542</td>\n",
       "      <td>398471</td>\n",
       "      <td>189000</td>\n",
       "    </tr>\n",
       "  </tbody>\n",
       "</table>\n",
       "</div>"
      ],
      "text/plain": [
       "                 inventory  homes_sold  median_sale_price\n",
       "period_end_date                                          \n",
       "2012-02-01         2078931      304737             160000\n",
       "2012-03-01         2120173      394034             171000\n",
       "2012-04-01         2155803      404927             178000\n",
       "2012-05-01         2163303      464281             186000\n",
       "2012-06-01         2145658      487959             194000\n",
       "2012-07-01         2109202      451243             192000\n",
       "2012-08-01         2048712      485480             190000\n",
       "2012-09-01         2010080      392397             187000\n",
       "2012-10-01         1936114      423079             185000\n",
       "2012-11-01         1823542      398471             189000"
      ]
     },
     "execution_count": 30,
     "metadata": {},
     "output_type": "execute_result"
    }
   ],
   "source": [
    "# Sort the DataFrame index in ascending order\n",
    "df_home_sales = df_home_sales.sort_index()\n",
    "\n",
    "# Display sample data\n",
    "df_home_sales.head(10)"
   ]
  },
  {
   "cell_type": "markdown",
   "metadata": {},
   "source": [
    "## Identifying Seasonal Patterns"
   ]
  },
  {
   "cell_type": "code",
   "execution_count": 32,
   "metadata": {},
   "outputs": [
    {
     "data": {},
     "metadata": {},
     "output_type": "display_data"
    },
    {
     "data": {
      "application/vnd.holoviews_exec.v0+json": "",
      "text/html": [
       "<div id='1002'>\n",
       "  <div class=\"bk-root\" id=\"63ffcb41-520d-4143-8a8d-87c13ec50b80\" data-root-id=\"1002\"></div>\n",
       "</div>\n",
       "<script type=\"application/javascript\">(function(root) {\n",
       "  function embed_document(root) {\n",
       "    var docs_json = {\"b8fcae0f-9446-44a0-9026-39cab3641829\":{\"defs\":[{\"extends\":null,\"module\":null,\"name\":\"ReactiveHTML1\",\"overrides\":[],\"properties\":[]},{\"extends\":null,\"module\":null,\"name\":\"FlexBox1\",\"overrides\":[],\"properties\":[{\"default\":\"flex-start\",\"kind\":null,\"name\":\"align_content\"},{\"default\":\"flex-start\",\"kind\":null,\"name\":\"align_items\"},{\"default\":\"row\",\"kind\":null,\"name\":\"flex_direction\"},{\"default\":\"wrap\",\"kind\":null,\"name\":\"flex_wrap\"},{\"default\":\"flex-start\",\"kind\":null,\"name\":\"justify_content\"}]},{\"extends\":null,\"module\":null,\"name\":\"GridStack1\",\"overrides\":[],\"properties\":[{\"default\":\"warn\",\"kind\":null,\"name\":\"mode\"},{\"default\":null,\"kind\":null,\"name\":\"ncols\"},{\"default\":null,\"kind\":null,\"name\":\"nrows\"},{\"default\":true,\"kind\":null,\"name\":\"allow_resize\"},{\"default\":true,\"kind\":null,\"name\":\"allow_drag\"},{\"default\":[],\"kind\":null,\"name\":\"state\"}]},{\"extends\":null,\"module\":null,\"name\":\"click1\",\"overrides\":[],\"properties\":[{\"default\":\"\",\"kind\":null,\"name\":\"terminal_output\"},{\"default\":\"\",\"kind\":null,\"name\":\"debug_name\"},{\"default\":0,\"kind\":null,\"name\":\"clears\"}]},{\"extends\":null,\"module\":null,\"name\":\"NotificationAreaBase1\",\"overrides\":[],\"properties\":[{\"default\":\"bottom-right\",\"kind\":null,\"name\":\"position\"},{\"default\":0,\"kind\":null,\"name\":\"_clear\"}]},{\"extends\":null,\"module\":null,\"name\":\"NotificationArea1\",\"overrides\":[],\"properties\":[{\"default\":[],\"kind\":null,\"name\":\"notifications\"},{\"default\":\"bottom-right\",\"kind\":null,\"name\":\"position\"},{\"default\":0,\"kind\":null,\"name\":\"_clear\"},{\"default\":[{\"background\":\"#ffc107\",\"icon\":{\"className\":\"fas fa-exclamation-triangle\",\"color\":\"white\",\"tagName\":\"i\"},\"type\":\"warning\"},{\"background\":\"#007bff\",\"icon\":{\"className\":\"fas fa-info-circle\",\"color\":\"white\",\"tagName\":\"i\"},\"type\":\"info\"}],\"kind\":null,\"name\":\"types\"}]},{\"extends\":null,\"module\":null,\"name\":\"Notification\",\"overrides\":[],\"properties\":[{\"default\":null,\"kind\":null,\"name\":\"background\"},{\"default\":3000,\"kind\":null,\"name\":\"duration\"},{\"default\":null,\"kind\":null,\"name\":\"icon\"},{\"default\":\"\",\"kind\":null,\"name\":\"message\"},{\"default\":null,\"kind\":null,\"name\":\"notification_type\"},{\"default\":false,\"kind\":null,\"name\":\"_destroyed\"}]},{\"extends\":null,\"module\":null,\"name\":\"TemplateActions1\",\"overrides\":[],\"properties\":[{\"default\":0,\"kind\":null,\"name\":\"open_modal\"},{\"default\":0,\"kind\":null,\"name\":\"close_modal\"}]},{\"extends\":null,\"module\":null,\"name\":\"MaterialTemplateActions1\",\"overrides\":[],\"properties\":[{\"default\":0,\"kind\":null,\"name\":\"open_modal\"},{\"default\":0,\"kind\":null,\"name\":\"close_modal\"}]}],\"roots\":{\"references\":[{\"attributes\":{\"margin\":[5,5,5,5],\"name\":\"HSpacer01729\",\"sizing_mode\":\"stretch_width\"},\"id\":\"1356\",\"type\":\"Spacer\"},{\"attributes\":{\"below\":[{\"id\":\"1018\"}],\"center\":[{\"id\":\"1021\"},{\"id\":\"1025\"}],\"height\":300,\"left\":[{\"id\":\"1022\"}],\"margin\":[5,5,5,5],\"min_border_bottom\":10,\"min_border_left\":10,\"min_border_right\":10,\"min_border_top\":10,\"renderers\":[{\"id\":\"1051\"},{\"id\":\"1084\"},{\"id\":\"1118\"}],\"right\":[{\"id\":\"1075\"}],\"sizing_mode\":\"fixed\",\"title\":{\"id\":\"1010\"},\"toolbar\":{\"id\":\"1032\"},\"width\":700,\"x_range\":{\"id\":\"1004\"},\"x_scale\":{\"id\":\"1014\"},\"y_range\":{\"id\":\"1005\"},\"y_scale\":{\"id\":\"1016\"}},\"id\":\"1009\",\"subtype\":\"Figure\",\"type\":\"Plot\"},{\"attributes\":{\"days\":[1,8,15,22]},\"id\":\"1068\",\"type\":\"DaysTicker\"},{\"attributes\":{},\"id\":\"1028\",\"type\":\"WheelZoomTool\"},{\"attributes\":{\"days\":[1,15]},\"id\":\"1069\",\"type\":\"DaysTicker\"},{\"attributes\":{\"source\":{\"id\":\"1112\"}},\"id\":\"1119\",\"type\":\"CDSView\"},{\"attributes\":{\"months\":[0,1,2,3,4,5,6,7,8,9,10,11]},\"id\":\"1070\",\"type\":\"MonthsTicker\"},{\"attributes\":{\"axis\":{\"id\":\"1018\"},\"coordinates\":null,\"grid_line_color\":null,\"group\":null,\"ticker\":null},\"id\":\"1021\",\"type\":\"Grid\"},{\"attributes\":{\"callback\":null,\"formatters\":{\"@{period_end_date}\":\"datetime\"},\"renderers\":[{\"id\":\"1051\"},{\"id\":\"1084\"},{\"id\":\"1118\"}],\"tags\":[\"hv_created\"],\"tooltips\":[[\"Variable\",\"@{Variable}\"],[\"period_end_date\",\"@{period_end_date}{%F %T}\"],[\"value\",\"@{value}\"]]},\"id\":\"1006\",\"type\":\"HoverTool\"},{\"attributes\":{\"months\":[0,2,4,6,8,10]},\"id\":\"1071\",\"type\":\"MonthsTicker\"},{\"attributes\":{\"margin\":[5,5,5,5],\"name\":\"HSpacer01728\",\"sizing_mode\":\"stretch_width\"},\"id\":\"1003\",\"type\":\"Spacer\"},{\"attributes\":{\"end\":1596240000000.0,\"reset_end\":1596240000000.0,\"reset_start\":1328054400000.0,\"start\":1328054400000.0,\"tags\":[[[\"period_end_date\",\"period_end_date\",null]]]},\"id\":\"1004\",\"type\":\"Range1d\"},{\"attributes\":{\"months\":[0,4,8]},\"id\":\"1072\",\"type\":\"MonthsTicker\"},{\"attributes\":{},\"id\":\"1044\",\"type\":\"AllLabels\"},{\"attributes\":{},\"id\":\"1040\",\"type\":\"DatetimeTickFormatter\"},{\"attributes\":{\"months\":[0,6]},\"id\":\"1073\",\"type\":\"MonthsTicker\"},{\"attributes\":{\"source\":{\"id\":\"1078\"}},\"id\":\"1085\",\"type\":\"CDSView\"},{\"attributes\":{},\"id\":\"1074\",\"type\":\"YearsTicker\"},{\"attributes\":{\"coordinates\":null,\"data_source\":{\"id\":\"1045\"},\"glyph\":{\"id\":\"1048\"},\"group\":null,\"hover_glyph\":null,\"muted_glyph\":{\"id\":\"1050\"},\"nonselection_glyph\":{\"id\":\"1049\"},\"selection_glyph\":{\"id\":\"1077\"},\"view\":{\"id\":\"1052\"}},\"id\":\"1051\",\"type\":\"GlyphRenderer\"},{\"attributes\":{},\"id\":\"1095\",\"type\":\"UnionRenderers\"},{\"attributes\":{\"line_color\":\"#fc4f30\",\"line_width\":2,\"x\":{\"field\":\"period_end_date\"},\"y\":{\"field\":\"value\"}},\"id\":\"1081\",\"type\":\"Line\"},{\"attributes\":{\"base\":60,\"mantissas\":[1,2,5,10,15,20,30],\"max_interval\":1800000.0,\"min_interval\":1000.0,\"num_minor_ticks\":0},\"id\":\"1064\",\"type\":\"AdaptiveTicker\"},{\"attributes\":{\"line_color\":\"#30a2da\",\"line_width\":2,\"x\":{\"field\":\"period_end_date\"},\"y\":{\"field\":\"value\"}},\"id\":\"1077\",\"type\":\"Line\"},{\"attributes\":{\"mantissas\":[1,2,5],\"max_interval\":500.0,\"num_minor_ticks\":0},\"id\":\"1063\",\"type\":\"AdaptiveTicker\"},{\"attributes\":{\"data\":{\"Variable\":[\"inventory\",\"inventory\",\"inventory\",\"inventory\",\"inventory\",\"inventory\",\"inventory\",\"inventory\",\"inventory\",\"inventory\",\"inventory\",\"inventory\",\"inventory\",\"inventory\",\"inventory\",\"inventory\",\"inventory\",\"inventory\",\"inventory\",\"inventory\",\"inventory\",\"inventory\",\"inventory\",\"inventory\",\"inventory\",\"inventory\",\"inventory\",\"inventory\",\"inventory\",\"inventory\",\"inventory\",\"inventory\",\"inventory\",\"inventory\",\"inventory\",\"inventory\",\"inventory\",\"inventory\",\"inventory\",\"inventory\",\"inventory\",\"inventory\",\"inventory\",\"inventory\",\"inventory\",\"inventory\",\"inventory\",\"inventory\",\"inventory\",\"inventory\",\"inventory\",\"inventory\",\"inventory\",\"inventory\",\"inventory\",\"inventory\",\"inventory\",\"inventory\",\"inventory\",\"inventory\",\"inventory\",\"inventory\",\"inventory\",\"inventory\",\"inventory\",\"inventory\",\"inventory\",\"inventory\",\"inventory\",\"inventory\",\"inventory\",\"inventory\",\"inventory\",\"inventory\",\"inventory\",\"inventory\",\"inventory\",\"inventory\",\"inventory\",\"inventory\",\"inventory\",\"inventory\",\"inventory\",\"inventory\",\"inventory\",\"inventory\",\"inventory\",\"inventory\",\"inventory\",\"inventory\",\"inventory\",\"inventory\",\"inventory\",\"inventory\",\"inventory\",\"inventory\",\"inventory\",\"inventory\",\"inventory\",\"inventory\",\"inventory\",\"inventory\",\"inventory\"],\"period_end_date\":{\"__ndarray__\":\"AABAX2NTc0IAAADmuFxzQgAAQDizZnNCAADAJFtwc0IAAAB3VXpzQgAAgGP9g3NCAADAtfeNc0IAAAAI8pdzQgAAgPSZoXNCAADARpSrc0IAAEAzPLVzQgAAgIU2v3NCAADA1zDJc0IAAMD4M9JzQgAAAEsu3HNCAACAN9blc0IAAMCJ0O9zQgAAQHZ4+XNCAACAyHIDdEIAAMAabQ10QgAAQAcVF3RCAACAWQ8hdEIAAABGtyp0QgAAQJixNHRCAACA6qs+dEIAAIALr0d0QgAAwF2pUXRCAABASlFbdEIAAICcS2V0QgAAAInzbnRCAABA2+14dEIAAIAt6IJ0QgAAABqQjHRCAABAbIqWdEIAAMBYMqB0QgAAAKssqnRCAABA/Sa0dEIAAEAeKr10QgAAgHAkx3RCAAAAXczQdEIAAECvxtp0QgAAwJtu5HRCAAAA7mjudEIAAEBAY/h0QgAAwCwLAnVCAAAAfwUMdUIAAIBrrRV1QgAAwL2nH3VCAAAAEKIpdUIAAMCW9zJ1QgAAAOnxPHVCAACA1ZlGdUIAAMAnlFB1QgAAQBQ8WnVCAACAZjZkdUIAAMC4MG51QgAAQKXYd3VCAACA99KBdUIAAADkeot1QgAAQDZ1lXVCAACAiG+fdUIAAICpcqh1QgAAwPtssnVCAABA6BS8dUIAAIA6D8Z1QgAAACe3z3VCAABAebHZdUIAAIDLq+N1QgAAALhT7XVCAABACk73dUIAAMD29QB2QgAAAEnwCnZCAABAm+oUdkIAAEC87R12QgAAgA7oJ3ZCAAAA+48xdkIAAEBNijt2QgAAwDkyRXZCAAAAjCxPdkIAAEDeJll2QgAAwMrOYnZCAAAAHclsdkIAAIAJcXZ2QgAAwFtrgHZCAAAArmWKdkIAAADPaJN2QgAAQCFjnXZCAADADQundkIAAABgBbF2QgAAgEytunZCAADAnqfEdkIAAADxoc52QgAAgN1J2HZCAADAL0TidkIAAEAc7Ot2QgAAgG7m9XZCAADAwOD/dkIAAIBHNgl3QgAAwJkwE3dCAABAhtgcd0IAAIDY0iZ3QgAAAMV6MHdCAABAF3U6d0I=\",\"dtype\":\"float64\",\"order\":\"little\",\"shape\":[103]},\"value\":[2078931,2120173,2155803,2163303,2145658,2109202,2048712,2010080,1936114,1823542,1666931,1680276,1715241,1758071,1842873,1911782,1953106,1983624,1984408,1990299,1963663,1863258,1698019,1713791,1748964,1820559,1889755,1963564,2040323,2114760,2104706,2090802,2030677,1905627,1734475,1738614,1751581,1811084,1925430,2011729,2047119,2062443,2032207,2002245,1930467,1803188,1615706,1604314,1639331,1719652,1793818,1831656,1871580,1890218,1850571,1830744,1746324,1611721,1426958,1415212,1446179,1522912,1586017,1645405,1704387,1716298,1696710,1676769,1606239,1479362,1299249,1286362,1327008,1385696,1465347,1570615,1645582,1668224,1691330,1711008,1679657,1577743,1406298,1421187,1439784,1494395,1563284,1657511,1696761,1681451,1660309,1651469,1598498,1459546,1260286,1250798,1265253,1316823,1297460,1289500,1219863,1165359,1066903]},\"selected\":{\"id\":\"1046\"},\"selection_policy\":{\"id\":\"1060\"}},\"id\":\"1045\",\"type\":\"ColumnDataSource\"},{\"attributes\":{\"line_alpha\":0.2,\"line_color\":\"#fc4f30\",\"line_width\":2,\"x\":{\"field\":\"period_end_date\"},\"y\":{\"field\":\"value\"}},\"id\":\"1083\",\"type\":\"Line\"},{\"attributes\":{\"line_alpha\":0.1,\"line_color\":\"#fc4f30\",\"line_width\":2,\"x\":{\"field\":\"period_end_date\"},\"y\":{\"field\":\"value\"}},\"id\":\"1082\",\"type\":\"Line\"},{\"attributes\":{},\"id\":\"1023\",\"type\":\"BasicTicker\"},{\"attributes\":{\"label\":{\"value\":\"homes_sold\"},\"renderers\":[{\"id\":\"1084\"}]},\"id\":\"1110\",\"type\":\"LegendItem\"},{\"attributes\":{},\"id\":\"1043\",\"type\":\"BasicTickFormatter\"},{\"attributes\":{},\"id\":\"1046\",\"type\":\"Selection\"},{\"attributes\":{},\"id\":\"1079\",\"type\":\"Selection\"},{\"attributes\":{\"axis\":{\"id\":\"1022\"},\"coordinates\":null,\"dimension\":1,\"grid_line_color\":null,\"group\":null,\"ticker\":null},\"id\":\"1025\",\"type\":\"Grid\"},{\"attributes\":{\"data\":{\"Variable\":[\"homes_sold\",\"homes_sold\",\"homes_sold\",\"homes_sold\",\"homes_sold\",\"homes_sold\",\"homes_sold\",\"homes_sold\",\"homes_sold\",\"homes_sold\",\"homes_sold\",\"homes_sold\",\"homes_sold\",\"homes_sold\",\"homes_sold\",\"homes_sold\",\"homes_sold\",\"homes_sold\",\"homes_sold\",\"homes_sold\",\"homes_sold\",\"homes_sold\",\"homes_sold\",\"homes_sold\",\"homes_sold\",\"homes_sold\",\"homes_sold\",\"homes_sold\",\"homes_sold\",\"homes_sold\",\"homes_sold\",\"homes_sold\",\"homes_sold\",\"homes_sold\",\"homes_sold\",\"homes_sold\",\"homes_sold\",\"homes_sold\",\"homes_sold\",\"homes_sold\",\"homes_sold\",\"homes_sold\",\"homes_sold\",\"homes_sold\",\"homes_sold\",\"homes_sold\",\"homes_sold\",\"homes_sold\",\"homes_sold\",\"homes_sold\",\"homes_sold\",\"homes_sold\",\"homes_sold\",\"homes_sold\",\"homes_sold\",\"homes_sold\",\"homes_sold\",\"homes_sold\",\"homes_sold\",\"homes_sold\",\"homes_sold\",\"homes_sold\",\"homes_sold\",\"homes_sold\",\"homes_sold\",\"homes_sold\",\"homes_sold\",\"homes_sold\",\"homes_sold\",\"homes_sold\",\"homes_sold\",\"homes_sold\",\"homes_sold\",\"homes_sold\",\"homes_sold\",\"homes_sold\",\"homes_sold\",\"homes_sold\",\"homes_sold\",\"homes_sold\",\"homes_sold\",\"homes_sold\",\"homes_sold\",\"homes_sold\",\"homes_sold\",\"homes_sold\",\"homes_sold\",\"homes_sold\",\"homes_sold\",\"homes_sold\",\"homes_sold\",\"homes_sold\",\"homes_sold\",\"homes_sold\",\"homes_sold\",\"homes_sold\",\"homes_sold\",\"homes_sold\",\"homes_sold\",\"homes_sold\",\"homes_sold\",\"homes_sold\",\"homes_sold\"],\"period_end_date\":{\"__ndarray__\":\"AABAX2NTc0IAAADmuFxzQgAAQDizZnNCAADAJFtwc0IAAAB3VXpzQgAAgGP9g3NCAADAtfeNc0IAAAAI8pdzQgAAgPSZoXNCAADARpSrc0IAAEAzPLVzQgAAgIU2v3NCAADA1zDJc0IAAMD4M9JzQgAAAEsu3HNCAACAN9blc0IAAMCJ0O9zQgAAQHZ4+XNCAACAyHIDdEIAAMAabQ10QgAAQAcVF3RCAACAWQ8hdEIAAABGtyp0QgAAQJixNHRCAACA6qs+dEIAAIALr0d0QgAAwF2pUXRCAABASlFbdEIAAICcS2V0QgAAAInzbnRCAABA2+14dEIAAIAt6IJ0QgAAABqQjHRCAABAbIqWdEIAAMBYMqB0QgAAAKssqnRCAABA/Sa0dEIAAEAeKr10QgAAgHAkx3RCAAAAXczQdEIAAECvxtp0QgAAwJtu5HRCAAAA7mjudEIAAEBAY/h0QgAAwCwLAnVCAAAAfwUMdUIAAIBrrRV1QgAAwL2nH3VCAAAAEKIpdUIAAMCW9zJ1QgAAAOnxPHVCAACA1ZlGdUIAAMAnlFB1QgAAQBQ8WnVCAACAZjZkdUIAAMC4MG51QgAAQKXYd3VCAACA99KBdUIAAADkeot1QgAAQDZ1lXVCAACAiG+fdUIAAICpcqh1QgAAwPtssnVCAABA6BS8dUIAAIA6D8Z1QgAAACe3z3VCAABAebHZdUIAAIDLq+N1QgAAALhT7XVCAABACk73dUIAAMD29QB2QgAAAEnwCnZCAABAm+oUdkIAAEC87R12QgAAgA7oJ3ZCAAAA+48xdkIAAEBNijt2QgAAwDkyRXZCAAAAjCxPdkIAAEDeJll2QgAAwMrOYnZCAAAAHclsdkIAAIAJcXZ2QgAAwFtrgHZCAAAArmWKdkIAAADPaJN2QgAAQCFjnXZCAADADQundkIAAABgBbF2QgAAgEytunZCAADAnqfEdkIAAADxoc52QgAAgN1J2HZCAADAL0TidkIAAEAc7Ot2QgAAgG7m9XZCAADAwOD/dkIAAIBHNgl3QgAAwJkwE3dCAABAhtgcd0IAAIDY0iZ3QgAAAMV6MHdCAABAF3U6d0I=\",\"dtype\":\"float64\",\"order\":\"little\",\"shape\":[103]},\"value\":[304737,394034,404927,464281,487959,451243,485480,392397,423079,398471,391200,311458,322111,419901,459989,534797,526615,548495,537397,448002,447647,384211,408673,303454,310918,392509,444227,507516,542753,534616,514686,469975,480451,378599,445766,309723,336264,459391,496899,545672,633602,624705,564118,525632,496814,393948,489030,341903,365754,486821,526883,591629,661162,584704,614179,552047,502638,476043,497955,361174,369326,534054,516942,631410,692914,592302,629131,535338,526858,495462,499650,366414,377871,520689,544884,633938,670694,623847,640299,499189,528733,479668,445037,336063,374990,490722,550804,647282,624623,636452,627929,532688,543858,480575,511937,377964,405992,507324,436855,421351,587635,700733,652878]},\"selected\":{\"id\":\"1079\"},\"selection_policy\":{\"id\":\"1095\"}},\"id\":\"1078\",\"type\":\"ColumnDataSource\"},{\"attributes\":{},\"id\":\"1131\",\"type\":\"UnionRenderers\"},{\"attributes\":{\"coordinates\":null,\"data_source\":{\"id\":\"1078\"},\"glyph\":{\"id\":\"1081\"},\"group\":null,\"hover_glyph\":null,\"muted_glyph\":{\"id\":\"1083\"},\"nonselection_glyph\":{\"id\":\"1082\"},\"selection_glyph\":{\"id\":\"1111\"},\"view\":{\"id\":\"1085\"}},\"id\":\"1084\",\"type\":\"GlyphRenderer\"},{\"attributes\":{\"line_alpha\":0.2,\"line_color\":\"#30a2da\",\"line_width\":2,\"x\":{\"field\":\"period_end_date\"},\"y\":{\"field\":\"value\"}},\"id\":\"1050\",\"type\":\"Line\"},{\"attributes\":{},\"id\":\"1014\",\"type\":\"LinearScale\"},{\"attributes\":{},\"id\":\"1016\",\"type\":\"LinearScale\"},{\"attributes\":{\"axis_label\":\"period_end_date\",\"coordinates\":null,\"formatter\":{\"id\":\"1040\"},\"group\":null,\"major_label_policy\":{\"id\":\"1041\"},\"ticker\":{\"id\":\"1019\"}},\"id\":\"1018\",\"type\":\"DatetimeAxis\"},{\"attributes\":{\"days\":[1,4,7,10,13,16,19,22,25,28]},\"id\":\"1067\",\"type\":\"DaysTicker\"},{\"attributes\":{\"line_alpha\":0.1,\"line_color\":\"#30a2da\",\"line_width\":2,\"x\":{\"field\":\"period_end_date\"},\"y\":{\"field\":\"value\"}},\"id\":\"1049\",\"type\":\"Line\"},{\"attributes\":{},\"id\":\"1026\",\"type\":\"SaveTool\"},{\"attributes\":{\"bottom_units\":\"screen\",\"coordinates\":null,\"fill_alpha\":0.5,\"fill_color\":\"lightgrey\",\"group\":null,\"left_units\":\"screen\",\"level\":\"overlay\",\"line_alpha\":1.0,\"line_color\":\"black\",\"line_dash\":[4,4],\"line_width\":2,\"right_units\":\"screen\",\"syncable\":false,\"top_units\":\"screen\"},\"id\":\"1031\",\"type\":\"BoxAnnotation\"},{\"attributes\":{\"children\":[{\"id\":\"1003\"},{\"id\":\"1009\"},{\"id\":\"1356\"}],\"margin\":[0,0,0,0],\"name\":\"Row01724\",\"tags\":[\"embedded\"]},\"id\":\"1002\",\"type\":\"Row\"},{\"attributes\":{},\"id\":\"1060\",\"type\":\"UnionRenderers\"},{\"attributes\":{},\"id\":\"1027\",\"type\":\"PanTool\"},{\"attributes\":{\"label\":{\"value\":\"median_sale_price\"},\"renderers\":[{\"id\":\"1118\"}]},\"id\":\"1146\",\"type\":\"LegendItem\"},{\"attributes\":{\"line_color\":\"#fc4f30\",\"line_width\":2,\"x\":{\"field\":\"period_end_date\"},\"y\":{\"field\":\"value\"}},\"id\":\"1111\",\"type\":\"Line\"},{\"attributes\":{\"line_alpha\":0.2,\"line_color\":\"#e5ae38\",\"line_width\":2,\"x\":{\"field\":\"period_end_date\"},\"y\":{\"field\":\"value\"}},\"id\":\"1117\",\"type\":\"Line\"},{\"attributes\":{\"base\":24,\"mantissas\":[1,2,4,6,8,12],\"max_interval\":43200000.0,\"min_interval\":3600000.0,\"num_minor_ticks\":0},\"id\":\"1065\",\"type\":\"AdaptiveTicker\"},{\"attributes\":{\"overlay\":{\"id\":\"1031\"}},\"id\":\"1029\",\"type\":\"BoxZoomTool\"},{\"attributes\":{\"line_color\":\"#e5ae38\",\"line_width\":2,\"x\":{\"field\":\"period_end_date\"},\"y\":{\"field\":\"value\"}},\"id\":\"1115\",\"type\":\"Line\"},{\"attributes\":{},\"id\":\"1113\",\"type\":\"Selection\"},{\"attributes\":{},\"id\":\"1030\",\"type\":\"ResetTool\"},{\"attributes\":{\"coordinates\":null,\"group\":null,\"text_color\":\"black\",\"text_font_size\":\"12pt\"},\"id\":\"1010\",\"type\":\"Title\"},{\"attributes\":{\"coordinates\":null,\"data_source\":{\"id\":\"1112\"},\"glyph\":{\"id\":\"1115\"},\"group\":null,\"hover_glyph\":null,\"muted_glyph\":{\"id\":\"1117\"},\"nonselection_glyph\":{\"id\":\"1116\"},\"selection_glyph\":{\"id\":\"1147\"},\"view\":{\"id\":\"1119\"}},\"id\":\"1118\",\"type\":\"GlyphRenderer\"},{\"attributes\":{\"click_policy\":\"mute\",\"coordinates\":null,\"group\":null,\"items\":[{\"id\":\"1076\"},{\"id\":\"1110\"},{\"id\":\"1146\"}],\"location\":[0,0],\"title\":\"Variable\"},\"id\":\"1075\",\"type\":\"Legend\"},{\"attributes\":{\"num_minor_ticks\":5,\"tickers\":[{\"id\":\"1063\"},{\"id\":\"1064\"},{\"id\":\"1065\"},{\"id\":\"1066\"},{\"id\":\"1067\"},{\"id\":\"1068\"},{\"id\":\"1069\"},{\"id\":\"1070\"},{\"id\":\"1071\"},{\"id\":\"1072\"},{\"id\":\"1073\"},{\"id\":\"1074\"}]},\"id\":\"1019\",\"type\":\"DatetimeTicker\"},{\"attributes\":{\"tools\":[{\"id\":\"1006\"},{\"id\":\"1026\"},{\"id\":\"1027\"},{\"id\":\"1028\"},{\"id\":\"1029\"},{\"id\":\"1030\"}]},\"id\":\"1032\",\"type\":\"Toolbar\"},{\"attributes\":{},\"id\":\"1041\",\"type\":\"AllLabels\"},{\"attributes\":{\"data\":{\"Variable\":[\"median_sale_price\",\"median_sale_price\",\"median_sale_price\",\"median_sale_price\",\"median_sale_price\",\"median_sale_price\",\"median_sale_price\",\"median_sale_price\",\"median_sale_price\",\"median_sale_price\",\"median_sale_price\",\"median_sale_price\",\"median_sale_price\",\"median_sale_price\",\"median_sale_price\",\"median_sale_price\",\"median_sale_price\",\"median_sale_price\",\"median_sale_price\",\"median_sale_price\",\"median_sale_price\",\"median_sale_price\",\"median_sale_price\",\"median_sale_price\",\"median_sale_price\",\"median_sale_price\",\"median_sale_price\",\"median_sale_price\",\"median_sale_price\",\"median_sale_price\",\"median_sale_price\",\"median_sale_price\",\"median_sale_price\",\"median_sale_price\",\"median_sale_price\",\"median_sale_price\",\"median_sale_price\",\"median_sale_price\",\"median_sale_price\",\"median_sale_price\",\"median_sale_price\",\"median_sale_price\",\"median_sale_price\",\"median_sale_price\",\"median_sale_price\",\"median_sale_price\",\"median_sale_price\",\"median_sale_price\",\"median_sale_price\",\"median_sale_price\",\"median_sale_price\",\"median_sale_price\",\"median_sale_price\",\"median_sale_price\",\"median_sale_price\",\"median_sale_price\",\"median_sale_price\",\"median_sale_price\",\"median_sale_price\",\"median_sale_price\",\"median_sale_price\",\"median_sale_price\",\"median_sale_price\",\"median_sale_price\",\"median_sale_price\",\"median_sale_price\",\"median_sale_price\",\"median_sale_price\",\"median_sale_price\",\"median_sale_price\",\"median_sale_price\",\"median_sale_price\",\"median_sale_price\",\"median_sale_price\",\"median_sale_price\",\"median_sale_price\",\"median_sale_price\",\"median_sale_price\",\"median_sale_price\",\"median_sale_price\",\"median_sale_price\",\"median_sale_price\",\"median_sale_price\",\"median_sale_price\",\"median_sale_price\",\"median_sale_price\",\"median_sale_price\",\"median_sale_price\",\"median_sale_price\",\"median_sale_price\",\"median_sale_price\",\"median_sale_price\",\"median_sale_price\",\"median_sale_price\",\"median_sale_price\",\"median_sale_price\",\"median_sale_price\",\"median_sale_price\",\"median_sale_price\",\"median_sale_price\",\"median_sale_price\",\"median_sale_price\",\"median_sale_price\"],\"period_end_date\":{\"__ndarray__\":\"AABAX2NTc0IAAADmuFxzQgAAQDizZnNCAADAJFtwc0IAAAB3VXpzQgAAgGP9g3NCAADAtfeNc0IAAAAI8pdzQgAAgPSZoXNCAADARpSrc0IAAEAzPLVzQgAAgIU2v3NCAADA1zDJc0IAAMD4M9JzQgAAAEsu3HNCAACAN9blc0IAAMCJ0O9zQgAAQHZ4+XNCAACAyHIDdEIAAMAabQ10QgAAQAcVF3RCAACAWQ8hdEIAAABGtyp0QgAAQJixNHRCAACA6qs+dEIAAIALr0d0QgAAwF2pUXRCAABASlFbdEIAAICcS2V0QgAAAInzbnRCAABA2+14dEIAAIAt6IJ0QgAAABqQjHRCAABAbIqWdEIAAMBYMqB0QgAAAKssqnRCAABA/Sa0dEIAAEAeKr10QgAAgHAkx3RCAAAAXczQdEIAAECvxtp0QgAAwJtu5HRCAAAA7mjudEIAAEBAY/h0QgAAwCwLAnVCAAAAfwUMdUIAAIBrrRV1QgAAwL2nH3VCAAAAEKIpdUIAAMCW9zJ1QgAAAOnxPHVCAACA1ZlGdUIAAMAnlFB1QgAAQBQ8WnVCAACAZjZkdUIAAMC4MG51QgAAQKXYd3VCAACA99KBdUIAAADkeot1QgAAQDZ1lXVCAACAiG+fdUIAAICpcqh1QgAAwPtssnVCAABA6BS8dUIAAIA6D8Z1QgAAACe3z3VCAABAebHZdUIAAIDLq+N1QgAAALhT7XVCAABACk73dUIAAMD29QB2QgAAAEnwCnZCAABAm+oUdkIAAEC87R12QgAAgA7oJ3ZCAAAA+48xdkIAAEBNijt2QgAAwDkyRXZCAAAAjCxPdkIAAEDeJll2QgAAwMrOYnZCAAAAHclsdkIAAIAJcXZ2QgAAwFtrgHZCAAAArmWKdkIAAADPaJN2QgAAQCFjnXZCAADADQundkIAAABgBbF2QgAAgEytunZCAADAnqfEdkIAAADxoc52QgAAgN1J2HZCAADAL0TidkIAAEAc7Ot2QgAAgG7m9XZCAADAwOD/dkIAAIBHNgl3QgAAwJkwE3dCAABAhtgcd0IAAIDY0iZ3QgAAAMV6MHdCAABAF3U6d0I=\",\"dtype\":\"float64\",\"order\":\"little\",\"shape\":[103]},\"value\":[160000,171000,178000,186000,194000,192000,190000,187000,185000,189000,193000,180000,181000,193000,199000,209000,219000,220000,217000,210000,210000,208000,212000,200000,201000,210000,215000,222000,229000,229000,226000,220000,219000,220000,222000,213000,215000,225000,231000,239000,245000,242000,240000,234000,233000,234000,238000,228000,227000,239000,245000,252000,259000,257000,256000,253000,251000,254000,254000,247000,247000,257000,263000,269000,277000,273000,271000,268000,268000,270000,271000,264000,268000,277000,281000,287000,292000,287000,284000,278000,277000,279000,277000,272000,275000,283000,290000,298000,303000,299000,296000,292000,293000,294000,295000,289000,294000,303000,304000,299000,310000,323000,328000]},\"selected\":{\"id\":\"1113\"},\"selection_policy\":{\"id\":\"1131\"}},\"id\":\"1112\",\"type\":\"ColumnDataSource\"},{\"attributes\":{\"end\":2363633.3,\"reset_end\":2363633.3,\"reset_start\":-40330.30000000002,\"start\":-40330.30000000002,\"tags\":[[[\"value\",\"value\",null]]]},\"id\":\"1005\",\"type\":\"Range1d\"},{\"attributes\":{\"source\":{\"id\":\"1045\"}},\"id\":\"1052\",\"type\":\"CDSView\"},{\"attributes\":{\"line_color\":\"#30a2da\",\"line_width\":2,\"x\":{\"field\":\"period_end_date\"},\"y\":{\"field\":\"value\"}},\"id\":\"1048\",\"type\":\"Line\"},{\"attributes\":{\"axis_label\":\"\",\"coordinates\":null,\"formatter\":{\"id\":\"1043\"},\"group\":null,\"major_label_policy\":{\"id\":\"1044\"},\"ticker\":{\"id\":\"1023\"}},\"id\":\"1022\",\"type\":\"LinearAxis\"},{\"attributes\":{\"days\":[1,2,3,4,5,6,7,8,9,10,11,12,13,14,15,16,17,18,19,20,21,22,23,24,25,26,27,28,29,30,31]},\"id\":\"1066\",\"type\":\"DaysTicker\"},{\"attributes\":{\"line_color\":\"#e5ae38\",\"line_width\":2,\"x\":{\"field\":\"period_end_date\"},\"y\":{\"field\":\"value\"}},\"id\":\"1147\",\"type\":\"Line\"},{\"attributes\":{\"label\":{\"value\":\"inventory\"},\"renderers\":[{\"id\":\"1051\"}]},\"id\":\"1076\",\"type\":\"LegendItem\"},{\"attributes\":{\"line_alpha\":0.1,\"line_color\":\"#e5ae38\",\"line_width\":2,\"x\":{\"field\":\"period_end_date\"},\"y\":{\"field\":\"value\"}},\"id\":\"1116\",\"type\":\"Line\"}],\"root_ids\":[\"1002\"]},\"title\":\"Bokeh Application\",\"version\":\"2.4.3\"}};\n",
       "    var render_items = [{\"docid\":\"b8fcae0f-9446-44a0-9026-39cab3641829\",\"root_ids\":[\"1002\"],\"roots\":{\"1002\":\"63ffcb41-520d-4143-8a8d-87c13ec50b80\"}}];\n",
       "    root.Bokeh.embed.embed_items_notebook(docs_json, render_items);\n",
       "  }\n",
       "  if (root.Bokeh !== undefined && root.Bokeh.Panel !== undefined) {\n",
       "    embed_document(root);\n",
       "  } else {\n",
       "    var attempts = 0;\n",
       "    var timer = setInterval(function(root) {\n",
       "      if (root.Bokeh !== undefined && root.Bokeh.Panel !== undefined) {\n",
       "        clearInterval(timer);\n",
       "        embed_document(root);\n",
       "      } else if (document.readyState == \"complete\") {\n",
       "        attempts++;\n",
       "        if (attempts > 200) {\n",
       "          clearInterval(timer);\n",
       "          console.log(\"Bokeh: ERROR: Unable to run BokehJS code because BokehJS library is missing\");\n",
       "        }\n",
       "      }\n",
       "    }, 25, root)\n",
       "  }\n",
       "})(window);</script>"
      ],
      "text/plain": [
       ":NdOverlay   [Variable]\n",
       "   :Curve   [period_end_date]   (value)"
      ]
     },
     "execution_count": 32,
     "metadata": {
      "application/vnd.holoviews_exec.v0+json": {
       "id": "1002"
      }
     },
     "output_type": "execute_result"
    }
   ],
   "source": [
    "# Plot the inventory and homes_sold series\n",
    "df_home_sales.hvplot()"
   ]
  },
  {
   "cell_type": "markdown",
   "metadata": {},
   "source": [
    "## Analyzing Data Correlations"
   ]
  },
  {
   "cell_type": "code",
   "execution_count": 36,
   "metadata": {},
   "outputs": [
    {
     "data": {
      "text/plain": [
       "<AxesSubplot:>"
      ]
     },
     "execution_count": 36,
     "metadata": {},
     "output_type": "execute_result"
    },
    {
     "data": {
      "image/png": "[encoded data removed]",
      "text/plain": [
       "<Figure size 432x288 with 2 Axes>"
      ]
     },
     "metadata": {
      "needs_background": "light"
     },
     "output_type": "display_data"
    }
   ],
   "source": [
    "# Compute the correlation between \"inventory\" and \"homes_sold\"\n",
    "import seaborn as sns\n",
    "corr_df = df_home_sales.corr()\n",
    "sns.heatmap(corr_df)"
   ]
  },
  {
   "cell_type": "code",
   "execution_count": null,
   "metadata": {},
   "outputs": [],
   "source": []
  }
 ],
 "metadata": {
  "kernelspec": {
   "display_name": "Python 3.7.13 ('dev')",
   "language": "python",
   "name": "python3"
  },
  "language_info": {
   "codemirror_mode": {
    "name": "ipython",
    "version": 3
   },
   "file_extension": ".py",
   "mimetype": "text/x-python",
   "name": "python",
   "nbconvert_exporter": "python",
   "pygments_lexer": "ipython3",
   "version": "3.7.13"
  },
  "vscode": {
   "interpreter": {
    "hash": "7631c39f756ee97fc32a5db05973838915965d11307db0fdf357e8b46bea8845"
   }
  }
 },
 "nbformat": 4,
 "nbformat_minor": 4
}
