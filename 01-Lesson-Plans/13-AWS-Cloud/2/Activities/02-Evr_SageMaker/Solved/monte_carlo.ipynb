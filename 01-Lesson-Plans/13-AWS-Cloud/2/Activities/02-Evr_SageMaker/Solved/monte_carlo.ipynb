{
 "cells": [
  {
   "cell_type": "markdown",
   "metadata": {},
   "source": [
    "# Monte Carlo Simulation"
   ]
  },
  {
   "cell_type": "code",
   "execution_count": 1,
   "metadata": {},
   "outputs": [],
   "source": [
    "# Initial imports\n",
    "import os\n",
    "import requests\n",
    "import pandas as pd\n",
    "import numpy as np\n",
    "import alpaca_trade_api as tradeapi\n",
    "from dotenv import load_dotenv\n",
    "from datetime import datetime, timedelta\n",
    "\n",
    "load_dotenv()\n",
    "\n",
    "%matplotlib inline"
   ]
  },
  {
   "cell_type": "code",
   "execution_count": 2,
   "metadata": {},
   "outputs": [],
   "source": [
    "# Set Alpaca API key and secret\n",
    "alpaca_api_key = os.getenv(\"ALPACA_API_KEY\")\n",
    "alpaca_secret_key = os.getenv(\"ALPACA_SECRET_KEY\")\n",
    "\n",
    "api = tradeapi.REST(alpaca_api_key, alpaca_secret_key, api_version='v2')"
   ]
  },
  {
   "cell_type": "markdown",
   "metadata": {},
   "source": [
    "## Fetch Tickers Data"
   ]
  },
  {
   "cell_type": "code",
   "execution_count": 3,
   "metadata": {},
   "outputs": [],
   "source": [
    "def get_ticker_prices(ticker):\n",
    "    \n",
    "    # Set timeframe to '1D'\n",
    "    timeframe = '1Day'\n",
    "    \n",
    "    # Create a 30 day time frame\n",
    "    # Set current date and the date from one month ago using the ISO format\n",
    "    # NOTE: The free version of Alpaca prohibhits querying the most recent few minutes of data\n",
    "    # Hence, the subtraction of ~30 minutes via (timedelta(.015))\n",
    "    current_date = pd.Timestamp(datetime.now() - timedelta(.015), tz=\"America/New_York\").isoformat()\n",
    "    past_date = pd.Timestamp(datetime.now()- timedelta(30), tz=\"America/New_York\").isoformat()\n",
    "    \n",
    "    # Make the API call and store in DataFrame    \n",
    "    data_df = api.get_bars(\n",
    "        ticker,\n",
    "        timeframe,\n",
    "        start=past_date,\n",
    "        end=current_date\n",
    "    ).df\n",
    "    \n",
    "    # Clean DataFrame to show only close prices \n",
    "    data_df=data_df['close']\n",
    "    \n",
    "    return data_df"
   ]
  },
  {
   "cell_type": "code",
   "execution_count": 4,
   "metadata": {},
   "outputs": [
    {
     "data": {
      "text/html": [
       "<div>\n",
       "<style scoped>\n",
       "    .dataframe tbody tr th:only-of-type {\n",
       "        vertical-align: middle;\n",
       "    }\n",
       "\n",
       "    .dataframe tbody tr th {\n",
       "        vertical-align: top;\n",
       "    }\n",
       "\n",
       "    .dataframe thead th {\n",
       "        text-align: right;\n",
       "    }\n",
       "</style>\n",
       "<table border=\"1\" class=\"dataframe\">\n",
       "  <thead>\n",
       "    <tr style=\"text-align: right;\">\n",
       "      <th></th>\n",
       "      <th>SPY</th>\n",
       "      <th>AGG</th>\n",
       "    </tr>\n",
       "    <tr>\n",
       "      <th>timestamp</th>\n",
       "      <th></th>\n",
       "      <th></th>\n",
       "    </tr>\n",
       "  </thead>\n",
       "  <tbody>\n",
       "    <tr>\n",
       "      <th>2022-04-13 04:00:00+00:00</th>\n",
       "      <td>443.31</td>\n",
       "      <td>104.82</td>\n",
       "    </tr>\n",
       "    <tr>\n",
       "      <th>2022-04-14 04:00:00+00:00</th>\n",
       "      <td>437.79</td>\n",
       "      <td>103.97</td>\n",
       "    </tr>\n",
       "    <tr>\n",
       "      <th>2022-04-18 04:00:00+00:00</th>\n",
       "      <td>437.97</td>\n",
       "      <td>103.65</td>\n",
       "    </tr>\n",
       "    <tr>\n",
       "      <th>2022-04-19 04:00:00+00:00</th>\n",
       "      <td>445.04</td>\n",
       "      <td>103.02</td>\n",
       "    </tr>\n",
       "    <tr>\n",
       "      <th>2022-04-20 04:00:00+00:00</th>\n",
       "      <td>444.71</td>\n",
       "      <td>103.61</td>\n",
       "    </tr>\n",
       "  </tbody>\n",
       "</table>\n",
       "</div>"
      ],
      "text/plain": [
       "                              SPY     AGG\n",
       "timestamp                                \n",
       "2022-04-13 04:00:00+00:00  443.31  104.82\n",
       "2022-04-14 04:00:00+00:00  437.79  103.97\n",
       "2022-04-18 04:00:00+00:00  437.97  103.65\n",
       "2022-04-19 04:00:00+00:00  445.04  103.02\n",
       "2022-04-20 04:00:00+00:00  444.71  103.61"
      ]
     },
     "execution_count": 4,
     "metadata": {},
     "output_type": "execute_result"
    }
   ],
   "source": [
    "# Obtain ticker prices, join data and display preview\n",
    "spy_data = get_ticker_prices(\"SPY\")\n",
    "agg_data = get_ticker_prices(\"AGG\")\n",
    "tickers_data = pd.concat([spy_data, agg_data], axis=1, keys=[\"SPY\",\"AGG\"])\n",
    "tickers_data.head()"
   ]
  },
  {
   "cell_type": "markdown",
   "metadata": {},
   "source": [
    "## Monte Carlo Simulation Code"
   ]
  },
  {
   "cell_type": "code",
   "execution_count": 5,
   "metadata": {},
   "outputs": [
    {
     "name": "stdout",
     "output_type": "stream",
     "text": [
      "****************************************************************************************************\n",
      "Daily ROI\n",
      "****************************************************************************************************\n"
     ]
    },
    {
     "data": {
      "text/html": [
       "<div>\n",
       "<style scoped>\n",
       "    .dataframe tbody tr th:only-of-type {\n",
       "        vertical-align: middle;\n",
       "    }\n",
       "\n",
       "    .dataframe tbody tr th {\n",
       "        vertical-align: top;\n",
       "    }\n",
       "\n",
       "    .dataframe thead th {\n",
       "        text-align: right;\n",
       "    }\n",
       "</style>\n",
       "<table border=\"1\" class=\"dataframe\">\n",
       "  <thead>\n",
       "    <tr style=\"text-align: right;\">\n",
       "      <th></th>\n",
       "      <th>SPY</th>\n",
       "      <th>AGG</th>\n",
       "    </tr>\n",
       "    <tr>\n",
       "      <th>timestamp</th>\n",
       "      <th></th>\n",
       "      <th></th>\n",
       "    </tr>\n",
       "  </thead>\n",
       "  <tbody>\n",
       "    <tr>\n",
       "      <th>2022-04-13 04:00:00+00:00</th>\n",
       "      <td>NaN</td>\n",
       "      <td>NaN</td>\n",
       "    </tr>\n",
       "    <tr>\n",
       "      <th>2022-04-14 04:00:00+00:00</th>\n",
       "      <td>-0.012452</td>\n",
       "      <td>-0.008109</td>\n",
       "    </tr>\n",
       "    <tr>\n",
       "      <th>2022-04-18 04:00:00+00:00</th>\n",
       "      <td>0.000411</td>\n",
       "      <td>-0.003078</td>\n",
       "    </tr>\n",
       "    <tr>\n",
       "      <th>2022-04-19 04:00:00+00:00</th>\n",
       "      <td>0.016143</td>\n",
       "      <td>-0.006078</td>\n",
       "    </tr>\n",
       "    <tr>\n",
       "      <th>2022-04-20 04:00:00+00:00</th>\n",
       "      <td>-0.000742</td>\n",
       "      <td>0.005727</td>\n",
       "    </tr>\n",
       "  </tbody>\n",
       "</table>\n",
       "</div>"
      ],
      "text/plain": [
       "                                SPY       AGG\n",
       "timestamp                                    \n",
       "2022-04-13 04:00:00+00:00       NaN       NaN\n",
       "2022-04-14 04:00:00+00:00 -0.012452 -0.008109\n",
       "2022-04-18 04:00:00+00:00  0.000411 -0.003078\n",
       "2022-04-19 04:00:00+00:00  0.016143 -0.006078\n",
       "2022-04-20 04:00:00+00:00 -0.000742  0.005727"
      ]
     },
     "metadata": {},
     "output_type": "display_data"
    }
   ],
   "source": [
    "# Calculate the daily roi for the stocks\n",
    "daily_returns = tickers_data.pct_change()\n",
    "print(\"*\" * 100)\n",
    "print(\"Daily ROI\")\n",
    "print(\"*\" * 100)\n",
    "display(daily_returns.head())\n",
    "\n",
    "# volatility\n",
    "daily_volatility = daily_returns.std()\n",
    "spy_volatility = daily_volatility[\"SPY\"]\n",
    "agg_volatility = daily_volatility[\"AGG\"]\n",
    "\n",
    "# Save the last day's closing price\n",
    "spy_last_price = tickers_data[\"SPY\"][-1]\n",
    "agg_last_price = tickers_data[\"AGG\"][-1]\n",
    "\n"
   ]
  },
  {
   "cell_type": "code",
   "execution_count": 6,
   "metadata": {},
   "outputs": [],
   "source": [
    "# Setup the Monte Carlo Parameters\n",
    "number_simulations = 10\n",
    "number_records = 252 * 30  # Years to retirement\n",
    "monte_carlo = pd.DataFrame()\n",
    "\n"
   ]
  },
  {
   "cell_type": "code",
   "execution_count": 7,
   "metadata": {},
   "outputs": [
    {
     "name": "stdout",
     "output_type": "stream",
     "text": [
      "Running Simulation 0...\n",
      "Running Simulation 1...\n",
      "Running Simulation 2...\n",
      "Running Simulation 3...\n",
      "Running Simulation 4...\n",
      "Running Simulation 5...\n",
      "Running Simulation 6...\n",
      "Running Simulation 7...\n",
      "Running Simulation 8...\n",
      "Running Simulation 9...\n"
     ]
    }
   ],
   "source": [
    "# Run the Monte Carlo Simulation\n",
    "for x in range(number_simulations):\n",
    "\n",
    "    print(f\"Running Simulation {x}...\")\n",
    "\n",
    "    # Create the initial simulated prices array seeded with the last closing price\n",
    "    spy_prices = [spy_last_price]\n",
    "    agg_prices = [agg_last_price]\n",
    "\n",
    "    # Simulate the returns for 20 years\n",
    "    for iteration in range(number_records):\n",
    "        spy_prices.append(\n",
    "            spy_prices[-1]\n",
    "            * (1 + np.random.normal(daily_returns.mean()[\"SPY\"], spy_volatility))\n",
    "        )\n",
    "        agg_prices.append(\n",
    "            agg_prices[-1]\n",
    "            * (1 + np.random.normal(daily_returns.mean()[\"AGG\"], agg_volatility))\n",
    "        )\n",
    "\n",
    "    # Create a DataFrame of the simulated prices\n",
    "    portfolio = pd.DataFrame(\n",
    "        {\"SPY Simulated Prices\": spy_prices, \"AGG Simulated Prices\": agg_prices}\n",
    "    )\n",
    "\n",
    "    # Calculate the Portfolio Daily Returns\n",
    "    portfolio_returns = portfolio.pct_change()\n",
    "\n",
    "    # Set the Portfolio Weights (Assume a 60/40 stocks to bonds ratio)\n",
    "    stocks_weight = 0.60\n",
    "    bonds_weight = 0.40\n",
    "\n",
    "    # Calculate the weighted portfolio return:\n",
    "    portfolio_returns = (\n",
    "        stocks_weight * portfolio_returns[\"SPY Simulated Prices\"]\n",
    "        + bonds_weight * portfolio_returns[\"AGG Simulated Prices\"]\n",
    "    )\n",
    "\n",
    "    # Calculate the normalized, cumulative return series\n",
    "    monte_carlo[x] = (1 + portfolio_returns.fillna(0)).cumprod()\n",
    "\n"
   ]
  },
  {
   "cell_type": "code",
   "execution_count": 8,
   "metadata": {},
   "outputs": [
    {
     "data": {
      "text/html": [
       "<div>\n",
       "<style scoped>\n",
       "    .dataframe tbody tr th:only-of-type {\n",
       "        vertical-align: middle;\n",
       "    }\n",
       "\n",
       "    .dataframe tbody tr th {\n",
       "        vertical-align: top;\n",
       "    }\n",
       "\n",
       "    .dataframe thead th {\n",
       "        text-align: right;\n",
       "    }\n",
       "</style>\n",
       "<table border=\"1\" class=\"dataframe\">\n",
       "  <thead>\n",
       "    <tr style=\"text-align: right;\">\n",
       "      <th></th>\n",
       "      <th>0</th>\n",
       "      <th>1</th>\n",
       "      <th>2</th>\n",
       "      <th>3</th>\n",
       "      <th>4</th>\n",
       "      <th>5</th>\n",
       "      <th>6</th>\n",
       "      <th>7</th>\n",
       "      <th>8</th>\n",
       "      <th>9</th>\n",
       "    </tr>\n",
       "  </thead>\n",
       "  <tbody>\n",
       "    <tr>\n",
       "      <th>0</th>\n",
       "      <td>1.000000</td>\n",
       "      <td>1.000000</td>\n",
       "      <td>1.000000</td>\n",
       "      <td>1.000000</td>\n",
       "      <td>1.000000</td>\n",
       "      <td>1.000000</td>\n",
       "      <td>1.000000</td>\n",
       "      <td>1.000000</td>\n",
       "      <td>1.000000</td>\n",
       "      <td>1.000000</td>\n",
       "    </tr>\n",
       "    <tr>\n",
       "      <th>1</th>\n",
       "      <td>1.006724</td>\n",
       "      <td>1.001665</td>\n",
       "      <td>0.996787</td>\n",
       "      <td>0.987273</td>\n",
       "      <td>1.005948</td>\n",
       "      <td>1.017431</td>\n",
       "      <td>0.985092</td>\n",
       "      <td>0.995490</td>\n",
       "      <td>0.987397</td>\n",
       "      <td>0.976438</td>\n",
       "    </tr>\n",
       "    <tr>\n",
       "      <th>2</th>\n",
       "      <td>1.008438</td>\n",
       "      <td>0.986187</td>\n",
       "      <td>1.003027</td>\n",
       "      <td>0.962545</td>\n",
       "      <td>1.000296</td>\n",
       "      <td>1.023887</td>\n",
       "      <td>0.996747</td>\n",
       "      <td>0.998187</td>\n",
       "      <td>1.000465</td>\n",
       "      <td>0.956485</td>\n",
       "    </tr>\n",
       "    <tr>\n",
       "      <th>3</th>\n",
       "      <td>0.995321</td>\n",
       "      <td>0.973124</td>\n",
       "      <td>0.989177</td>\n",
       "      <td>0.957627</td>\n",
       "      <td>0.985169</td>\n",
       "      <td>1.028672</td>\n",
       "      <td>0.993882</td>\n",
       "      <td>0.988060</td>\n",
       "      <td>1.006780</td>\n",
       "      <td>0.950793</td>\n",
       "    </tr>\n",
       "    <tr>\n",
       "      <th>4</th>\n",
       "      <td>1.027134</td>\n",
       "      <td>0.974551</td>\n",
       "      <td>0.982881</td>\n",
       "      <td>0.954537</td>\n",
       "      <td>0.976123</td>\n",
       "      <td>1.018805</td>\n",
       "      <td>0.972982</td>\n",
       "      <td>0.993542</td>\n",
       "      <td>0.988977</td>\n",
       "      <td>0.958592</td>\n",
       "    </tr>\n",
       "  </tbody>\n",
       "</table>\n",
       "</div>"
      ],
      "text/plain": [
       "          0         1         2         3         4         5         6  \\\n",
       "0  1.000000  1.000000  1.000000  1.000000  1.000000  1.000000  1.000000   \n",
       "1  1.006724  1.001665  0.996787  0.987273  1.005948  1.017431  0.985092   \n",
       "2  1.008438  0.986187  1.003027  0.962545  1.000296  1.023887  0.996747   \n",
       "3  0.995321  0.973124  0.989177  0.957627  0.985169  1.028672  0.993882   \n",
       "4  1.027134  0.974551  0.982881  0.954537  0.976123  1.018805  0.972982   \n",
       "\n",
       "          7         8         9  \n",
       "0  1.000000  1.000000  1.000000  \n",
       "1  0.995490  0.987397  0.976438  \n",
       "2  0.998187  1.000465  0.956485  \n",
       "3  0.988060  1.006780  0.950793  \n",
       "4  0.993542  0.988977  0.958592  "
      ]
     },
     "execution_count": 8,
     "metadata": {},
     "output_type": "execute_result"
    }
   ],
   "source": [
    "# Check that the simulation ran successfully\n",
    "monte_carlo.head()\n",
    "\n"
   ]
  },
  {
   "cell_type": "code",
   "execution_count": 9,
   "metadata": {},
   "outputs": [
    {
     "data": {
      "text/plain": [
       "<AxesSubplot:title={'center':'Simulated Retirement Portfolio'}>"
      ]
     },
     "execution_count": 9,
     "metadata": {},
     "output_type": "execute_result"
    },
    {
     "data": {
      "image/png": "[encoded data removed]",
      "text/plain": [
       "<Figure size 432x288 with 1 Axes>"
      ]
     },
     "metadata": {
      "needs_background": "light"
     },
     "output_type": "display_data"
    }
   ],
   "source": [
    "# Visualize the Simulation\n",
    "monte_carlo.plot(legend=None, title=\"Simulated Retirement Portfolio\")\n"
   ]
  }
 ],
 "metadata": {
  "file_extension": ".py",
  "kernelspec": {
   "display_name": "Python 3",
   "language": "python",
   "name": "python3"
  },
  "language_info": {
   "codemirror_mode": {
    "name": "ipython",
    "version": 3
   },
   "file_extension": ".py",
   "mimetype": "text/x-python",
   "name": "python",
   "nbconvert_exporter": "python",
   "pygments_lexer": "ipython3",
   "version": "3.7.3"
  },
  "mimetype": "text/x-python",
  "name": "python",
  "npconvert_exporter": "python",
  "pygments_lexer": "ipython3",
  "version": 3
 },
 "nbformat": 4,
 "nbformat_minor": 4
}
