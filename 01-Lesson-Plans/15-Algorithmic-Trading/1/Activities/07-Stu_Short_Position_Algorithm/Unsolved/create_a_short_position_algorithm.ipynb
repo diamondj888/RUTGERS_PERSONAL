{
 "cells": [
  {
   "cell_type": "markdown",
   "metadata": {},
   "source": [
    "# Create a Short-Position Algorithm\n",
    "\n",
    "In this activity, you’ll create an algorithm to identify the entry and exit points for a short-position trading strategy. The algorithm will still use a short-window (50 days) SMA and a long-window (100 days) SMA.\n",
    "\n",
    "This is a mini-project activity intended to be done by groups of two or three people.\n",
    "\n",
    "## Background\n",
    "\n",
    "The real-estate bubble that led to the financial crisis in 2008 resulted in one of the worst economic disasters since the Great Depression of 1929. During this period, housing prices fell precipitously. This caused massive ripples throughout the US economy and ultimately caused the stock market to crash. Some investors profited from the recession by shorting the market, or placing bets that the market would fall. Most, however, lost substantial value from their investment portfolios, including much-needed retirement and savings accounts.\n",
    "\n",
    "If you had an algorithm to monitor and short the market in 2008, when a collapse in the financial derivatives markets led to a historic economic downturn, would you have made money? Your task in this activity is to create a DMAC strategy that would have shorted VNQ stock, which is a real-estate exchange-traded fund (ETF), from 2007 to 2009.\n",
    "\n",
    "> **Hint:** Remember that taking a short position (that is, making a profit from selling) is the opposite of taking a long position (making a profit from buying). Make sure that the decision logic for creating your trading signals reflects this.\n",
    "\n",
    "## Instructions\n",
    "\n",
    "The instructions for this activity are divided into the following subsections:\n",
    "\n",
    "* Create a DMAC Trading Signal\n",
    "\n",
    "* Plot the Entry and Exit Points of the Trading Signal\n",
    "\n",
    "### Create a DMAC Trading Signal\n",
    "\n",
    "To create a DMAC trading signal that indicates shorting opportunities, complete the following steps:\n",
    "\n",
    "1. Read the `vnq.csv` file from the `Resources` folder into a Pandas DataFrame. Set the “Date” column as the index. Review the DataFrame.\n",
    "\n",
    "2. By filtering the DataFrame, create a second DataFame, named `signals_df`, that contains only the “Date” index and the “Close” column. Review the new DataFrame, and then use hvPlot to visualize the pricing information.\n",
    "\n",
    "3. Set the `short_window` and `long_window` variables to 50 and 100, respectively.\n",
    "\n",
    "4. Using the “Close” column as well as the `rolling` and `mean` functions, create columns named “SMA50” and “SMA100” that contain the 50-day and 100-day simple moving averages, respectively. Review the DataFrame.\n",
    "\n",
    "5. Create a new column, named “Signal”, in the DataFrame, and set all its values to 0.0.\n",
    "\n",
    "6. Using the NumPy `where` function, set the “Signal” column to 1.0 when the “SMA50” value is less than the “SMA100” value. Otherwise, set the “Signal” column to 0.0. Review the DataFrame.\n",
    "\n",
    "7. Use the Pandas `diff` function on the “Signal” column to assign values of 1 or &minus;1 to the “Entry/Exit” column. These values will indicate the trade entry and exit points in time. Review the DataFrame.\n",
    "\n",
    "### Plot the Entry and Exit Points of the Trading Signal\n",
    "\n",
    "To plot the entry and exit points of your short DMAC trading signal, complete the following steps:\n",
    "\n",
    "1. Using hvPlot, create two scatter plots: one for the entry points and another for the exit points. Use purple markers to indicate the entry points (when the algorithm sells the stock). Use orange markers to indicate the exit points (when the algorithm buys the stock to cover the short position).\n",
    "\n",
    "    > **Hint:** Remember that you’re creating a short-position algorithm. The signal to trade (1) occurs when the short-window SMA (the “SMA50” value) is less than the long-window SMA (the “SMA100” value).\n",
    "\n",
    "2. Create two line plots: one for the VNQ closing prices and another for the 50-day and 100-day SMAs.\n",
    "\n",
    "3. Combine all four plots from Steps 1 and 2 into one overlay plot.\n",
    "\n",
    "    > **Hint:** For more information, refer to [Composing Plots](https://holoviz.org/tutorial/Composing_Plots.html) in the HoloViz documentation.\n",
    "    \n",
    "## References:\n",
    "\n",
    "[Nummpy `where` function](https://numpy.org/doc/stable/reference/generated/numpy.where.html)\n",
    "\n",
    "[Pandas `diff` function](https://pandas.pydata.org/pandas-docs/stable/reference/api/pandas.DataFrame.diff.html)\n",
    "\n",
    "[Composing Plots](https://holoviz.org/tutorial/Composing_Plots.html)"
   ]
  },
  {
   "cell_type": "code",
   "execution_count": 33,
   "metadata": {},
   "outputs": [],
   "source": [
    "# Import the required libraries\n",
    "import numpy as np\n",
    "import pandas as pd\n",
    "import hvplot.pandas\n",
    "from pathlib import Path"
   ]
  },
  {
   "cell_type": "markdown",
   "metadata": {},
   "source": [
    "## Create a DMAC Trading Signal"
   ]
  },
  {
   "cell_type": "markdown",
   "metadata": {},
   "source": [
    "### Step 1: Read the `vnq.csv` file from the Resources folder into a Pandas DataFrame. Set the “Date” column as the index. Review the DataFrame."
   ]
  },
  {
   "cell_type": "code",
   "execution_count": 34,
   "metadata": {},
   "outputs": [
    {
     "data": {
      "text/html": [
       "<div>\n",
       "<style scoped>\n",
       "    .dataframe tbody tr th:only-of-type {\n",
       "        vertical-align: middle;\n",
       "    }\n",
       "\n",
       "    .dataframe tbody tr th {\n",
       "        vertical-align: top;\n",
       "    }\n",
       "\n",
       "    .dataframe thead th {\n",
       "        text-align: right;\n",
       "    }\n",
       "</style>\n",
       "<table border=\"1\" class=\"dataframe\">\n",
       "  <thead>\n",
       "    <tr style=\"text-align: right;\">\n",
       "      <th></th>\n",
       "      <th>Open</th>\n",
       "      <th>High</th>\n",
       "      <th>Low</th>\n",
       "      <th>Close</th>\n",
       "      <th>Volume</th>\n",
       "    </tr>\n",
       "    <tr>\n",
       "      <th>Date</th>\n",
       "      <th></th>\n",
       "      <th></th>\n",
       "      <th></th>\n",
       "      <th></th>\n",
       "      <th></th>\n",
       "    </tr>\n",
       "  </thead>\n",
       "  <tbody>\n",
       "    <tr>\n",
       "      <th>2007-01-03</th>\n",
       "      <td>77.339996</td>\n",
       "      <td>77.709999</td>\n",
       "      <td>76.400002</td>\n",
       "      <td>44.707417</td>\n",
       "      <td>525700</td>\n",
       "    </tr>\n",
       "    <tr>\n",
       "      <th>2007-01-04</th>\n",
       "      <td>77.230003</td>\n",
       "      <td>77.260002</td>\n",
       "      <td>76.629997</td>\n",
       "      <td>44.765377</td>\n",
       "      <td>166100</td>\n",
       "    </tr>\n",
       "    <tr>\n",
       "      <th>2007-01-05</th>\n",
       "      <td>77.099998</td>\n",
       "      <td>77.099998</td>\n",
       "      <td>75.750000</td>\n",
       "      <td>43.936401</td>\n",
       "      <td>143700</td>\n",
       "    </tr>\n",
       "    <tr>\n",
       "      <th>2007-01-08</th>\n",
       "      <td>76.000000</td>\n",
       "      <td>76.000000</td>\n",
       "      <td>75.430000</td>\n",
       "      <td>44.000164</td>\n",
       "      <td>87000</td>\n",
       "    </tr>\n",
       "    <tr>\n",
       "      <th>2007-01-09</th>\n",
       "      <td>75.730003</td>\n",
       "      <td>76.959999</td>\n",
       "      <td>75.730003</td>\n",
       "      <td>44.556675</td>\n",
       "      <td>136300</td>\n",
       "    </tr>\n",
       "    <tr>\n",
       "      <th>2007-01-10</th>\n",
       "      <td>76.720001</td>\n",
       "      <td>77.900002</td>\n",
       "      <td>76.550003</td>\n",
       "      <td>45.130608</td>\n",
       "      <td>138600</td>\n",
       "    </tr>\n",
       "    <tr>\n",
       "      <th>2007-01-11</th>\n",
       "      <td>78.099998</td>\n",
       "      <td>79.330002</td>\n",
       "      <td>78.099998</td>\n",
       "      <td>45.716103</td>\n",
       "      <td>186800</td>\n",
       "    </tr>\n",
       "    <tr>\n",
       "      <th>2007-01-12</th>\n",
       "      <td>78.949997</td>\n",
       "      <td>79.279999</td>\n",
       "      <td>78.809998</td>\n",
       "      <td>45.861050</td>\n",
       "      <td>185900</td>\n",
       "    </tr>\n",
       "    <tr>\n",
       "      <th>2007-01-16</th>\n",
       "      <td>79.750000</td>\n",
       "      <td>80.339996</td>\n",
       "      <td>79.290001</td>\n",
       "      <td>46.510338</td>\n",
       "      <td>161800</td>\n",
       "    </tr>\n",
       "    <tr>\n",
       "      <th>2007-01-17</th>\n",
       "      <td>80.239998</td>\n",
       "      <td>80.500000</td>\n",
       "      <td>79.320000</td>\n",
       "      <td>46.492935</td>\n",
       "      <td>120000</td>\n",
       "    </tr>\n",
       "  </tbody>\n",
       "</table>\n",
       "</div>"
      ],
      "text/plain": [
       "                 Open       High        Low      Close  Volume\n",
       "Date                                                          \n",
       "2007-01-03  77.339996  77.709999  76.400002  44.707417  525700\n",
       "2007-01-04  77.230003  77.260002  76.629997  44.765377  166100\n",
       "2007-01-05  77.099998  77.099998  75.750000  43.936401  143700\n",
       "2007-01-08  76.000000  76.000000  75.430000  44.000164   87000\n",
       "2007-01-09  75.730003  76.959999  75.730003  44.556675  136300\n",
       "2007-01-10  76.720001  77.900002  76.550003  45.130608  138600\n",
       "2007-01-11  78.099998  79.330002  78.099998  45.716103  186800\n",
       "2007-01-12  78.949997  79.279999  78.809998  45.861050  185900\n",
       "2007-01-16  79.750000  80.339996  79.290001  46.510338  161800\n",
       "2007-01-17  80.239998  80.500000  79.320000  46.492935  120000"
      ]
     },
     "execution_count": 34,
     "metadata": {},
     "output_type": "execute_result"
    }
   ],
   "source": [
    "# Read the vnq.csv file from the Resources folder into a Pandas DataFrame\n",
    "# Set the `Date` column as the DateTimeIndex\n",
    "vnq_df = pd.read_csv(\n",
    "    Path(\"../Resources/vnq.csv\"),\n",
    "    index_col=\"Date\",\n",
    "    parse_dates=True,\n",
    "    infer_datetime_format=True\n",
    ")# YOUR CODE HERE\n",
    "\n",
    "# Review the DataFrame\n",
    "# YOUR CODE HERE\n",
    "vnq_df.head(10)"
   ]
  },
  {
   "cell_type": "markdown",
   "metadata": {},
   "source": [
    "## Step 2: By filtering the DataFrame, create a second DataFame, named `signals_df`, that filters out only the “Date” index and the “Close” column. Review the new DataFrame, and then use hvPlot to visualize the pricing information."
   ]
  },
  {
   "cell_type": "code",
   "execution_count": 35,
   "metadata": {},
   "outputs": [
    {
     "data": {
      "text/plain": [
       "<bound method NDFrame.head of                 Close\n",
       "Date                 \n",
       "2007-01-03  44.707417\n",
       "2007-01-04  44.765377\n",
       "2007-01-05  43.936401\n",
       "2007-01-08  44.000164\n",
       "2007-01-09  44.556675\n",
       "...               ...\n",
       "2009-12-24  31.367579\n",
       "2009-12-28  31.517859\n",
       "2009-12-29  31.046522\n",
       "2009-12-30  31.094339\n",
       "2009-12-31  30.561541\n",
       "\n",
       "[756 rows x 1 columns]>"
      ]
     },
     "execution_count": 35,
     "metadata": {},
     "output_type": "execute_result"
    }
   ],
   "source": [
    "# Create a DataFrame filtering only the index and Close columns\n",
    "signals_df = vnq_df.loc[:,[\"Close\"]] # YOUR CODE HERE\n",
    "\n",
    "# Review the DataFrame\n",
    "# YOUR CODE HERE\n",
    "signals_df.head"
   ]
  },
  {
   "cell_type": "code",
   "execution_count": 36,
   "metadata": {},
   "outputs": [
    {
     "data": {},
     "metadata": {},
     "output_type": "display_data"
    },
    {
     "data": {
      "application/vnd.holoviews_exec.v0+json": "",
      "text/html": [
       "<div id='1738'>\n",
       "  <div class=\"bk-root\" id=\"2dd46706-6334-47b8-9e55-742bdb7e79f8\" data-root-id=\"1738\"></div>\n",
       "</div>\n",
       "<script type=\"application/javascript\">(function(root) {\n",
       "  function embed_document(root) {\n",
       "    var docs_json = {\"8044ea09-3202-4b8b-b3a8-f9dd8997ef45\":{\"defs\":[{\"extends\":null,\"module\":null,\"name\":\"ReactiveHTML1\",\"overrides\":[],\"properties\":[]},{\"extends\":null,\"module\":null,\"name\":\"FlexBox1\",\"overrides\":[],\"properties\":[{\"default\":\"flex-start\",\"kind\":null,\"name\":\"align_content\"},{\"default\":\"flex-start\",\"kind\":null,\"name\":\"align_items\"},{\"default\":\"row\",\"kind\":null,\"name\":\"flex_direction\"},{\"default\":\"wrap\",\"kind\":null,\"name\":\"flex_wrap\"},{\"default\":\"flex-start\",\"kind\":null,\"name\":\"justify_content\"}]},{\"extends\":null,\"module\":null,\"name\":\"GridStack1\",\"overrides\":[],\"properties\":[{\"default\":\"warn\",\"kind\":null,\"name\":\"mode\"},{\"default\":null,\"kind\":null,\"name\":\"ncols\"},{\"default\":null,\"kind\":null,\"name\":\"nrows\"},{\"default\":true,\"kind\":null,\"name\":\"allow_resize\"},{\"default\":true,\"kind\":null,\"name\":\"allow_drag\"},{\"default\":[],\"kind\":null,\"name\":\"state\"}]},{\"extends\":null,\"module\":null,\"name\":\"click1\",\"overrides\":[],\"properties\":[{\"default\":\"\",\"kind\":null,\"name\":\"terminal_output\"},{\"default\":\"\",\"kind\":null,\"name\":\"debug_name\"},{\"default\":0,\"kind\":null,\"name\":\"clears\"}]},{\"extends\":null,\"module\":null,\"name\":\"NotificationAreaBase1\",\"overrides\":[],\"properties\":[{\"default\":\"bottom-right\",\"kind\":null,\"name\":\"position\"},{\"default\":0,\"kind\":null,\"name\":\"_clear\"}]},{\"extends\":null,\"module\":null,\"name\":\"NotificationArea1\",\"overrides\":[],\"properties\":[{\"default\":[],\"kind\":null,\"name\":\"notifications\"},{\"default\":\"bottom-right\",\"kind\":null,\"name\":\"position\"},{\"default\":0,\"kind\":null,\"name\":\"_clear\"},{\"default\":[{\"background\":\"#ffc107\",\"icon\":{\"className\":\"fas fa-exclamation-triangle\",\"color\":\"white\",\"tagName\":\"i\"},\"type\":\"warning\"},{\"background\":\"#007bff\",\"icon\":{\"className\":\"fas fa-info-circle\",\"color\":\"white\",\"tagName\":\"i\"},\"type\":\"info\"}],\"kind\":null,\"name\":\"types\"}]},{\"extends\":null,\"module\":null,\"name\":\"Notification\",\"overrides\":[],\"properties\":[{\"default\":null,\"kind\":null,\"name\":\"background\"},{\"default\":3000,\"kind\":null,\"name\":\"duration\"},{\"default\":null,\"kind\":null,\"name\":\"icon\"},{\"default\":\"\",\"kind\":null,\"name\":\"message\"},{\"default\":null,\"kind\":null,\"name\":\"notification_type\"},{\"default\":false,\"kind\":null,\"name\":\"_destroyed\"}]},{\"extends\":null,\"module\":null,\"name\":\"TemplateActions1\",\"overrides\":[],\"properties\":[{\"default\":0,\"kind\":null,\"name\":\"open_modal\"},{\"default\":0,\"kind\":null,\"name\":\"close_modal\"}]},{\"extends\":null,\"module\":null,\"name\":\"MaterialTemplateActions1\",\"overrides\":[],\"properties\":[{\"default\":0,\"kind\":null,\"name\":\"open_modal\"},{\"default\":0,\"kind\":null,\"name\":\"close_modal\"}]}],\"roots\":{\"references\":[{\"attributes\":{},\"id\":\"1764\",\"type\":\"ResetTool\"},{\"attributes\":{\"days\":[1,15]},\"id\":\"1804\",\"type\":\"DaysTicker\"},{\"attributes\":{\"axis_label\":\"Date\",\"coordinates\":null,\"formatter\":{\"id\":\"1783\"},\"group\":null,\"major_label_policy\":{\"id\":\"1784\"},\"ticker\":{\"id\":\"1753\"}},\"id\":\"1752\",\"type\":\"DatetimeAxis\"},{\"attributes\":{\"bottom_units\":\"screen\",\"coordinates\":null,\"fill_alpha\":0.5,\"fill_color\":\"lightgrey\",\"group\":null,\"left_units\":\"screen\",\"level\":\"overlay\",\"line_alpha\":1.0,\"line_color\":\"black\",\"line_dash\":[4,4],\"line_width\":2,\"right_units\":\"screen\",\"syncable\":false,\"top_units\":\"screen\"},\"id\":\"1765\",\"type\":\"BoxAnnotation\"},{\"attributes\":{\"margin\":[5,5,5,5],\"name\":\"HSpacer02618\",\"sizing_mode\":\"stretch_width\"},\"id\":\"1810\",\"type\":\"Spacer\"},{\"attributes\":{},\"id\":\"1750\",\"type\":\"LinearScale\"},{\"attributes\":{},\"id\":\"1757\",\"type\":\"BasicTicker\"},{\"attributes\":{\"base\":60,\"mantissas\":[1,2,5,10,15,20,30],\"max_interval\":1800000.0,\"min_interval\":1000.0,\"num_minor_ticks\":0},\"id\":\"1799\",\"type\":\"AdaptiveTicker\"},{\"attributes\":{\"months\":[0,1,2,3,4,5,6,7,8,9,10,11]},\"id\":\"1805\",\"type\":\"MonthsTicker\"},{\"attributes\":{\"data\":{\"Close\":{\"__ndarray__\":\"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\",\"dtype\":\"float64\",\"order\":\"little\",\"shape\":[756]},\"Date\":{\"__ndarray__\":\"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\",\"dtype\":\"float64\",\"order\":\"little\",\"shape\":[756]}},\"selected\":{\"id\":\"1774\"},\"selection_policy\":{\"id\":\"1795\"}},\"id\":\"1773\",\"type\":\"ColumnDataSource\"},{\"attributes\":{\"num_minor_ticks\":5,\"tickers\":[{\"id\":\"1798\"},{\"id\":\"1799\"},{\"id\":\"1800\"},{\"id\":\"1801\"},{\"id\":\"1802\"},{\"id\":\"1803\"},{\"id\":\"1804\"},{\"id\":\"1805\"},{\"id\":\"1806\"},{\"id\":\"1807\"},{\"id\":\"1808\"},{\"id\":\"1809\"}]},\"id\":\"1753\",\"type\":\"DatetimeTicker\"},{\"attributes\":{\"months\":[0,2,4,6,8,10]},\"id\":\"1806\",\"type\":\"MonthsTicker\"},{\"attributes\":{\"axis\":{\"id\":\"1752\"},\"coordinates\":null,\"grid_line_color\":null,\"group\":null,\"ticker\":null},\"id\":\"1755\",\"type\":\"Grid\"},{\"attributes\":{\"months\":[0,4,8]},\"id\":\"1807\",\"type\":\"MonthsTicker\"},{\"attributes\":{\"axis\":{\"id\":\"1756\"},\"coordinates\":null,\"dimension\":1,\"grid_line_color\":null,\"group\":null,\"ticker\":null},\"id\":\"1759\",\"type\":\"Grid\"},{\"attributes\":{},\"id\":\"1783\",\"type\":\"DatetimeTickFormatter\"},{\"attributes\":{\"axis_label\":\"Close\",\"coordinates\":null,\"formatter\":{\"id\":\"1786\"},\"group\":null,\"major_label_policy\":{\"id\":\"1787\"},\"ticker\":{\"id\":\"1757\"}},\"id\":\"1756\",\"type\":\"LinearAxis\"},{\"attributes\":{\"days\":[1,2,3,4,5,6,7,8,9,10,11,12,13,14,15,16,17,18,19,20,21,22,23,24,25,26,27,28,29,30,31]},\"id\":\"1801\",\"type\":\"DaysTicker\"},{\"attributes\":{\"months\":[0,6]},\"id\":\"1808\",\"type\":\"MonthsTicker\"},{\"attributes\":{\"children\":[{\"id\":\"1739\"},{\"id\":\"1743\"},{\"id\":\"1810\"}],\"margin\":[0,0,0,0],\"name\":\"Row02613\",\"tags\":[\"embedded\"]},\"id\":\"1738\",\"type\":\"Row\"},{\"attributes\":{},\"id\":\"1786\",\"type\":\"BasicTickFormatter\"},{\"attributes\":{},\"id\":\"1795\",\"type\":\"UnionRenderers\"},{\"attributes\":{\"base\":24,\"mantissas\":[1,2,4,6,8,12],\"max_interval\":43200000.0,\"min_interval\":3600000.0,\"num_minor_ticks\":0},\"id\":\"1800\",\"type\":\"AdaptiveTicker\"},{\"attributes\":{},\"id\":\"1809\",\"type\":\"YearsTicker\"},{\"attributes\":{\"line_alpha\":0.1,\"line_color\":\"#30a2da\",\"line_width\":2,\"x\":{\"field\":\"Date\"},\"y\":{\"field\":\"Close\"}},\"id\":\"1777\",\"type\":\"Line\"},{\"attributes\":{\"line_color\":\"#30a2da\",\"line_width\":2,\"x\":{\"field\":\"Date\"},\"y\":{\"field\":\"Close\"}},\"id\":\"1781\",\"type\":\"Line\"},{\"attributes\":{\"line_alpha\":0.2,\"line_color\":\"#30a2da\",\"line_width\":2,\"x\":{\"field\":\"Date\"},\"y\":{\"field\":\"Close\"}},\"id\":\"1778\",\"type\":\"Line\"},{\"attributes\":{},\"id\":\"1787\",\"type\":\"AllLabels\"},{\"attributes\":{\"days\":[1,4,7,10,13,16,19,22,25,28]},\"id\":\"1802\",\"type\":\"DaysTicker\"},{\"attributes\":{\"source\":{\"id\":\"1773\"}},\"id\":\"1780\",\"type\":\"CDSView\"},{\"attributes\":{\"coordinates\":null,\"data_source\":{\"id\":\"1773\"},\"glyph\":{\"id\":\"1776\"},\"group\":null,\"hover_glyph\":null,\"muted_glyph\":{\"id\":\"1778\"},\"nonselection_glyph\":{\"id\":\"1777\"},\"selection_glyph\":{\"id\":\"1781\"},\"view\":{\"id\":\"1780\"}},\"id\":\"1779\",\"type\":\"GlyphRenderer\"},{\"attributes\":{},\"id\":\"1784\",\"type\":\"AllLabels\"},{\"attributes\":{\"margin\":[5,5,5,5],\"name\":\"HSpacer02617\",\"sizing_mode\":\"stretch_width\"},\"id\":\"1739\",\"type\":\"Spacer\"},{\"attributes\":{},\"id\":\"1748\",\"type\":\"LinearScale\"},{\"attributes\":{},\"id\":\"1760\",\"type\":\"SaveTool\"},{\"attributes\":{\"below\":[{\"id\":\"1752\"}],\"center\":[{\"id\":\"1755\"},{\"id\":\"1759\"}],\"height\":300,\"left\":[{\"id\":\"1756\"}],\"margin\":[5,5,5,5],\"min_border_bottom\":10,\"min_border_left\":10,\"min_border_right\":10,\"min_border_top\":10,\"renderers\":[{\"id\":\"1779\"}],\"sizing_mode\":\"fixed\",\"title\":{\"id\":\"1744\"},\"toolbar\":{\"id\":\"1766\"},\"width\":700,\"x_range\":{\"id\":\"1740\"},\"x_scale\":{\"id\":\"1748\"},\"y_range\":{\"id\":\"1741\"},\"y_scale\":{\"id\":\"1750\"}},\"id\":\"1743\",\"subtype\":\"Figure\",\"type\":\"Plot\"},{\"attributes\":{},\"id\":\"1774\",\"type\":\"Selection\"},{\"attributes\":{},\"id\":\"1761\",\"type\":\"PanTool\"},{\"attributes\":{\"end\":54.2879814,\"reset_end\":54.2879814,\"reset_start\":9.930060600000001,\"start\":9.930060600000001,\"tags\":[[[\"Close\",\"Close\",null]]]},\"id\":\"1741\",\"type\":\"Range1d\"},{\"attributes\":{\"mantissas\":[1,2,5],\"max_interval\":500.0,\"num_minor_ticks\":0},\"id\":\"1798\",\"type\":\"AdaptiveTicker\"},{\"attributes\":{\"callback\":null,\"formatters\":{\"@{Date}\":\"datetime\"},\"renderers\":[{\"id\":\"1779\"}],\"tags\":[\"hv_created\"],\"tooltips\":[[\"Date\",\"@{Date}{%F %T}\"],[\"Close\",\"@{Close}\"]]},\"id\":\"1742\",\"type\":\"HoverTool\"},{\"attributes\":{},\"id\":\"1762\",\"type\":\"WheelZoomTool\"},{\"attributes\":{\"tools\":[{\"id\":\"1742\"},{\"id\":\"1760\"},{\"id\":\"1761\"},{\"id\":\"1762\"},{\"id\":\"1763\"},{\"id\":\"1764\"}]},\"id\":\"1766\",\"type\":\"Toolbar\"},{\"attributes\":{\"days\":[1,8,15,22]},\"id\":\"1803\",\"type\":\"DaysTicker\"},{\"attributes\":{\"end\":1262217600000.0,\"reset_end\":1262217600000.0,\"reset_start\":1167782400000.0,\"start\":1167782400000.0,\"tags\":[[[\"Date\",\"Date\",null]]]},\"id\":\"1740\",\"type\":\"Range1d\"},{\"attributes\":{\"overlay\":{\"id\":\"1765\"}},\"id\":\"1763\",\"type\":\"BoxZoomTool\"},{\"attributes\":{\"coordinates\":null,\"group\":null,\"text_color\":\"black\",\"text_font_size\":\"12pt\"},\"id\":\"1744\",\"type\":\"Title\"},{\"attributes\":{\"line_color\":\"#30a2da\",\"line_width\":2,\"x\":{\"field\":\"Date\"},\"y\":{\"field\":\"Close\"}},\"id\":\"1776\",\"type\":\"Line\"}],\"root_ids\":[\"1738\"]},\"title\":\"Bokeh Application\",\"version\":\"2.4.3\"}};\n",
       "    var render_items = [{\"docid\":\"8044ea09-3202-4b8b-b3a8-f9dd8997ef45\",\"root_ids\":[\"1738\"],\"roots\":{\"1738\":\"2dd46706-6334-47b8-9e55-742bdb7e79f8\"}}];\n",
       "    root.Bokeh.embed.embed_items_notebook(docs_json, render_items);\n",
       "  }\n",
       "  if (root.Bokeh !== undefined && root.Bokeh.Panel !== undefined) {\n",
       "    embed_document(root);\n",
       "  } else {\n",
       "    var attempts = 0;\n",
       "    var timer = setInterval(function(root) {\n",
       "      if (root.Bokeh !== undefined && root.Bokeh.Panel !== undefined) {\n",
       "        clearInterval(timer);\n",
       "        embed_document(root);\n",
       "      } else if (document.readyState == \"complete\") {\n",
       "        attempts++;\n",
       "        if (attempts > 200) {\n",
       "          clearInterval(timer);\n",
       "          console.log(\"Bokeh: ERROR: Unable to run BokehJS code because BokehJS library is missing\");\n",
       "        }\n",
       "      }\n",
       "    }, 25, root)\n",
       "  }\n",
       "})(window);</script>"
      ],
      "text/plain": [
       ":Curve   [Date]   (Close)"
      ]
     },
     "execution_count": 36,
     "metadata": {
      "application/vnd.holoviews_exec.v0+json": {
       "id": "1738"
      }
     },
     "output_type": "execute_result"
    }
   ],
   "source": [
    "# Use hvplot to visualize the DataFrame\n",
    "# YOUR CODE HERE\n",
    "signals_df.hvplot()"
   ]
  },
  {
   "cell_type": "markdown",
   "metadata": {},
   "source": [
    "### Step 3: Set the `short_window` and `long_window` variables to 50 and 100, respectively."
   ]
  },
  {
   "cell_type": "code",
   "execution_count": 37,
   "metadata": {},
   "outputs": [],
   "source": [
    "# Set the short_window (50) and long window (100) variables\n",
    "short_window = 50 # YOUR CODE HERE\n",
    "long_window = 100 # YOUR CODE HERE\n"
   ]
  },
  {
   "cell_type": "markdown",
   "metadata": {},
   "source": [
    "### Step 4: Using the “Close” columns as well as the `rolling` and `mean` functions, create columns named “SMA50” and “SMA100” that contain the 50-day SMA and 100-day SMA simple moving averages, respectively. Review the DataFrame."
   ]
  },
  {
   "cell_type": "code",
   "execution_count": 38,
   "metadata": {},
   "outputs": [
    {
     "data": {
      "text/html": [
       "<div>\n",
       "<style scoped>\n",
       "    .dataframe tbody tr th:only-of-type {\n",
       "        vertical-align: middle;\n",
       "    }\n",
       "\n",
       "    .dataframe tbody tr th {\n",
       "        vertical-align: top;\n",
       "    }\n",
       "\n",
       "    .dataframe thead th {\n",
       "        text-align: right;\n",
       "    }\n",
       "</style>\n",
       "<table border=\"1\" class=\"dataframe\">\n",
       "  <thead>\n",
       "    <tr style=\"text-align: right;\">\n",
       "      <th></th>\n",
       "      <th>Close</th>\n",
       "      <th>SMA50</th>\n",
       "      <th>SMA100</th>\n",
       "    </tr>\n",
       "    <tr>\n",
       "      <th>Date</th>\n",
       "      <th></th>\n",
       "      <th></th>\n",
       "      <th></th>\n",
       "    </tr>\n",
       "  </thead>\n",
       "  <tbody>\n",
       "    <tr>\n",
       "      <th>2007-01-03</th>\n",
       "      <td>44.707417</td>\n",
       "      <td>NaN</td>\n",
       "      <td>NaN</td>\n",
       "    </tr>\n",
       "    <tr>\n",
       "      <th>2007-01-04</th>\n",
       "      <td>44.765377</td>\n",
       "      <td>NaN</td>\n",
       "      <td>NaN</td>\n",
       "    </tr>\n",
       "    <tr>\n",
       "      <th>2007-01-05</th>\n",
       "      <td>43.936401</td>\n",
       "      <td>NaN</td>\n",
       "      <td>NaN</td>\n",
       "    </tr>\n",
       "    <tr>\n",
       "      <th>2007-01-08</th>\n",
       "      <td>44.000164</td>\n",
       "      <td>NaN</td>\n",
       "      <td>NaN</td>\n",
       "    </tr>\n",
       "    <tr>\n",
       "      <th>2007-01-09</th>\n",
       "      <td>44.556675</td>\n",
       "      <td>NaN</td>\n",
       "      <td>NaN</td>\n",
       "    </tr>\n",
       "  </tbody>\n",
       "</table>\n",
       "</div>"
      ],
      "text/plain": [
       "                Close  SMA50  SMA100\n",
       "Date                                \n",
       "2007-01-03  44.707417    NaN     NaN\n",
       "2007-01-04  44.765377    NaN     NaN\n",
       "2007-01-05  43.936401    NaN     NaN\n",
       "2007-01-08  44.000164    NaN     NaN\n",
       "2007-01-09  44.556675    NaN     NaN"
      ]
     },
     "metadata": {},
     "output_type": "display_data"
    },
    {
     "data": {
      "text/html": [
       "<div>\n",
       "<style scoped>\n",
       "    .dataframe tbody tr th:only-of-type {\n",
       "        vertical-align: middle;\n",
       "    }\n",
       "\n",
       "    .dataframe tbody tr th {\n",
       "        vertical-align: top;\n",
       "    }\n",
       "\n",
       "    .dataframe thead th {\n",
       "        text-align: right;\n",
       "    }\n",
       "</style>\n",
       "<table border=\"1\" class=\"dataframe\">\n",
       "  <thead>\n",
       "    <tr style=\"text-align: right;\">\n",
       "      <th></th>\n",
       "      <th>Close</th>\n",
       "      <th>SMA50</th>\n",
       "      <th>SMA100</th>\n",
       "    </tr>\n",
       "    <tr>\n",
       "      <th>Date</th>\n",
       "      <th></th>\n",
       "      <th></th>\n",
       "      <th></th>\n",
       "    </tr>\n",
       "  </thead>\n",
       "  <tbody>\n",
       "    <tr>\n",
       "      <th>2009-12-24</th>\n",
       "      <td>31.367579</td>\n",
       "      <td>28.438977</td>\n",
       "      <td>27.586397</td>\n",
       "    </tr>\n",
       "    <tr>\n",
       "      <th>2009-12-28</th>\n",
       "      <td>31.517859</td>\n",
       "      <td>28.504734</td>\n",
       "      <td>27.645874</td>\n",
       "    </tr>\n",
       "    <tr>\n",
       "      <th>2009-12-29</th>\n",
       "      <td>31.046522</td>\n",
       "      <td>28.575901</td>\n",
       "      <td>27.702575</td>\n",
       "    </tr>\n",
       "    <tr>\n",
       "      <th>2009-12-30</th>\n",
       "      <td>31.094339</td>\n",
       "      <td>28.636155</td>\n",
       "      <td>27.745596</td>\n",
       "    </tr>\n",
       "    <tr>\n",
       "      <th>2009-12-31</th>\n",
       "      <td>30.561541</td>\n",
       "      <td>28.696138</td>\n",
       "      <td>27.789032</td>\n",
       "    </tr>\n",
       "  </tbody>\n",
       "</table>\n",
       "</div>"
      ],
      "text/plain": [
       "                Close      SMA50     SMA100\n",
       "Date                                       \n",
       "2009-12-24  31.367579  28.438977  27.586397\n",
       "2009-12-28  31.517859  28.504734  27.645874\n",
       "2009-12-29  31.046522  28.575901  27.702575\n",
       "2009-12-30  31.094339  28.636155  27.745596\n",
       "2009-12-31  30.561541  28.696138  27.789032"
      ]
     },
     "metadata": {},
     "output_type": "display_data"
    }
   ],
   "source": [
    "# Generate the short and long moving averages (50 and 100 days, respectively)\n",
    "#signals_df['SMA50'] = # YOUR CODE HERE\n",
    "#signals_df['SMA100'] = # YOUR CODE HERE\n",
    "\n",
    "signals_df[\"SMA50\"] = signals_df[\"Close\"].rolling(window=short_window).mean()\n",
    "signals_df[\"SMA100\"] = signals_df[\"Close\"].rolling(window=long_window).mean()\n",
    "\n",
    "# Review the DataFrame\n",
    "# YOUR CODE HERE\n",
    "display(signals_df.head())\n",
    "display(signals_df.tail())"
   ]
  },
  {
   "cell_type": "markdown",
   "metadata": {},
   "source": [
    "### Step 5: Create a new column, named “Signal”, in the DataFrame, and set all its values to 0.0."
   ]
  },
  {
   "cell_type": "code",
   "execution_count": 39,
   "metadata": {},
   "outputs": [],
   "source": [
    "# Initialize the new Signal column to hold the trading signal\n",
    "signals_df['Signal'] = 0.0   # YOUR CODE HERE\n"
   ]
  },
  {
   "cell_type": "markdown",
   "metadata": {},
   "source": [
    "### Step 6: Using the NumPy `where` function, set the “Signal” column to 1.0 when the “SMA50” value is less than the “SMA100” value. Otherwise, set the “Signal” column to 0.0."
   ]
  },
  {
   "cell_type": "code",
   "execution_count": 43,
   "metadata": {},
   "outputs": [
    {
     "data": {
      "text/html": [
       "<div>\n",
       "<style scoped>\n",
       "    .dataframe tbody tr th:only-of-type {\n",
       "        vertical-align: middle;\n",
       "    }\n",
       "\n",
       "    .dataframe tbody tr th {\n",
       "        vertical-align: top;\n",
       "    }\n",
       "\n",
       "    .dataframe thead th {\n",
       "        text-align: right;\n",
       "    }\n",
       "</style>\n",
       "<table border=\"1\" class=\"dataframe\">\n",
       "  <thead>\n",
       "    <tr style=\"text-align: right;\">\n",
       "      <th></th>\n",
       "      <th>Close</th>\n",
       "      <th>SMA50</th>\n",
       "      <th>SMA100</th>\n",
       "      <th>Signal</th>\n",
       "    </tr>\n",
       "    <tr>\n",
       "      <th>Date</th>\n",
       "      <th></th>\n",
       "      <th></th>\n",
       "      <th></th>\n",
       "      <th></th>\n",
       "    </tr>\n",
       "  </thead>\n",
       "  <tbody>\n",
       "    <tr>\n",
       "      <th>2009-12-17</th>\n",
       "      <td>29.639492</td>\n",
       "      <td>28.167839</td>\n",
       "      <td>27.217638</td>\n",
       "      <td>0.0</td>\n",
       "    </tr>\n",
       "    <tr>\n",
       "      <th>2009-12-18</th>\n",
       "      <td>29.835062</td>\n",
       "      <td>28.211270</td>\n",
       "      <td>27.294345</td>\n",
       "      <td>0.0</td>\n",
       "    </tr>\n",
       "    <tr>\n",
       "      <th>2009-12-21</th>\n",
       "      <td>30.239697</td>\n",
       "      <td>28.258072</td>\n",
       "      <td>27.367152</td>\n",
       "      <td>0.0</td>\n",
       "    </tr>\n",
       "    <tr>\n",
       "      <th>2009-12-22</th>\n",
       "      <td>30.556675</td>\n",
       "      <td>28.312024</td>\n",
       "      <td>27.443329</td>\n",
       "      <td>0.0</td>\n",
       "    </tr>\n",
       "    <tr>\n",
       "      <th>2009-12-23</th>\n",
       "      <td>30.920845</td>\n",
       "      <td>28.381082</td>\n",
       "      <td>27.519007</td>\n",
       "      <td>0.0</td>\n",
       "    </tr>\n",
       "    <tr>\n",
       "      <th>2009-12-24</th>\n",
       "      <td>31.367579</td>\n",
       "      <td>28.438977</td>\n",
       "      <td>27.586397</td>\n",
       "      <td>0.0</td>\n",
       "    </tr>\n",
       "    <tr>\n",
       "      <th>2009-12-28</th>\n",
       "      <td>31.517859</td>\n",
       "      <td>28.504734</td>\n",
       "      <td>27.645874</td>\n",
       "      <td>0.0</td>\n",
       "    </tr>\n",
       "    <tr>\n",
       "      <th>2009-12-29</th>\n",
       "      <td>31.046522</td>\n",
       "      <td>28.575901</td>\n",
       "      <td>27.702575</td>\n",
       "      <td>0.0</td>\n",
       "    </tr>\n",
       "    <tr>\n",
       "      <th>2009-12-30</th>\n",
       "      <td>31.094339</td>\n",
       "      <td>28.636155</td>\n",
       "      <td>27.745596</td>\n",
       "      <td>0.0</td>\n",
       "    </tr>\n",
       "    <tr>\n",
       "      <th>2009-12-31</th>\n",
       "      <td>30.561541</td>\n",
       "      <td>28.696138</td>\n",
       "      <td>27.789032</td>\n",
       "      <td>0.0</td>\n",
       "    </tr>\n",
       "  </tbody>\n",
       "</table>\n",
       "</div>"
      ],
      "text/plain": [
       "                Close      SMA50     SMA100  Signal\n",
       "Date                                               \n",
       "2009-12-17  29.639492  28.167839  27.217638     0.0\n",
       "2009-12-18  29.835062  28.211270  27.294345     0.0\n",
       "2009-12-21  30.239697  28.258072  27.367152     0.0\n",
       "2009-12-22  30.556675  28.312024  27.443329     0.0\n",
       "2009-12-23  30.920845  28.381082  27.519007     0.0\n",
       "2009-12-24  31.367579  28.438977  27.586397     0.0\n",
       "2009-12-28  31.517859  28.504734  27.645874     0.0\n",
       "2009-12-29  31.046522  28.575901  27.702575     0.0\n",
       "2009-12-30  31.094339  28.636155  27.745596     0.0\n",
       "2009-12-31  30.561541  28.696138  27.789032     0.0"
      ]
     },
     "execution_count": 43,
     "metadata": {},
     "output_type": "execute_result"
    }
   ],
   "source": [
    "# Generate the trading signal 0 or 1,\n",
    "# where 1 is the short-window (SMA50) is less than the long-window (SMA100)\n",
    "signals_df[\"Signal\"][short_window:] = np.where(\n",
    "    signals_df[\"SMA50\"][short_window:] < signals_df[\"SMA100\"][short_window:], 1.0, 0.0# YOUR CODE HERE\n",
    ")\n",
    "# Review the DataFrame\n",
    "# YOUR CODE HERE\n",
    "signals_df.tail(10)"
   ]
  },
  {
   "cell_type": "markdown",
   "metadata": {},
   "source": [
    "### Step 7: Use the Pandas `diff` function on the “Signal” column to assign values of 1 or &minus;1 to the “Entry/Exit” column. These values will indicate the trade entry and exit points in time. Review the DataFrame."
   ]
  },
  {
   "cell_type": "code",
   "execution_count": 46,
   "metadata": {},
   "outputs": [
    {
     "data": {
      "text/html": [
       "<div>\n",
       "<style scoped>\n",
       "    .dataframe tbody tr th:only-of-type {\n",
       "        vertical-align: middle;\n",
       "    }\n",
       "\n",
       "    .dataframe tbody tr th {\n",
       "        vertical-align: top;\n",
       "    }\n",
       "\n",
       "    .dataframe thead th {\n",
       "        text-align: right;\n",
       "    }\n",
       "</style>\n",
       "<table border=\"1\" class=\"dataframe\">\n",
       "  <thead>\n",
       "    <tr style=\"text-align: right;\">\n",
       "      <th></th>\n",
       "      <th>Close</th>\n",
       "      <th>SMA50</th>\n",
       "      <th>SMA100</th>\n",
       "      <th>Signal</th>\n",
       "      <th>Entry/Exit</th>\n",
       "    </tr>\n",
       "    <tr>\n",
       "      <th>Date</th>\n",
       "      <th></th>\n",
       "      <th></th>\n",
       "      <th></th>\n",
       "      <th></th>\n",
       "      <th></th>\n",
       "    </tr>\n",
       "  </thead>\n",
       "  <tbody>\n",
       "    <tr>\n",
       "      <th>2007-01-03</th>\n",
       "      <td>44.707417</td>\n",
       "      <td>NaN</td>\n",
       "      <td>NaN</td>\n",
       "      <td>0.0</td>\n",
       "      <td>NaN</td>\n",
       "    </tr>\n",
       "    <tr>\n",
       "      <th>2007-01-04</th>\n",
       "      <td>44.765377</td>\n",
       "      <td>NaN</td>\n",
       "      <td>NaN</td>\n",
       "      <td>0.0</td>\n",
       "      <td>0.0</td>\n",
       "    </tr>\n",
       "    <tr>\n",
       "      <th>2007-01-05</th>\n",
       "      <td>43.936401</td>\n",
       "      <td>NaN</td>\n",
       "      <td>NaN</td>\n",
       "      <td>0.0</td>\n",
       "      <td>0.0</td>\n",
       "    </tr>\n",
       "    <tr>\n",
       "      <th>2007-01-08</th>\n",
       "      <td>44.000164</td>\n",
       "      <td>NaN</td>\n",
       "      <td>NaN</td>\n",
       "      <td>0.0</td>\n",
       "      <td>0.0</td>\n",
       "    </tr>\n",
       "    <tr>\n",
       "      <th>2007-01-09</th>\n",
       "      <td>44.556675</td>\n",
       "      <td>NaN</td>\n",
       "      <td>NaN</td>\n",
       "      <td>0.0</td>\n",
       "      <td>0.0</td>\n",
       "    </tr>\n",
       "    <tr>\n",
       "      <th>...</th>\n",
       "      <td>...</td>\n",
       "      <td>...</td>\n",
       "      <td>...</td>\n",
       "      <td>...</td>\n",
       "      <td>...</td>\n",
       "    </tr>\n",
       "    <tr>\n",
       "      <th>2009-12-24</th>\n",
       "      <td>31.367579</td>\n",
       "      <td>28.438977</td>\n",
       "      <td>27.586397</td>\n",
       "      <td>0.0</td>\n",
       "      <td>0.0</td>\n",
       "    </tr>\n",
       "    <tr>\n",
       "      <th>2009-12-28</th>\n",
       "      <td>31.517859</td>\n",
       "      <td>28.504734</td>\n",
       "      <td>27.645874</td>\n",
       "      <td>0.0</td>\n",
       "      <td>0.0</td>\n",
       "    </tr>\n",
       "    <tr>\n",
       "      <th>2009-12-29</th>\n",
       "      <td>31.046522</td>\n",
       "      <td>28.575901</td>\n",
       "      <td>27.702575</td>\n",
       "      <td>0.0</td>\n",
       "      <td>0.0</td>\n",
       "    </tr>\n",
       "    <tr>\n",
       "      <th>2009-12-30</th>\n",
       "      <td>31.094339</td>\n",
       "      <td>28.636155</td>\n",
       "      <td>27.745596</td>\n",
       "      <td>0.0</td>\n",
       "      <td>0.0</td>\n",
       "    </tr>\n",
       "    <tr>\n",
       "      <th>2009-12-31</th>\n",
       "      <td>30.561541</td>\n",
       "      <td>28.696138</td>\n",
       "      <td>27.789032</td>\n",
       "      <td>0.0</td>\n",
       "      <td>0.0</td>\n",
       "    </tr>\n",
       "  </tbody>\n",
       "</table>\n",
       "<p>756 rows × 5 columns</p>\n",
       "</div>"
      ],
      "text/plain": [
       "                Close      SMA50     SMA100  Signal  Entry/Exit\n",
       "Date                                                           \n",
       "2007-01-03  44.707417        NaN        NaN     0.0         NaN\n",
       "2007-01-04  44.765377        NaN        NaN     0.0         0.0\n",
       "2007-01-05  43.936401        NaN        NaN     0.0         0.0\n",
       "2007-01-08  44.000164        NaN        NaN     0.0         0.0\n",
       "2007-01-09  44.556675        NaN        NaN     0.0         0.0\n",
       "...               ...        ...        ...     ...         ...\n",
       "2009-12-24  31.367579  28.438977  27.586397     0.0         0.0\n",
       "2009-12-28  31.517859  28.504734  27.645874     0.0         0.0\n",
       "2009-12-29  31.046522  28.575901  27.702575     0.0         0.0\n",
       "2009-12-30  31.094339  28.636155  27.745596     0.0         0.0\n",
       "2009-12-31  30.561541  28.696138  27.789032     0.0         0.0\n",
       "\n",
       "[756 rows x 5 columns]"
      ]
     },
     "execution_count": 46,
     "metadata": {},
     "output_type": "execute_result"
    }
   ],
   "source": [
    "# Calculate the points in time at which a position should be taken, 1 or -1\n",
    "signals_df[\"Entry/Exit\"] = signals_df[\"Signal\"].diff()\n",
    "\n",
    "# Review the DataFrame\n",
    "# YOUR CODE HERE\n",
    "signals_df"
   ]
  },
  {
   "cell_type": "markdown",
   "metadata": {},
   "source": [
    "## Plot the Entry and Exit Points of the Trading Signal"
   ]
  },
  {
   "cell_type": "markdown",
   "metadata": {},
   "source": [
    "### Step 1: Using hvPlot, create two scatter plots: one for the entry points and another for the exit points. Use purple markers to indicate the entry points (when the algorithm sells the stock). Use orange markers to indicate the exit points (when the algorithm buys the stock to cover the short position).\n",
    "\n",
    "  > **Hint:** Remember that you’re creating a short-position algorithm. The signal to trade (1) occurs when the short-window SMA (the “SMA50” value) is less than the long-window SMA (the “SMA100” value).\n"
   ]
  },
  {
   "cell_type": "code",
   "execution_count": null,
   "metadata": {},
   "outputs": [],
   "source": [
    "# Visualize entry positions relative to close price\n",
    "entry = # YOUR CODE HERE\n"
   ]
  },
  {
   "cell_type": "code",
   "execution_count": null,
   "metadata": {},
   "outputs": [],
   "source": [
    "# Visualize exit positions relative to close price\n",
    "exit = # YOUR CODE HERE\n"
   ]
  },
  {
   "cell_type": "code",
   "execution_count": null,
   "metadata": {},
   "outputs": [
    {
     "data": {
      "application/vnd.holoviews_exec.v0+json": "",
      "text/html": [
       "<div id='1190'>\n",
       "\n",
       "\n",
       "\n",
       "\n",
       "\n",
       "  <div class=\"bk-root\" id=\"fe31a52c-f8f0-4243-8c85-f96217a8786c\" data-root-id=\"1190\"></div>\n",
       "</div>\n",
       "<script type=\"application/javascript\">(function(root) {\n",
       "  function embed_document(root) {\n",
       "    var docs_json = {\"916432ea-2601-422c-86a8-bed7643e6607\":{\"roots\":{\"references\":[{\"attributes\":{\"fill_color\":{\"value\":\"purple\"},\"line_color\":{\"value\":\"purple\"},\"marker\":{\"value\":\"triangle\"},\"size\":{\"units\":\"screen\",\"value\":5.477225575051661},\"x\":{\"field\":\"Date\"},\"y\":{\"field\":\"Close\"}},\"id\":\"1233\",\"type\":\"Scatter\"},{\"attributes\":{\"base\":24,\"mantissas\":[1,2,4,6,8,12],\"max_interval\":43200000.0,\"min_interval\":3600000.0,\"num_minor_ticks\":0},\"id\":\"1254\",\"type\":\"AdaptiveTicker\"},{\"attributes\":{\"days\":[1,15]},\"id\":\"1258\",\"type\":\"DaysTicker\"},{\"attributes\":{\"months\":[0,6]},\"id\":\"1262\",\"type\":\"MonthsTicker\"},{\"attributes\":{\"margin\":[5,5,5,5],\"name\":\"HSpacer01780\",\"sizing_mode\":\"stretch_width\"},\"id\":\"1444\",\"type\":\"Spacer\"},{\"attributes\":{\"fill_alpha\":{\"value\":0.2},\"fill_color\":{\"value\":\"purple\"},\"line_alpha\":{\"value\":0.2},\"line_color\":{\"value\":\"purple\"},\"marker\":{\"value\":\"triangle\"},\"size\":{\"units\":\"screen\",\"value\":5.477225575051661},\"x\":{\"field\":\"Date\"},\"y\":{\"field\":\"Close\"}},\"id\":\"1235\",\"type\":\"Scatter\"},{\"attributes\":{\"data\":{\"Close\":{\"__ndarray__\":\"ehUZHZBeRUAiF5zB36dDQABUceMWgzRA\",\"dtype\":\"float64\",\"order\":\"little\",\"shape\":[3]},\"Date\":{\"__ndarray__\":\"AADAiaJccUIAAEAbWpNxQgAAwHkHFnJC\",\"dtype\":\"float64\",\"order\":\"little\",\"shape\":[3]}},\"selected\":{\"id\":\"1239\"},\"selection_policy\":{\"id\":\"1266\"}},\"id\":\"1238\",\"type\":\"ColumnDataSource\"},{\"attributes\":{},\"id\":\"1264\",\"type\":\"UnionRenderers\"},{\"attributes\":{},\"id\":\"1239\",\"type\":\"Selection\"},{\"attributes\":{},\"id\":\"1266\",\"type\":\"UnionRenderers\"},{\"attributes\":{\"source\":{\"id\":\"1238\"}},\"id\":\"1245\",\"type\":\"CDSView\"},{\"attributes\":{\"end\":1245376512000.0,\"reset_end\":1245376512000.0,\"reset_start\":1177538688000.0,\"start\":1177538688000.0,\"tags\":[[[\"Date\",\"Date\",null]]]},\"id\":\"1192\",\"type\":\"Range1d\"},{\"attributes\":{},\"id\":\"1201\",\"type\":\"LinearScale\"},{\"attributes\":{},\"id\":\"1263\",\"type\":\"YearsTicker\"},{\"attributes\":{},\"id\":\"1229\",\"type\":\"BasicTickFormatter\"},{\"attributes\":{},\"id\":\"1213\",\"type\":\"SaveTool\"},{\"attributes\":{\"days\":[1,8,15,22]},\"id\":\"1257\",\"type\":\"DaysTicker\"},{\"attributes\":{\"angle\":{\"units\":\"rad\",\"value\":3.141592653589793},\"fill_alpha\":{\"value\":0.2},\"fill_color\":{\"value\":\"orange\"},\"line_alpha\":{\"value\":0.2},\"line_color\":{\"value\":\"orange\"},\"marker\":{\"value\":\"triangle\"},\"size\":{\"units\":\"screen\",\"value\":5.477225575051661},\"x\":{\"field\":\"Date\"},\"y\":{\"field\":\"Close\"}},\"id\":\"1243\",\"type\":\"Scatter\"},{\"attributes\":{\"below\":[{\"id\":\"1205\"}],\"center\":[{\"id\":\"1208\"},{\"id\":\"1212\"}],\"left\":[{\"id\":\"1209\"}],\"margin\":[5,5,5,5],\"min_border_bottom\":10,\"min_border_left\":10,\"min_border_right\":10,\"min_border_top\":10,\"plot_height\":400,\"plot_width\":1000,\"renderers\":[{\"id\":\"1236\"},{\"id\":\"1244\"}],\"sizing_mode\":\"fixed\",\"title\":{\"id\":\"1197\"},\"toolbar\":{\"id\":\"1219\"},\"x_range\":{\"id\":\"1192\"},\"x_scale\":{\"id\":\"1201\"},\"y_range\":{\"id\":\"1193\"},\"y_scale\":{\"id\":\"1203\"}},\"id\":\"1196\",\"subtype\":\"Figure\",\"type\":\"Plot\"},{\"attributes\":{},\"id\":\"1214\",\"type\":\"PanTool\"},{\"attributes\":{},\"id\":\"1215\",\"type\":\"WheelZoomTool\"},{\"attributes\":{\"angle\":{\"units\":\"rad\",\"value\":3.141592653589793},\"fill_alpha\":{\"value\":0.1},\"fill_color\":{\"value\":\"orange\"},\"line_alpha\":{\"value\":0.1},\"line_color\":{\"value\":\"orange\"},\"marker\":{\"value\":\"triangle\"},\"size\":{\"units\":\"screen\",\"value\":5.477225575051661},\"x\":{\"field\":\"Date\"},\"y\":{\"field\":\"Close\"}},\"id\":\"1242\",\"type\":\"Scatter\"},{\"attributes\":{\"active_drag\":\"auto\",\"active_inspect\":\"auto\",\"active_multi\":null,\"active_scroll\":\"auto\",\"active_tap\":\"auto\",\"tools\":[{\"id\":\"1194\"},{\"id\":\"1213\"},{\"id\":\"1214\"},{\"id\":\"1215\"},{\"id\":\"1216\"},{\"id\":\"1217\"}]},\"id\":\"1219\",\"type\":\"Toolbar\"},{\"attributes\":{\"data_source\":{\"id\":\"1230\"},\"glyph\":{\"id\":\"1233\"},\"hover_glyph\":null,\"muted_glyph\":{\"id\":\"1235\"},\"nonselection_glyph\":{\"id\":\"1234\"},\"selection_glyph\":null,\"view\":{\"id\":\"1237\"}},\"id\":\"1236\",\"type\":\"GlyphRenderer\"},{\"attributes\":{\"callback\":null,\"formatters\":{\"@{Date}\":\"datetime\"},\"renderers\":[{\"id\":\"1236\"},{\"id\":\"1244\"}],\"tags\":[\"hv_created\"],\"tooltips\":[[\"Date\",\"@{Date}{%F %T}\"],[\"Close\",\"@{Close}\"]]},\"id\":\"1194\",\"type\":\"HoverTool\"},{\"attributes\":{\"overlay\":{\"id\":\"1218\"}},\"id\":\"1216\",\"type\":\"BoxZoomTool\"},{\"attributes\":{\"bottom_units\":\"screen\",\"fill_alpha\":0.5,\"fill_color\":\"lightgrey\",\"left_units\":\"screen\",\"level\":\"overlay\",\"line_alpha\":1.0,\"line_color\":\"black\",\"line_dash\":[4,4],\"line_width\":2,\"right_units\":\"screen\",\"top_units\":\"screen\"},\"id\":\"1218\",\"type\":\"BoxAnnotation\"},{\"attributes\":{\"margin\":[5,5,5,5],\"name\":\"HSpacer01779\",\"sizing_mode\":\"stretch_width\"},\"id\":\"1191\",\"type\":\"Spacer\"},{\"attributes\":{\"months\":[0,1,2,3,4,5,6,7,8,9,10,11]},\"id\":\"1259\",\"type\":\"MonthsTicker\"},{\"attributes\":{},\"id\":\"1203\",\"type\":\"LinearScale\"},{\"attributes\":{\"axis_label\":\"Date\",\"bounds\":\"auto\",\"formatter\":{\"id\":\"1227\"},\"major_label_orientation\":\"horizontal\",\"ticker\":{\"id\":\"1206\"}},\"id\":\"1205\",\"type\":\"DatetimeAxis\"},{\"attributes\":{\"days\":[1,4,7,10,13,16,19,22,25,28]},\"id\":\"1256\",\"type\":\"DaysTicker\"},{\"attributes\":{\"text\":\"Close\",\"text_color\":{\"value\":\"black\"},\"text_font_size\":{\"value\":\"12pt\"}},\"id\":\"1197\",\"type\":\"Title\"},{\"attributes\":{},\"id\":\"1217\",\"type\":\"ResetTool\"},{\"attributes\":{\"angle\":{\"units\":\"rad\",\"value\":3.141592653589793},\"fill_color\":{\"value\":\"orange\"},\"line_color\":{\"value\":\"orange\"},\"marker\":{\"value\":\"triangle\"},\"size\":{\"units\":\"screen\",\"value\":5.477225575051661},\"x\":{\"field\":\"Date\"},\"y\":{\"field\":\"Close\"}},\"id\":\"1241\",\"type\":\"Scatter\"},{\"attributes\":{\"data_source\":{\"id\":\"1238\"},\"glyph\":{\"id\":\"1241\"},\"hover_glyph\":null,\"muted_glyph\":{\"id\":\"1243\"},\"nonselection_glyph\":{\"id\":\"1242\"},\"selection_glyph\":null,\"view\":{\"id\":\"1245\"}},\"id\":\"1244\",\"type\":\"GlyphRenderer\"},{\"attributes\":{\"fill_alpha\":{\"value\":0.1},\"fill_color\":{\"value\":\"purple\"},\"line_alpha\":{\"value\":0.1},\"line_color\":{\"value\":\"purple\"},\"marker\":{\"value\":\"triangle\"},\"size\":{\"units\":\"screen\",\"value\":5.477225575051661},\"x\":{\"field\":\"Date\"},\"y\":{\"field\":\"Close\"}},\"id\":\"1234\",\"type\":\"Scatter\"},{\"attributes\":{\"days\":[1,2,3,4,5,6,7,8,9,10,11,12,13,14,15,16,17,18,19,20,21,22,23,24,25,26,27,28,29,30,31]},\"id\":\"1255\",\"type\":\"DaysTicker\"},{\"attributes\":{},\"id\":\"1210\",\"type\":\"BasicTicker\"},{\"attributes\":{\"months\":[0,2,4,6,8,10]},\"id\":\"1260\",\"type\":\"MonthsTicker\"},{\"attributes\":{\"months\":[0,4,8]},\"id\":\"1261\",\"type\":\"MonthsTicker\"},{\"attributes\":{\"end\":45.7566511,\"reset_end\":45.7566511,\"reset_start\":18.2171059,\"start\":18.2171059,\"tags\":[[[\"Close\",\"Close\",null]]]},\"id\":\"1193\",\"type\":\"Range1d\"},{\"attributes\":{\"data\":{\"Close\":{\"__ndarray__\":\"I/YJoBi7RUAFwePbuyZCQIveqYB7/EFA\",\"dtype\":\"float64\",\"order\":\"little\",\"shape\":[3]},\"Date\":{\"__ndarray__\":\"AACAhQgscUIAAABmVm5xQgAAAKmSsnFC\",\"dtype\":\"float64\",\"order\":\"little\",\"shape\":[3]}},\"selected\":{\"id\":\"1231\"},\"selection_policy\":{\"id\":\"1264\"}},\"id\":\"1230\",\"type\":\"ColumnDataSource\"},{\"attributes\":{\"num_minor_ticks\":5,\"tickers\":[{\"id\":\"1252\"},{\"id\":\"1253\"},{\"id\":\"1254\"},{\"id\":\"1255\"},{\"id\":\"1256\"},{\"id\":\"1257\"},{\"id\":\"1258\"},{\"id\":\"1259\"},{\"id\":\"1260\"},{\"id\":\"1261\"},{\"id\":\"1262\"},{\"id\":\"1263\"}]},\"id\":\"1206\",\"type\":\"DatetimeTicker\"},{\"attributes\":{\"base\":60,\"mantissas\":[1,2,5,10,15,20,30],\"max_interval\":1800000.0,\"min_interval\":1000.0,\"num_minor_ticks\":0},\"id\":\"1253\",\"type\":\"AdaptiveTicker\"},{\"attributes\":{},\"id\":\"1227\",\"type\":\"DatetimeTickFormatter\"},{\"attributes\":{},\"id\":\"1231\",\"type\":\"Selection\"},{\"attributes\":{\"axis\":{\"id\":\"1205\"},\"grid_line_color\":null,\"ticker\":null},\"id\":\"1208\",\"type\":\"Grid\"},{\"attributes\":{\"source\":{\"id\":\"1230\"}},\"id\":\"1237\",\"type\":\"CDSView\"},{\"attributes\":{\"children\":[{\"id\":\"1191\"},{\"id\":\"1196\"},{\"id\":\"1444\"}],\"margin\":[0,0,0,0],\"name\":\"Row01775\",\"tags\":[\"embedded\"]},\"id\":\"1190\",\"type\":\"Row\"},{\"attributes\":{\"axis\":{\"id\":\"1209\"},\"dimension\":1,\"grid_line_color\":null,\"ticker\":null},\"id\":\"1212\",\"type\":\"Grid\"},{\"attributes\":{\"mantissas\":[1,2,5],\"max_interval\":500.0,\"num_minor_ticks\":0},\"id\":\"1252\",\"type\":\"AdaptiveTicker\"},{\"attributes\":{\"axis_label\":\"Price in $\",\"bounds\":\"auto\",\"formatter\":{\"id\":\"1229\"},\"major_label_orientation\":\"horizontal\",\"ticker\":{\"id\":\"1210\"}},\"id\":\"1209\",\"type\":\"LinearAxis\"}],\"root_ids\":[\"1190\"]},\"title\":\"Bokeh Application\",\"version\":\"2.2.3\"}};\n",
       "    var render_items = [{\"docid\":\"916432ea-2601-422c-86a8-bed7643e6607\",\"root_ids\":[\"1190\"],\"roots\":{\"1190\":\"fe31a52c-f8f0-4243-8c85-f96217a8786c\"}}];\n",
       "    root.Bokeh.embed.embed_items_notebook(docs_json, render_items);\n",
       "  }\n",
       "  if (root.Bokeh !== undefined && root.Bokeh.Panel !== undefined) {\n",
       "    embed_document(root);\n",
       "  } else {\n",
       "    var attempts = 0;\n",
       "    var timer = setInterval(function(root) {\n",
       "      if (root.Bokeh !== undefined && root.Bokeh.Panel !== undefined) {\n",
       "        clearInterval(timer);\n",
       "        embed_document(root);\n",
       "      } else if (document.readyState == \"complete\") {\n",
       "        attempts++;\n",
       "        if (attempts > 100) {\n",
       "          clearInterval(timer);\n",
       "          console.log(\"Bokeh: ERROR: Unable to run BokehJS code because BokehJS library is missing\");\n",
       "        }\n",
       "      }\n",
       "    }, 10, root)\n",
       "  }\n",
       "})(window);</script>"
      ],
      "text/plain": [
       ":Overlay\n",
       "   .Scatter.Close.I  :Scatter   [Date]   (Close)\n",
       "   .Scatter.Close.II :Scatter   [Date]   (Close)"
      ]
     },
     "execution_count": 12,
     "metadata": {
      "application/vnd.holoviews_exec.v0+json": {
       "id": "1190"
      }
     },
     "output_type": "execute_result"
    }
   ],
   "source": [
    "# Plot the entry and exit points\n",
    "# YOUR CODE HERE\n"
   ]
  },
  {
   "cell_type": "markdown",
   "metadata": {},
   "source": [
    "### Step 2: Create two line plots: one for the VNQ closing prices and another for the 50-day and 100-day SMAs."
   ]
  },
  {
   "cell_type": "code",
   "execution_count": null,
   "metadata": {},
   "outputs": [],
   "source": [
    "# Visualize Close price for the investment\n",
    "security_close = # YOUR CODE HERE\n",
    "\n",
    "# Visualize the SMA50 and SMA 100 moving averages\n",
    "moving_avgs = # YOUR CODE HERE\n"
   ]
  },
  {
   "cell_type": "code",
   "execution_count": null,
   "metadata": {},
   "outputs": [
    {
     "data": {
      "application/vnd.holoviews_exec.v0+json": "",
      "text/html": [
       "<div id='1556'>\n",
       "\n",
       "\n",
       "\n",
       "\n",
       "\n",
       "  <div class=\"bk-root\" id=\"b27c3529-4470-429f-8c2b-dd1c2fb72db6\" data-root-id=\"1556\"></div>\n",
       "</div>\n",
       "<script type=\"application/javascript\">(function(root) {\n",
       "  function embed_document(root) {\n",
       "    var docs_json = {\"bdc11e55-ed53-489f-b6de-da4402f65e39\":{\"roots\":{\"references\":[{\"attributes\":{\"callback\":null,\"formatters\":{\"@{Date}\":\"datetime\"},\"renderers\":[{\"id\":\"1604\"}],\"tags\":[\"hv_created\"],\"tooltips\":[[\"Date\",\"@{Date}{%F %T}\"],[\"Close\",\"@{Close}\"]]},\"id\":\"1560\",\"type\":\"HoverTool\"},{\"attributes\":{\"data\":{\"Date\":{\"__ndarray__\":\"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\",\"dtype\":\"float64\",\"order\":\"little\",\"shape\":[756]},\"Variable\":[\"SMA100\",\"SMA100\",\"SMA100\",\"SMA100\",\"SMA100\",\"SMA100\",\"SMA100\",\"SMA100\",\"SMA100\",\"SMA100\",\"SMA100\",\"SMA100\",\"SMA100\",\"SMA100\",\"SMA100\",\"SMA100\",\"SMA100\",\"SMA100\",\"SMA100\",\"SMA100\",\"SMA100\",\"SMA100\",\"SMA100\",\"SMA100\",\"SMA100\",\"SMA100\",\"SMA100\",\"SMA100\",\"SMA100\",\"SMA100\",\"SMA100\",\"SMA100\",\"SMA100\",\"SMA100\",\"SMA100\",\"SMA100\",\"SMA100\",\"SMA100\",\"SMA100\",\"SMA100\",\"SMA100\",\"SMA100\",\"SMA100\",\"SMA100\",\"SMA100\",\"SMA100\",\"SMA100\",\"SMA100\",\"SMA100\",\"SMA100\",\"SMA100\",\"SMA100\",\"SMA100\",\"SMA100\",\"SMA100\",\"SMA100\",\"SMA100\",\"SMA100\",\"SMA100\",\"SMA100\",\"SMA100\",\"SMA100\",\"SMA100\",\"SMA100\",\"SMA100\",\"SMA100\",\"SMA100\",\"SMA100\",\"SMA100\",\"SMA100\",\"SMA100\",\"SMA100\",\"SMA100\",\"SMA100\",\"SMA100\",\"SMA100\",\"SMA100\",\"SMA100\",\"SMA100\",\"SMA100\",\"SMA100\",\"SMA100\",\"SMA100\",\"SMA100\",\"SMA100\",\"SMA100\",\"SMA100\",\"SMA100\",\"SMA100\",\"SMA100\",\"SMA100\",\"SMA100\",\"SMA100\",\"SMA100\",\"SMA100\",\"SMA100\",\"SMA100\",\"SMA100\",\"SMA100\",\"SMA100\",\"SMA100\",\"SMA100\",\"SMA100\",\"SMA100\",\"SMA100\",\"SMA100\",\"SMA100\",\"SMA100\",\"SMA100\",\"SMA100\",\"SMA100\",\"SMA100\",\"SMA100\",\"SMA100\",\"SMA100\",\"SMA100\",\"SMA100\",\"SMA100\",\"SMA100\",\"SMA100\",\"SMA100\",\"SMA100\",\"SMA100\",\"SMA100\",\"SMA100\",\"SMA100\",\"SMA100\",\"SMA100\",\"SMA100\",\"SMA100\",\"SMA100\",\"SMA100\",\"SMA100\",\"SMA100\",\"SMA100\",\"SMA100\",\"SMA100\",\"SMA100\",\"SMA100\",\"SMA100\",\"SMA100\",\"SMA100\",\"SMA100\",\"SMA100\",\"SMA100\",\"SMA100\",\"SMA100\",\"SMA100\",\"SMA100\",\"SMA100\",\"SMA100\",\"SMA100\",\"SMA100\",\"SMA100\",\"SMA100\",\"SMA100\",\"SMA100\",\"SMA100\",\"SMA100\",\"SMA100\",\"SMA100\",\"SMA100\",\"SMA100\",\"SMA100\",\"SMA100\",\"SMA100\",\"SMA100\",\"SMA100\",\"SMA100\",\"SMA100\",\"SMA100\",\"SMA100\",\"SMA100\",\"SMA100\",\"SMA100\",\"SMA100\",\"SMA100\",\"SMA100\",\"SMA100\",\"SMA100\",\"SMA100\",\"SMA100\",\"SMA100\",\"SMA100\",\"SMA100\",\"SMA100\",\"SMA100\",\"SMA100\",\"SMA100\",\"SMA100\",\"SMA100\",\"SMA100\",\"SMA100\",\"SMA100\",\"SMA100\",\"SMA100\",\"SMA100\",\"SMA100\",\"SMA100\",\"SMA100\",\"SMA100\",\"SMA100\",\"SMA100\",\"SMA100\",\"SMA100\",\"SMA100\",\"SMA100\",\"SMA100\",\"SMA100\",\"SMA100\",\"SMA100\",\"SMA100\",\"SMA100\",\"SMA100\",\"SMA100\",\"SMA100\",\"SMA100\",\"SMA100\",\"SMA100\",\"SMA100\",\"SMA100\",\"SMA100\",\"SMA100\",\"SMA100\",\"SMA100\",\"SMA100\",\"SMA100\",\"SMA100\",\"SMA100\",\"SMA100\",\"SMA100\",\"SMA100\",\"SMA100\",\"SMA100\",\"SMA100\",\"SMA100\",\"SMA100\",\"SMA100\",\"SMA100\",\"SMA100\",\"SMA100\",\"SMA100\",\"SMA100\",\"SMA100\",\"SMA100\",\"SMA100\",\"SMA100\",\"SMA100\",\"SMA100\",\"SMA100\",\"SMA100\",\"SMA100\",\"SMA100\",\"SMA100\",\"SMA100\",\"SMA100\",\"SMA100\",\"SMA100\",\"SMA100\",\"SMA100\",\"SMA100\",\"SMA100\",\"SMA100\",\"SMA100\",\"SMA100\",\"SMA100\",\"SMA100\",\"SMA100\",\"SMA100\",\"SMA100\",\"SMA100\",\"SMA100\",\"SMA100\",\"SMA100\",\"SMA100\",\"SMA100\",\"SMA100\",\"SMA100\",\"SMA100\",\"SMA100\",\"SMA100\",\"SMA100\",\"SMA100\",\"SMA100\",\"SMA100\",\"SMA100\",\"SMA100\",\"SMA100\",\"SMA100\",\"SMA100\",\"SMA100\",\"SMA100\",\"SMA100\",\"SMA100\",\"SMA100\",\"SMA100\",\"SMA100\",\"SMA100\",\"SMA100\",\"SMA100\",\"SMA100\",\"SMA100\",\"SMA100\",\"SMA100\",\"SMA100\",\"SMA100\",\"SMA100\",\"SMA100\",\"SMA100\",\"SMA100\",\"SMA100\",\"SMA100\",\"SMA100\",\"SMA100\",\"SMA100\",\"SMA100\",\"SMA100\",\"SMA100\",\"SMA100\",\"SMA100\",\"SMA100\",\"SMA100\",\"SMA100\",\"SMA100\",\"SMA100\",\"SMA100\",\"SMA100\",\"SMA100\",\"SMA100\",\"SMA100\",\"SMA100\",\"SMA100\",\"SMA100\",\"SMA100\",\"SMA100\",\"SMA100\",\"SMA100\",\"SMA100\",\"SMA100\",\"SMA100\",\"SMA100\",\"SMA100\",\"SMA100\",\"SMA100\",\"SMA100\",\"SMA100\",\"SMA100\",\"SMA100\",\"SMA100\",\"SMA100\",\"SMA100\",\"SMA100\",\"SMA100\",\"SMA100\",\"SMA100\",\"SMA100\",\"SMA100\",\"SMA100\",\"SMA100\",\"SMA100\",\"SMA100\",\"SMA100\",\"SMA100\",\"SMA100\",\"SMA100\",\"SMA100\",\"SMA100\",\"SMA100\",\"SMA100\",\"SMA100\",\"SMA100\",\"SMA100\",\"SMA100\",\"SMA100\",\"SMA100\",\"SMA100\",\"SMA100\",\"SMA100\",\"SMA100\",\"SMA100\",\"SMA100\",\"SMA100\",\"SMA100\",\"SMA100\",\"SMA100\",\"SMA100\",\"SMA100\",\"SMA100\",\"SMA100\",\"SMA100\",\"SMA100\",\"SMA100\",\"SMA100\",\"SMA100\",\"SMA100\",\"SMA100\",\"SMA100\",\"SMA100\",\"SMA100\",\"SMA100\",\"SMA100\",\"SMA100\",\"SMA100\",\"SMA100\",\"SMA100\",\"SMA100\",\"SMA100\",\"SMA100\",\"SMA100\",\"SMA100\",\"SMA100\",\"SMA100\",\"SMA100\",\"SMA100\",\"SMA100\",\"SMA100\",\"SMA100\",\"SMA100\",\"SMA100\",\"SMA100\",\"SMA100\",\"SMA100\",\"SMA100\",\"SMA100\",\"SMA100\",\"SMA100\",\"SMA100\",\"SMA100\",\"SMA100\",\"SMA100\",\"SMA100\",\"SMA100\",\"SMA100\",\"SMA100\",\"SMA100\",\"SMA100\",\"SMA100\",\"SMA100\",\"SMA100\",\"SMA100\",\"SMA100\",\"SMA100\",\"SMA100\",\"SMA100\",\"SMA100\",\"SMA100\",\"SMA100\",\"SMA100\",\"SMA100\",\"SMA100\",\"SMA100\",\"SMA100\",\"SMA100\",\"SMA100\",\"SMA100\",\"SMA100\",\"SMA100\",\"SMA100\",\"SMA100\",\"SMA100\",\"SMA100\",\"SMA100\",\"SMA100\",\"SMA100\",\"SMA100\",\"SMA100\",\"SMA100\",\"SMA100\",\"SMA100\",\"SMA100\",\"SMA100\",\"SMA100\",\"SMA100\",\"SMA100\",\"SMA100\",\"SMA100\",\"SMA100\",\"SMA100\",\"SMA100\",\"SMA100\",\"SMA100\",\"SMA100\",\"SMA100\",\"SMA100\",\"SMA100\",\"SMA100\",\"SMA100\",\"SMA100\",\"SMA100\",\"SMA100\",\"SMA100\",\"SMA100\",\"SMA100\",\"SMA100\",\"SMA100\",\"SMA100\",\"SMA100\",\"SMA100\",\"SMA100\",\"SMA100\",\"SMA100\",\"SMA100\",\"SMA100\",\"SMA100\",\"SMA100\",\"SMA100\",\"SMA100\",\"SMA100\",\"SMA100\",\"SMA100\",\"SMA100\",\"SMA100\",\"SMA100\",\"SMA100\",\"SMA100\",\"SMA100\",\"SMA100\",\"SMA100\",\"SMA100\",\"SMA100\",\"SMA100\",\"SMA100\",\"SMA100\",\"SMA100\",\"SMA100\",\"SMA100\",\"SMA100\",\"SMA100\",\"SMA100\",\"SMA100\",\"SMA100\",\"SMA100\",\"SMA100\",\"SMA100\",\"SMA100\",\"SMA100\",\"SMA100\",\"SMA100\",\"SMA100\",\"SMA100\",\"SMA100\",\"SMA100\",\"SMA100\",\"SMA100\",\"SMA100\",\"SMA100\",\"SMA100\",\"SMA100\",\"SMA100\",\"SMA100\",\"SMA100\",\"SMA100\",\"SMA100\",\"SMA100\",\"SMA100\",\"SMA100\",\"SMA100\",\"SMA100\",\"SMA100\",\"SMA100\",\"SMA100\",\"SMA100\",\"SMA100\",\"SMA100\",\"SMA100\",\"SMA100\",\"SMA100\",\"SMA100\",\"SMA100\",\"SMA100\",\"SMA100\",\"SMA100\",\"SMA100\",\"SMA100\",\"SMA100\",\"SMA100\",\"SMA100\",\"SMA100\",\"SMA100\",\"SMA100\",\"SMA100\",\"SMA100\",\"SMA100\",\"SMA100\",\"SMA100\",\"SMA100\",\"SMA100\",\"SMA100\",\"SMA100\",\"SMA100\",\"SMA100\",\"SMA100\",\"SMA100\",\"SMA100\",\"SMA100\",\"SMA100\",\"SMA100\",\"SMA100\",\"SMA100\",\"SMA100\",\"SMA100\",\"SMA100\",\"SMA100\",\"SMA100\",\"SMA100\",\"SMA100\",\"SMA100\",\"SMA100\",\"SMA100\",\"SMA100\",\"SMA100\",\"SMA100\",\"SMA100\",\"SMA100\",\"SMA100\",\"SMA100\",\"SMA100\",\"SMA100\",\"SMA100\",\"SMA100\",\"SMA100\",\"SMA100\",\"SMA100\",\"SMA100\",\"SMA100\",\"SMA100\",\"SMA100\",\"SMA100\",\"SMA100\",\"SMA100\",\"SMA100\",\"SMA100\",\"SMA100\",\"SMA100\",\"SMA100\",\"SMA100\",\"SMA100\",\"SMA100\",\"SMA100\",\"SMA100\",\"SMA100\",\"SMA100\",\"SMA100\",\"SMA100\",\"SMA100\",\"SMA100\",\"SMA100\",\"SMA100\",\"SMA100\",\"SMA100\",\"SMA100\",\"SMA100\",\"SMA100\",\"SMA100\",\"SMA100\",\"SMA100\",\"SMA100\",\"SMA100\",\"SMA100\",\"SMA100\",\"SMA100\",\"SMA100\",\"SMA100\",\"SMA100\",\"SMA100\",\"SMA100\",\"SMA100\",\"SMA100\",\"SMA100\",\"SMA100\",\"SMA100\",\"SMA100\",\"SMA100\",\"SMA100\",\"SMA100\",\"SMA100\",\"SMA100\",\"SMA100\",\"SMA100\",\"SMA100\",\"SMA100\",\"SMA100\",\"SMA100\",\"SMA100\",\"SMA100\",\"SMA100\",\"SMA100\",\"SMA100\",\"SMA100\",\"SMA100\",\"SMA100\",\"SMA100\",\"SMA100\",\"SMA100\",\"SMA100\",\"SMA100\",\"SMA100\",\"SMA100\",\"SMA100\",\"SMA100\",\"SMA100\",\"SMA100\",\"SMA100\",\"SMA100\",\"SMA100\",\"SMA100\",\"SMA100\",\"SMA100\",\"SMA100\",\"SMA100\",\"SMA100\",\"SMA100\",\"SMA100\",\"SMA100\",\"SMA100\",\"SMA100\",\"SMA100\",\"SMA100\",\"SMA100\",\"SMA100\",\"SMA100\",\"SMA100\",\"SMA100\",\"SMA100\",\"SMA100\",\"SMA100\",\"SMA100\",\"SMA100\",\"SMA100\",\"SMA100\",\"SMA100\",\"SMA100\",\"SMA100\",\"SMA100\",\"SMA100\",\"SMA100\",\"SMA100\",\"SMA100\",\"SMA100\",\"SMA100\",\"SMA100\",\"SMA100\",\"SMA100\",\"SMA100\",\"SMA100\",\"SMA100\",\"SMA100\",\"SMA100\",\"SMA100\",\"SMA100\",\"SMA100\",\"SMA100\",\"SMA100\",\"SMA100\",\"SMA100\",\"SMA100\"],\"value\":{\"__ndarray__\":\"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\",\"dtype\":\"float64\",\"order\":\"little\",\"shape\":[756]}},\"selected\":{\"id\":\"1639\"},\"selection_policy\":{\"id\":\"1668\"}},\"id\":\"1638\",\"type\":\"ColumnDataSource\"},{\"attributes\":{\"margin\":[5,5,5,5],\"name\":\"HSpacer02282\",\"sizing_mode\":\"stretch_width\"},\"id\":\"1557\",\"type\":\"Spacer\"},{\"attributes\":{\"line_color\":\"#ff7e0e\",\"line_width\":2,\"x\":{\"field\":\"Date\"},\"y\":{\"field\":\"value\"}},\"id\":\"1609\",\"type\":\"Line\"},{\"attributes\":{\"margin\":[5,5,5,5],\"name\":\"HSpacer02283\",\"sizing_mode\":\"stretch_width\"},\"id\":\"2055\",\"type\":\"Spacer\"},{\"attributes\":{\"line_color\":\"lightgray\",\"line_width\":2,\"x\":{\"field\":\"Date\"},\"y\":{\"field\":\"Close\"}},\"id\":\"1601\",\"type\":\"Line\"},{\"attributes\":{\"data_source\":{\"id\":\"1598\"},\"glyph\":{\"id\":\"1601\"},\"hover_glyph\":null,\"muted_glyph\":{\"id\":\"1603\"},\"nonselection_glyph\":{\"id\":\"1602\"},\"selection_glyph\":null,\"view\":{\"id\":\"1605\"}},\"id\":\"1604\",\"type\":\"GlyphRenderer\"},{\"attributes\":{\"bottom_units\":\"screen\",\"fill_alpha\":0.5,\"fill_color\":\"lightgrey\",\"left_units\":\"screen\",\"level\":\"overlay\",\"line_alpha\":1.0,\"line_color\":\"black\",\"line_dash\":[4,4],\"line_width\":2,\"right_units\":\"screen\",\"top_units\":\"screen\"},\"id\":\"1585\",\"type\":\"BoxAnnotation\"},{\"attributes\":{\"click_policy\":\"mute\",\"items\":[{\"id\":\"1637\"},{\"id\":\"1670\"}],\"location\":[0,0]},\"id\":\"1636\",\"type\":\"Legend\"},{\"attributes\":{\"line_alpha\":0.2,\"line_color\":\"#2ba02b\",\"line_width\":2,\"x\":{\"field\":\"Date\"},\"y\":{\"field\":\"value\"}},\"id\":\"1643\",\"type\":\"Line\"},{\"attributes\":{\"line_alpha\":0.1,\"line_color\":\"#2ba02b\",\"line_width\":2,\"x\":{\"field\":\"Date\"},\"y\":{\"field\":\"value\"}},\"id\":\"1642\",\"type\":\"Line\"},{\"attributes\":{\"data_source\":{\"id\":\"1606\"},\"glyph\":{\"id\":\"1609\"},\"hover_glyph\":null,\"muted_glyph\":{\"id\":\"1611\"},\"nonselection_glyph\":{\"id\":\"1610\"},\"selection_glyph\":null,\"view\":{\"id\":\"1613\"}},\"id\":\"1612\",\"type\":\"GlyphRenderer\"},{\"attributes\":{},\"id\":\"1595\",\"type\":\"DatetimeTickFormatter\"},{\"attributes\":{\"children\":[{\"id\":\"1557\"},{\"id\":\"1563\"},{\"id\":\"2055\"}],\"margin\":[0,0,0,0],\"name\":\"Row02278\",\"tags\":[\"embedded\"]},\"id\":\"1556\",\"type\":\"Row\"},{\"attributes\":{\"label\":{\"value\":\"SMA100\"},\"renderers\":[{\"id\":\"1644\"}]},\"id\":\"1670\",\"type\":\"LegendItem\"},{\"attributes\":{},\"id\":\"1597\",\"type\":\"BasicTickFormatter\"},{\"attributes\":{},\"id\":\"1570\",\"type\":\"LinearScale\"},{\"attributes\":{\"text\":\"\",\"text_color\":{\"value\":\"black\"},\"text_font_size\":{\"value\":\"12pt\"}},\"id\":\"1564\",\"type\":\"Title\"},{\"attributes\":{\"source\":{\"id\":\"1606\"}},\"id\":\"1613\",\"type\":\"CDSView\"},{\"attributes\":{\"end\":54.2879814,\"reset_end\":54.2879814,\"reset_start\":9.930060600000001,\"start\":9.930060600000001,\"tags\":[[[\"Close\",\"Close\",null]]]},\"id\":\"1559\",\"type\":\"Range1d\"},{\"attributes\":{\"num_minor_ticks\":5,\"tickers\":[{\"id\":\"1620\"},{\"id\":\"1621\"},{\"id\":\"1622\"},{\"id\":\"1623\"},{\"id\":\"1624\"},{\"id\":\"1625\"},{\"id\":\"1626\"},{\"id\":\"1627\"},{\"id\":\"1628\"},{\"id\":\"1629\"},{\"id\":\"1630\"},{\"id\":\"1631\"}]},\"id\":\"1573\",\"type\":\"DatetimeTicker\"},{\"attributes\":{\"line_alpha\":0.1,\"line_color\":\"#ff7e0e\",\"line_width\":2,\"x\":{\"field\":\"Date\"},\"y\":{\"field\":\"value\"}},\"id\":\"1610\",\"type\":\"Line\"},{\"attributes\":{\"line_alpha\":0.2,\"line_color\":\"#ff7e0e\",\"line_width\":2,\"x\":{\"field\":\"Date\"},\"y\":{\"field\":\"value\"}},\"id\":\"1611\",\"type\":\"Line\"},{\"attributes\":{},\"id\":\"1607\",\"type\":\"Selection\"},{\"attributes\":{\"mantissas\":[1,2,5],\"max_interval\":500.0,\"num_minor_ticks\":0},\"id\":\"1620\",\"type\":\"AdaptiveTicker\"},{\"attributes\":{\"base\":24,\"mantissas\":[1,2,4,6,8,12],\"max_interval\":43200000.0,\"min_interval\":3600000.0,\"num_minor_ticks\":0},\"id\":\"1622\",\"type\":\"AdaptiveTicker\"},{\"attributes\":{\"end\":1262217600000.0,\"reset_end\":1262217600000.0,\"reset_start\":1167782400000.0,\"start\":1167782400000.0,\"tags\":[[[\"Date\",\"Date\",null]]]},\"id\":\"1558\",\"type\":\"Range1d\"},{\"attributes\":{\"data_source\":{\"id\":\"1638\"},\"glyph\":{\"id\":\"1641\"},\"hover_glyph\":null,\"muted_glyph\":{\"id\":\"1643\"},\"nonselection_glyph\":{\"id\":\"1642\"},\"selection_glyph\":null,\"view\":{\"id\":\"1645\"}},\"id\":\"1644\",\"type\":\"GlyphRenderer\"},{\"attributes\":{\"base\":60,\"mantissas\":[1,2,5,10,15,20,30],\"max_interval\":1800000.0,\"min_interval\":1000.0,\"num_minor_ticks\":0},\"id\":\"1621\",\"type\":\"AdaptiveTicker\"},{\"attributes\":{\"data\":{\"Date\":{\"__ndarray__\":\"AAAAFVT+cEIAAMB6pv5wQgAAgOD4/nBCAADAEfD/cEIAAIB3QgBxQgAAQN2UAHFCAAAAQ+cAcUIAAMCoOQFxQgAAwD+DAnFCAACApdUCcUIAAEALKANxQgAAAHF6A3FCAABAonEEcUIAAAAIxARxQgAAwG0WBXFCAACA02gFcUIAAEA5uwVxQgAAgGqyBnFCAABA0AQHcUIAAAA2VwdxQgAAwJupB3FCAACAAfwHcUIAAMAy8whxQgAAgJhFCXFCAABA/pcJcUIAAABk6glxQgAAwMk8CnFCAAAA+zMLcUIAAMBghgtxQgAAgMbYC3FCAABALCsMcUIAAACSfQxxQgAAACnHDXFCAADAjhkOcUIAAID0aw5xQgAAQFq+DnFCAACAi7UPcUIAAEDxBxBxQgAAAFdaEHFCAADAvKwQcUIAAIAi/xBxQgAAwFP2EXFCAACAuUgScUIAAEAfmxJxQgAAAIXtEnFCAADA6j8TcUIAAAAcNxRxQgAAwIGJFHFCAACA59sUcUIAAEBNLhVxQgAAALOAFXFCAABA5HcWcUIAAABKyhZxQgAAwK8cF3FCAACAFW8XcUIAAEB7wRdxQgAAgKy4GHFCAABAEgsZcUIAAAB4XRlxQgAAwN2vGXFCAACAQwIacUIAAMB0+RpxQgAAgNpLG3FCAABAQJ4bcUIAAACm8BtxQgAAAD06HXFCAADAoowdcUIAAIAI3x1xQgAAQG4xHnFCAAAA1IMecUIAAEAFex9xQgAAAGvNH3FCAADA0B8gcUIAAIA2ciBxQgAAQJzEIHFCAACAzbshcUIAAEAzDiJxQgAAAJlgInFCAADA/rIicUIAAIBkBSNxQgAAwJX8I3FCAACA+04kcUIAAEBhoSRxQgAAAMfzJHFCAADALEYlcUIAAABePSZxQgAAwMOPJnFCAACAKeImcUIAAECPNCdxQgAAAPWGJ3FCAABAJn4ocUIAAACM0ChxQgAAwPEiKXFCAACAV3UpcUIAAEC9xylxQgAAgO6+KnFCAABAVBErcUIAAAC6YytxQgAAwB+2K3FCAACAhQgscUIAAIAcUi1xQgAAQIKkLXFCAAAA6PYtcUIAAMBNSS5xQgAAAH9AL3FCAADA5JIvcUIAAIBK5S9xQgAAQLA3MHFCAAAAFoowcUIAAEBHgTFxQgAAAK3TMXFCAADAEiYycUIAAIB4eDJxQgAAQN7KMnFCAACAD8IzcUIAAEB1FDRxQgAAANtmNHFCAADAQLk0cUIAAICmCzVxQgAAwNcCNnFCAACAPVU2cUIAAECjpzZxQgAAAAn6NnFCAADAbkw3cUIAAACgQzhxQgAAwAWWOHFCAABA0To5cUIAAAA3jTlxQgAAQGiEOnFCAAAAztY6cUIAAMAzKTtxQgAAgJl7O3FCAABA/807cUIAAIAwxTxxQgAAQJYXPXFCAAAA/Gk9cUIAAMBhvD1xQgAAgMcOPnFCAADA+AU/cUIAAIBeWD9xQgAAQMSqP3FCAAAAKv0/cUIAAMCPT0BxQgAAAMFGQXFCAADAJplBcUIAAICM60FxQgAAQPI9QnFCAAAAWJBCcUIAAECJh0NxQgAAAO/ZQ3FCAADAVCxEcUIAAIC6fkRxQgAAQCDRRHFCAACAUchFcUIAAEC3GkZxQgAAAB1tRnFCAADAgr9GcUIAAIDoEUdxQgAAwBkJSHFCAACAf1tIcUIAAEDlrUhxQgAAAEsASXFCAADAsFJJcUIAAADiSUpxQgAAwEecSnFCAACAre5KcUIAAEATQUtxQgAAAHmTS3FCAAAAEN1McUIAAMB1L01xQgAAgNuBTXFCAABAQdRNcUIAAIByy05xQgAAQNgdT3FCAAAAPnBPcUIAAMCjwk9xQgAAgAkVUHFCAADAOgxRcUIAAICgXlFxQgAAQAaxUXFCAAAAbANScUIAAMDRVVJxQgAAAANNU3FCAADAaJ9TcUIAAIDO8VNxQgAAQDREVHFCAAAAmpZUcUIAAEDLjVVxQgAAADHgVXFCAADAljJWcUIAAID8hFZxQgAAQGLXVnFCAACAk85XcUIAAED5IFhxQgAAAF9zWHFCAADAxMVYcUIAAIAqGFlxQgAAwFsPWnFCAACAwWFacUIAAEAntFpxQgAAAI0GW3FCAADA8lhbcUIAAAAkUFxxQgAAwImiXHFCAACA7/RccUIAAEBVR11xQgAAALuZXXFCAABA7JBecUIAAABS415xQgAAwLc1X3FCAACAHYhfcUIAAECD2l9xQgAAgLTRYHFCAABAGiRhcUIAAACAdmFxQgAAwOXIYXFCAACASxticUIAAMB8EmNxQgAAgOJkY3FCAABASLdjcUIAAACuCWRxQgAAwBNcZHFCAAAARVNlcUIAAMCqpWVxQgAAgBD4ZXFCAAAA3JxmcUIAAEANlGdxQgAAAHPmZ3FCAADA2DhocUIAAIA+i2hxQgAAQKTdaHFCAACA1dRpcUIAAEA7J2pxQgAAAKF5anFCAADABsxqcUIAAIBsHmtxQgAAwJ0VbHFCAACAA2hscUIAAEBpumxxQgAAAM8MbXFCAADANF9tcUIAAABmVm5xQgAAwMuobnFCAACAMftucUIAAECXTW9xQgAAAP2fb3FCAABALpdwcUIAAMD5O3FxQgAAgF+OcXFCAABAxeBxcUIAAID213JxQgAAAMJ8c3FCAADAJ89zcUIAAICNIXRxQgAAwL4YdXFCAACAJGt1cUIAAECKvXVxQgAAAPAPdnFCAADAVWJ2cUIAAACHWXdxQgAAwOyrd3FCAACAUv53cUIAAEC4UHhxQgAAAB6jeHFCAAAAtex5cUIAAMAaP3pxQgAAgICRenFCAABA5uN6cUIAAIAX23txQgAAQH0tfHFCAAAA4398cUIAAMBI0nxxQgAAgK4kfXFCAADA3xt+cUIAAIBFbn5xQgAAQKvAfnFCAAAAERN/cUIAAMB2ZX9xQgAAAKhcgHFCAADADa+AcUIAAIBzAYFxQgAAQNlTgXFCAAAAP6aBcUIAAADW74JxQgAAwDtCg3FCAACAoZSDcUIAAEAH54NxQgAAgDjehHFCAABAnjCFcUIAAAAEg4VxQgAAwGnVhXFCAACAzyeGcUIAAMAAH4dxQgAAgGZxh3FCAABAzMOHcUIAAAAyFohxQgAAwJdoiHFCAAAAyV+JcUIAAMAusolxQgAAgJQEinFCAABA+laKcUIAAABgqYpxQgAAQJGgi3FCAAAA9/KLcUIAAMBcRYxxQgAAgMKXjHFCAACAWeGNcUIAAEC/M45xQgAAACWGjnFCAADAitiOcUIAAIDwKo9xQgAAwCEikHFCAACAh3SQcUIAAEDtxpBxQgAAAFMZkXFCAADAuGuRcUIAAADqYpJxQgAAwE+1knFCAACAtQeTcUIAAEAbWpNxQgAAAIGsk3FCAABAsqOUcUIAAAAY9pRxQgAAwH1IlXFCAACA45qVcUIAAEBJ7ZVxQgAAgHrklnFCAABA4DaXcUIAAABGiZdxQgAAwKvbl3FCAACAES6YcUIAAMBCJZlxQgAAgKh3mXFCAABADsqZcUIAAAB0HJpxQgAAwNlumnFCAAAAC2abcUIAAMBwuJtxQgAAgNYKnHFCAABAPF2ccUIAAACir5xxQgAAQNOmnXFCAAAAOfmdcUIAAMCeS55xQgAAgASennFCAABAavCecUIAAICb559xQgAAQAE6oHFCAAAAZ4ygcUIAAMDM3qBxQgAAgDIxoXFCAACAyXqicUIAAEAvzaJxQgAAAJUfo3FCAADA+nGjcUIAAAAsaaRxQgAAwJG7pHFCAACA9w2lcUIAAEBdYKVxQgAAAMOypXFCAABA9KmmcUIAAABa/KZxQgAAwL9Op3FCAACAJaGncUIAAECL86dxQgAAgLzqqHFCAABAIj2pcUIAAACIj6lxQgAAwO3hqXFCAACAUzSqcUIAAMCEK6txQgAAgOp9q3FCAABAUNCrcUIAAAC2IqxxQgAAwBt1rHFCAAAATWytcUIAAMCyvq1xQgAAgBgRrnFCAABAfmOucUIAAEAVra9xQgAAAHv/r3FCAADA4FGwcUIAAIBGpLBxQgAAQKz2sHFCAACA3e2xcUIAAEBDQLJxQgAAAKmSsnFCAADADuWycUIAAIB0N7NxQgAAwKUutHFCAACAC4G0cUIAAEBx07RxQgAAANcltXFCAADAPHi1cUIAAABub7ZxQgAAwNPBtnFCAACAORS3cUIAAECfZrdxQgAAAAW5t3FCAABANrC4cUIAAACcArlxQgAAwAFVuXFCAACAZ6e5cUIAAEDN+blxQgAAgP7wunFCAABAZEO7cUIAAADKlbtxQgAAwC/ou3FCAACAlTq8cUIAAMDGMb1xQgAAgCyEvXFCAABAkta9cUIAAAD4KL5xQgAAwF17vnFCAAAAj3K/cUIAAMD0xL9xQgAAgFoXwHFCAABAwGnAcUIAAAAmvMBxQgAAAL0FwnFCAADAIljCcUIAAICIqsJxQgAAQO78wnFCAACAH/TDcUIAAECFRsRxQgAAAOuYxHFCAADAUOvEcUIAAIC2PcVxQgAAwOc0xnFCAACATYfGcUIAAECz2cZxQgAAABksx3FCAADAfn7HcUIAAACwdchxQgAAwBXIyHFCAACAexrJcUIAAEDhbMlxQgAAAEe/yXFCAABAeLbKcUIAAADeCMtxQgAAwENby3FCAACAqa3LcUIAAEAPAMxxQgAAgED3zHFCAABApknNcUIAAAAMnM1xQgAAwHHuzXFCAACA10DOcUIAAMAIOM9xQgAAgG6Kz3FCAABA1NzPcUIAAAA6L9BxQgAAwJ+B0HFCAAAA0XjRcUIAAMA2y9FxQgAAgJwd0nFCAABAAnDScUIAAABowtJxQgAAQJm503FCAAAA/wvUcUIAAMBkXtRxQgAAgMqw1HFCAABAMAPVcUIAAIBh+tVxQgAAQMdM1nFCAAAALZ/WcUIAAMCS8dZxQgAAgPhD13FCAADAKTvYcUIAAICPjdhxQgAAQPXf2HFCAAAAWzLZcUIAAMDAhNlxQgAAAPJ72nFCAADAV87acUIAAIC9INtxQgAAQCNz23FCAAAAicXbcUIAAEC6vNxxQgAAACAP3XFCAADAhWHdcUIAAEBRBt5xQgAAgIL93nFCAABA6E/fcUIAAABOot9xQgAAwLP033FCAACAGUfgcUIAAMBKPuFxQgAAgLCQ4XFCAABAFuPhcUIAAAB8NeJxQgAAwOGH4nFCAAAAE3/jcUIAAMB40eNxQgAAgN4j5HFCAABARHbkcUIAAACqyORxQgAAQNu/5XFCAAAAQRLmcUIAAMCmZOZxQgAAQHIJ53FCAACAowDocUIAAEAJU+hxQgAAAG+l6HFCAACAOkrpcUIAAMBrQepxQgAAgNGT6nFCAABAN+bqcUIAAACdOOtxQgAAwAKL63FCAAAANILscUIAAMCZ1OxxQgAAgP8m7XFCAABAZXntcUIAAADLy+1xQgAAAGIV73FCAADAx2fvcUIAAIAtuu9xQgAAQJMM8HFCAACAxAPxcUIAAEAqVvFxQgAAAJCo8XFCAADA9frxcUIAAIBbTfJxQgAAwIxE83FCAACA8pbzcUIAAEBY6fNxQgAAAL479HFCAADAI470cUIAAABVhfVxQgAAwLrX9XFCAACAICr2cUIAAECGfPZxQgAAAOzO9nFCAAAAgxj4cUIAAMDoavhxQgAAgE69+HFCAABAtA/5cUIAAIDlBvpxQgAAQEtZ+nFCAAAAsav6cUIAAMAW/vpxQgAAgHxQ+3FCAADArUf8cUIAAIATmvxxQgAAQHns/HFCAAAA3z79cUIAAMBEkf1xQgAAAHaI/nFCAADA29r+cUIAAIBBLf9xQgAAQKd//3FCAAAADdL/cUIAAEA+yQByQgAAAKQbAXJCAADACW4BckIAAIBvwAFyQgAAQNUSAnJCAACABgoDckIAAEBsXANyQgAAANKuA3JCAADANwEEckIAAICdUwRyQgAAwM5KBXJCAACANJ0FckIAAECa7wVyQgAAAABCBnJCAADAZZQGckIAAACXiwdyQgAAwPzdB3JCAACAYjAIckIAAEDIgghyQgAAQF/MCXJCAAAAxR4KckIAAMAqcQpyQgAAgJDDCnJCAABA9hULckIAAIAnDQxyQgAAQI1fDHJCAAAA87EMckIAAMBYBA1yQgAAgL5WDXJCAADA700OckIAAIBVoA5yQgAAQLvyDnJCAAAAIUUPckIAAMCGlw9yQgAAALiOEHJCAADAHeEQckIAAICDMxFyQgAAQOmFEXJCAAAAT9gRckIAAECAzxJyQgAAAOYhE3JCAADAS3QTckIAAICxxhNyQgAAQBcZFHJCAACASBAVckIAAECuYhVyQgAAABS1FXJCAADAeQcWckIAAIDfWRZyQgAAgHajF3JCAABA3PUXckIAAABCSBhyQgAAwKeaGHJCAAAA2ZEZckIAAMA+5BlyQgAAgKQ2GnJCAABACokackIAAABw2xpyQgAAQKHSG3JCAAAAByUcckIAAMBsdxxyQgAAgNLJHHJCAABAOBwdckIAAIBpEx5yQgAAQM9lHnJCAAAANbgeckIAAMCaCh9yQgAAgABdH3JCAADAMVQgckIAAICXpiByQgAAQP34IHJCAAAAY0shckIAAMDInSFyQgAAAPqUInJCAADAX+cickIAAIDFOSNyQgAAQCuMI3JCAABAwtUkckIAAAAoKCVyQgAAwI16JXJCAACA88wlckIAAEBZHyZyQgAAgIoWJ3JCAABA8GgnckIAAABWuydyQgAAwLsNKHJCAACAIWAockIAAMBSVylyQgAAgLipKXJCAABAHvwpckIAAACETipyQgAAwOmgKnJCAAAAG5grckIAAMCA6ityQgAAgOY8LHJCAABATI8sckIAAACy4SxyQgAAQOPYLXJCAAAASSsuckIAAMCufS5yQgAAgBTQLnJCAABAeiIvckIAAICrGTByQgAAQBFsMHJCAAAAd74wckIAAMDcEDFyQgAAgEJjMXJCAADAc1oyckIAAIDZrDJyQgAAQD//MnJCAAAApVEzckIAAMAKpDNyQgAAADybNHJCAADAoe00ckIAAIAHQDVyQgAAQG2SNXJCAAAA0+Q1ckIAAEAE3DZyQgAAAGouN3JCAADAz4A3ckIAAIA10zdyQgAAQJslOHJCAABAMm85ckIAAACYwTlyQgAAwP0TOnJCAACAY2Y6ckIAAMCUXTtyQgAAgPqvO3JCAABAYAI8ckIAAADGVDxyQgAAwCunPHJCAAAAXZ49ckIAAMDC8D1yQgAAgChDPnJCAABAjpU+ckIAAAD05z5yQgAAQCXfP3JCAAAAizFAckIAAMDwg0ByQgAAgFbWQHJCAABAvChBckIAAIDtH0JyQgAAQFNyQnJCAAAAucRCckIAAMAeF0NyQgAAgIRpQ3JCAADAtWBEckIAAIAbs0RyQgAAQIEFRXJCAAAA51dFckIAAMBMqkVyQgAAAH6hRnJCAADA4/NGckIAAIBJRkdyQgAAQK+YR3JCAAAAFetHckIAAEBG4khyQgAAAKw0SXJCAADAEYdJckIAAIB32UlyQgAAQN0rSnJCAACADiNLckIAAEB0dUtyQgAAANrHS3JCAADAPxpMckIAAIClbExyQgAAwNZjTXJCAACAPLZNckIAAECiCE5yQgAAAAhbTnJCAADAba1OckIAAACfpE9yQgAAwAT3T3JCAACAaklQckIAAEDQm1ByQgAAADbuUHJCAABAZ+VRckIAAADNN1JyQgAAwDKKUnJCAABA/i5TckIAAIAvJlRyQgAAQJV4VHJCAAAA+8pUckIAAMBgHVVyQgAAgMZvVXJCAADA92ZWckIAAIBduVZyQgAAQMMLV3JCAAAAKV5XckIAAMCOsFdyQgAAAMCnWHJCAADAJfpYckIAAICLTFlyQgAAQPGeWXJCAAAAV/FZckIAAECI6FpyQgAAAO46W3JCAADAU41bckIAAIC531tyQgAAgFApXXJCAABAtntdckIAAAAczl1yQgAAwIEgXnJC\",\"dtype\":\"float64\",\"order\":\"little\",\"shape\":[756]},\"Variable\":[\"SMA50\",\"SMA50\",\"SMA50\",\"SMA50\",\"SMA50\",\"SMA50\",\"SMA50\",\"SMA50\",\"SMA50\",\"SMA50\",\"SMA50\",\"SMA50\",\"SMA50\",\"SMA50\",\"SMA50\",\"SMA50\",\"SMA50\",\"SMA50\",\"SMA50\",\"SMA50\",\"SMA50\",\"SMA50\",\"SMA50\",\"SMA50\",\"SMA50\",\"SMA50\",\"SMA50\",\"SMA50\",\"SMA50\",\"SMA50\",\"SMA50\",\"SMA50\",\"SMA50\",\"SMA50\",\"SMA50\",\"SMA50\",\"SMA50\",\"SMA50\",\"SMA50\",\"SMA50\",\"SMA50\",\"SMA50\",\"SMA50\",\"SMA50\",\"SMA50\",\"SMA50\",\"SMA50\",\"SMA50\",\"SMA50\",\"SMA50\",\"SMA50\",\"SMA50\",\"SMA50\",\"SMA50\",\"SMA50\",\"SMA50\",\"SMA50\",\"SMA50\",\"SMA50\",\"SMA50\",\"SMA50\",\"SMA50\",\"SMA50\",\"SMA50\",\"SMA50\",\"SMA50\",\"SMA50\",\"SMA50\",\"SMA50\",\"SMA50\",\"SMA50\",\"SMA50\",\"SMA50\",\"SMA50\",\"SMA50\",\"SMA50\",\"SMA50\",\"SMA50\",\"SMA50\",\"SMA50\",\"SMA50\",\"SMA50\",\"SMA50\",\"SMA50\",\"SMA50\",\"SMA50\",\"SMA50\",\"SMA50\",\"SMA50\",\"SMA50\",\"SMA50\",\"SMA50\",\"SMA50\",\"SMA50\",\"SMA50\",\"SMA50\",\"SMA50\",\"SMA50\",\"SMA50\",\"SMA50\",\"SMA50\",\"SMA50\",\"SMA50\",\"SMA50\",\"SMA50\",\"SMA50\",\"SMA50\",\"SMA50\",\"SMA50\",\"SMA50\",\"SMA50\",\"SMA50\",\"SMA50\",\"SMA50\",\"SMA50\",\"SMA50\",\"SMA50\",\"SMA50\",\"SMA50\",\"SMA50\",\"SMA50\",\"SMA50\",\"SMA50\",\"SMA50\",\"SMA50\",\"SMA50\",\"SMA50\",\"SMA50\",\"SMA50\",\"SMA50\",\"SMA50\",\"SMA50\",\"SMA50\",\"SMA50\",\"SMA50\",\"SMA50\",\"SMA50\",\"SMA50\",\"SMA50\",\"SMA50\",\"SMA50\",\"SMA50\",\"SMA50\",\"SMA50\",\"SMA50\",\"SMA50\",\"SMA50\",\"SMA50\",\"SMA50\",\"SMA50\",\"SMA50\",\"SMA50\",\"SMA50\",\"SMA50\",\"SMA50\",\"SMA50\",\"SMA50\",\"SMA50\",\"SMA50\",\"SMA50\",\"SMA50\",\"SMA50\",\"SMA50\",\"SMA50\",\"SMA50\",\"SMA50\",\"SMA50\",\"SMA50\",\"SMA50\",\"SMA50\",\"SMA50\",\"SMA50\",\"SMA50\",\"SMA50\",\"SMA50\",\"SMA50\",\"SMA50\",\"SMA50\",\"SMA50\",\"SMA50\",\"SMA50\",\"SMA50\",\"SMA50\",\"SMA50\",\"SMA50\",\"SMA50\",\"SMA50\",\"SMA50\",\"SMA50\",\"SMA50\",\"SMA50\",\"SMA50\",\"SMA50\",\"SMA50\",\"SMA50\",\"SMA50\",\"SMA50\",\"SMA50\",\"SMA50\",\"SMA50\",\"SMA50\",\"SMA50\",\"SMA50\",\"SMA50\",\"SMA50\",\"SMA50\",\"SMA50\",\"SMA50\",\"SMA50\",\"SMA50\",\"SMA50\",\"SMA50\",\"SMA50\",\"SMA50\",\"SMA50\",\"SMA50\",\"SMA50\",\"SMA50\",\"SMA50\",\"SMA50\",\"SMA50\",\"SMA50\",\"SMA50\",\"SMA50\",\"SMA50\",\"SMA50\",\"SMA50\",\"SMA50\",\"SMA50\",\"SMA50\",\"SMA50\",\"SMA50\",\"SMA50\",\"SMA50\",\"SMA50\",\"SMA50\",\"SMA50\",\"SMA50\",\"SMA50\",\"SMA50\",\"SMA50\",\"SMA50\",\"SMA50\",\"SMA50\",\"SMA50\",\"SMA50\",\"SMA50\",\"SMA50\",\"SMA50\",\"SMA50\",\"SMA50\",\"SMA50\",\"SMA50\",\"SMA50\",\"SMA50\",\"SMA50\",\"SMA50\",\"SMA50\",\"SMA50\",\"SMA50\",\"SMA50\",\"SMA50\",\"SMA50\",\"SMA50\",\"SMA50\",\"SMA50\",\"SMA50\",\"SMA50\",\"SMA50\",\"SMA50\",\"SMA50\",\"SMA50\",\"SMA50\",\"SMA50\",\"SMA50\",\"SMA50\",\"SMA50\",\"SMA50\",\"SMA50\",\"SMA50\",\"SMA50\",\"SMA50\",\"SMA50\",\"SMA50\",\"SMA50\",\"SMA50\",\"SMA50\",\"SMA50\",\"SMA50\",\"SMA50\",\"SMA50\",\"SMA50\",\"SMA50\",\"SMA50\",\"SMA50\",\"SMA50\",\"SMA50\",\"SMA50\",\"SMA50\",\"SMA50\",\"SMA50\",\"SMA50\",\"SMA50\",\"SMA50\",\"SMA50\",\"SMA50\",\"SMA50\",\"SMA50\",\"SMA50\",\"SMA50\",\"SMA50\",\"SMA50\",\"SMA50\",\"SMA50\",\"SMA50\",\"SMA50\",\"SMA50\",\"SMA50\",\"SMA50\",\"SMA50\",\"SMA50\",\"SMA50\",\"SMA50\",\"SMA50\",\"SMA50\",\"SMA50\",\"SMA50\",\"SMA50\",\"SMA50\",\"SMA50\",\"SMA50\",\"SMA50\",\"SMA50\",\"SMA50\",\"SMA50\",\"SMA50\",\"SMA50\",\"SMA50\",\"SMA50\",\"SMA50\",\"SMA50\",\"SMA50\",\"SMA50\",\"SMA50\",\"SMA50\",\"SMA50\",\"SMA50\",\"SMA50\",\"SMA50\",\"SMA50\",\"SMA50\",\"SMA50\",\"SMA50\",\"SMA50\",\"SMA50\",\"SMA50\",\"SMA50\",\"SMA50\",\"SMA50\",\"SMA50\",\"SMA50\",\"SMA50\",\"SMA50\",\"SMA50\",\"SMA50\",\"SMA50\",\"SMA50\",\"SMA50\",\"SMA50\",\"SMA50\",\"SMA50\",\"SMA50\",\"SMA50\",\"SMA50\",\"SMA50\",\"SMA50\",\"SMA50\",\"SMA50\",\"SMA50\",\"SMA50\",\"SMA50\",\"SMA50\",\"SMA50\",\"SMA50\",\"SMA50\",\"SMA50\",\"SMA50\",\"SMA50\",\"SMA50\",\"SMA50\",\"SMA50\",\"SMA50\",\"SMA50\",\"SMA50\",\"SMA50\",\"SMA50\",\"SMA50\",\"SMA50\",\"SMA50\",\"SMA50\",\"SMA50\",\"SMA50\",\"SMA50\",\"SMA50\",\"SMA50\",\"SMA50\",\"SMA50\",\"SMA50\",\"SMA50\",\"SMA50\",\"SMA50\",\"SMA50\",\"SMA50\",\"SMA50\",\"SMA50\",\"SMA50\",\"SMA50\",\"SMA50\",\"SMA50\",\"SMA50\",\"SMA50\",\"SMA50\",\"SMA50\",\"SMA50\",\"SMA50\",\"SMA50\",\"SMA50\",\"SMA50\",\"SMA50\",\"SMA50\",\"SMA50\",\"SMA50\",\"SMA50\",\"SMA50\",\"SMA50\",\"SMA50\",\"SMA50\",\"SMA50\",\"SMA50\",\"SMA50\",\"SMA50\",\"SMA50\",\"SMA50\",\"SMA50\",\"SMA50\",\"SMA50\",\"SMA50\",\"SMA50\",\"SMA50\",\"SMA50\",\"SMA50\",\"SMA50\",\"SMA50\",\"SMA50\",\"SMA50\",\"SMA50\",\"SMA50\",\"SMA50\",\"SMA50\",\"SMA50\",\"SMA50\",\"SMA50\",\"SMA50\",\"SMA50\",\"SMA50\",\"SMA50\",\"SMA50\",\"SMA50\",\"SMA50\",\"SMA50\",\"SMA50\",\"SMA50\",\"SMA50\",\"SMA50\",\"SMA50\",\"SMA50\",\"SMA50\",\"SMA50\",\"SMA50\",\"SMA50\",\"SMA50\",\"SMA50\",\"SMA50\",\"SMA50\",\"SMA50\",\"SMA50\",\"SMA50\",\"SMA50\",\"SMA50\",\"SMA50\",\"SMA50\",\"SMA50\",\"SMA50\",\"SMA50\",\"SMA50\",\"SMA50\",\"SMA50\",\"SMA50\",\"SMA50\",\"SMA50\",\"SMA50\",\"SMA50\",\"SMA50\",\"SMA50\",\"SMA50\",\"SMA50\",\"SMA50\",\"SMA50\",\"SMA50\",\"SMA50\",\"SMA50\",\"SMA50\",\"SMA50\",\"SMA50\",\"SMA50\",\"SMA50\",\"SMA50\",\"SMA50\",\"SMA50\",\"SMA50\",\"SMA50\",\"SMA50\",\"SMA50\",\"SMA50\",\"SMA50\",\"SMA50\",\"SMA50\",\"SMA50\",\"SMA50\",\"SMA50\",\"SMA50\",\"SMA50\",\"SMA50\",\"SMA50\",\"SMA50\",\"SMA50\",\"SMA50\",\"SMA50\",\"SMA50\",\"SMA50\",\"SMA50\",\"SMA50\",\"SMA50\",\"SMA50\",\"SMA50\",\"SMA50\",\"SMA50\",\"SMA50\",\"SMA50\",\"SMA50\",\"SMA50\",\"SMA50\",\"SMA50\",\"SMA50\",\"SMA50\",\"SMA50\",\"SMA50\",\"SMA50\",\"SMA50\",\"SMA50\",\"SMA50\",\"SMA50\",\"SMA50\",\"SMA50\",\"SMA50\",\"SMA50\",\"SMA50\",\"SMA50\",\"SMA50\",\"SMA50\",\"SMA50\",\"SMA50\",\"SMA50\",\"SMA50\",\"SMA50\",\"SMA50\",\"SMA50\",\"SMA50\",\"SMA50\",\"SMA50\",\"SMA50\",\"SMA50\",\"SMA50\",\"SMA50\",\"SMA50\",\"SMA50\",\"SMA50\",\"SMA50\",\"SMA50\",\"SMA50\",\"SMA50\",\"SMA50\",\"SMA50\",\"SMA50\",\"SMA50\",\"SMA50\",\"SMA50\",\"SMA50\",\"SMA50\",\"SMA50\",\"SMA50\",\"SMA50\",\"SMA50\",\"SMA50\",\"SMA50\",\"SMA50\",\"SMA50\",\"SMA50\",\"SMA50\",\"SMA50\",\"SMA50\",\"SMA50\",\"SMA50\",\"SMA50\",\"SMA50\",\"SMA50\",\"SMA50\",\"SMA50\",\"SMA50\",\"SMA50\",\"SMA50\",\"SMA50\",\"SMA50\",\"SMA50\",\"SMA50\",\"SMA50\",\"SMA50\",\"SMA50\",\"SMA50\",\"SMA50\",\"SMA50\",\"SMA50\",\"SMA50\",\"SMA50\",\"SMA50\",\"SMA50\",\"SMA50\",\"SMA50\",\"SMA50\",\"SMA50\",\"SMA50\",\"SMA50\",\"SMA50\",\"SMA50\",\"SMA50\",\"SMA50\",\"SMA50\",\"SMA50\",\"SMA50\",\"SMA50\",\"SMA50\",\"SMA50\",\"SMA50\",\"SMA50\",\"SMA50\",\"SMA50\",\"SMA50\",\"SMA50\",\"SMA50\",\"SMA50\",\"SMA50\",\"SMA50\",\"SMA50\",\"SMA50\",\"SMA50\",\"SMA50\",\"SMA50\",\"SMA50\",\"SMA50\",\"SMA50\",\"SMA50\",\"SMA50\",\"SMA50\",\"SMA50\",\"SMA50\",\"SMA50\",\"SMA50\",\"SMA50\",\"SMA50\",\"SMA50\",\"SMA50\",\"SMA50\",\"SMA50\",\"SMA50\",\"SMA50\",\"SMA50\",\"SMA50\",\"SMA50\",\"SMA50\",\"SMA50\",\"SMA50\",\"SMA50\",\"SMA50\",\"SMA50\",\"SMA50\",\"SMA50\",\"SMA50\",\"SMA50\",\"SMA50\",\"SMA50\",\"SMA50\",\"SMA50\",\"SMA50\",\"SMA50\",\"SMA50\",\"SMA50\",\"SMA50\",\"SMA50\",\"SMA50\",\"SMA50\",\"SMA50\",\"SMA50\",\"SMA50\",\"SMA50\",\"SMA50\",\"SMA50\",\"SMA50\",\"SMA50\",\"SMA50\",\"SMA50\",\"SMA50\",\"SMA50\",\"SMA50\",\"SMA50\",\"SMA50\",\"SMA50\",\"SMA50\",\"SMA50\",\"SMA50\",\"SMA50\",\"SMA50\",\"SMA50\",\"SMA50\",\"SMA50\",\"SMA50\",\"SMA50\",\"SMA50\",\"SMA50\",\"SMA50\",\"SMA50\",\"SMA50\",\"SMA50\",\"SMA50\",\"SMA50\",\"SMA50\",\"SMA50\",\"SMA50\",\"SMA50\",\"SMA50\",\"SMA50\",\"SMA50\",\"SMA50\",\"SMA50\",\"SMA50\",\"SMA50\",\"SMA50\"],\"value\":{\"__ndarray__\":\"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\",\"dtype\":\"float64\",\"order\":\"little\",\"shape\":[756]}},\"selected\":{\"id\":\"1607\"},\"selection_policy\":{\"id\":\"1634\"}},\"id\":\"1606\",\"type\":\"ColumnDataSource\"},{\"attributes\":{\"axis_label\":\"Price in $\",\"bounds\":\"auto\",\"formatter\":{\"id\":\"1597\"},\"major_label_orientation\":\"horizontal\",\"ticker\":{\"id\":\"1577\"}},\"id\":\"1576\",\"type\":\"LinearAxis\"},{\"attributes\":{\"axis_label\":\"Date\",\"bounds\":\"auto\",\"formatter\":{\"id\":\"1595\"},\"major_label_orientation\":\"horizontal\",\"ticker\":{\"id\":\"1573\"}},\"id\":\"1572\",\"type\":\"DatetimeAxis\"},{\"attributes\":{\"days\":[1,2,3,4,5,6,7,8,9,10,11,12,13,14,15,16,17,18,19,20,21,22,23,24,25,26,27,28,29,30,31]},\"id\":\"1623\",\"type\":\"DaysTicker\"},{\"attributes\":{\"below\":[{\"id\":\"1572\"}],\"center\":[{\"id\":\"1575\"},{\"id\":\"1579\"}],\"left\":[{\"id\":\"1576\"}],\"margin\":[5,5,5,5],\"min_border_bottom\":10,\"min_border_left\":10,\"min_border_right\":10,\"min_border_top\":10,\"plot_height\":400,\"plot_width\":1000,\"renderers\":[{\"id\":\"1604\"},{\"id\":\"1612\"},{\"id\":\"1644\"}],\"right\":[{\"id\":\"1636\"}],\"sizing_mode\":\"fixed\",\"title\":{\"id\":\"1564\"},\"toolbar\":{\"id\":\"1586\"},\"x_range\":{\"id\":\"1558\"},\"x_scale\":{\"id\":\"1568\"},\"y_range\":{\"id\":\"1559\"},\"y_scale\":{\"id\":\"1570\"}},\"id\":\"1563\",\"subtype\":\"Figure\",\"type\":\"Plot\"},{\"attributes\":{\"line_alpha\":0.2,\"line_color\":\"lightgray\",\"line_width\":2,\"x\":{\"field\":\"Date\"},\"y\":{\"field\":\"Close\"}},\"id\":\"1603\",\"type\":\"Line\"},{\"attributes\":{\"days\":[1,4,7,10,13,16,19,22,25,28]},\"id\":\"1624\",\"type\":\"DaysTicker\"},{\"attributes\":{},\"id\":\"1599\",\"type\":\"Selection\"},{\"attributes\":{},\"id\":\"1577\",\"type\":\"BasicTicker\"},{\"attributes\":{\"days\":[1,8,15,22]},\"id\":\"1625\",\"type\":\"DaysTicker\"},{\"attributes\":{\"axis\":{\"id\":\"1576\"},\"dimension\":1,\"grid_line_color\":null,\"ticker\":null},\"id\":\"1579\",\"type\":\"Grid\"},{\"attributes\":{\"days\":[1,15]},\"id\":\"1626\",\"type\":\"DaysTicker\"},{\"attributes\":{},\"id\":\"1581\",\"type\":\"PanTool\"},{\"attributes\":{\"months\":[0,1,2,3,4,5,6,7,8,9,10,11]},\"id\":\"1627\",\"type\":\"MonthsTicker\"},{\"attributes\":{},\"id\":\"1580\",\"type\":\"SaveTool\"},{\"attributes\":{\"months\":[0,2,4,6,8,10]},\"id\":\"1628\",\"type\":\"MonthsTicker\"},{\"attributes\":{\"callback\":null,\"formatters\":{\"@{Date}\":\"datetime\"},\"renderers\":[{\"id\":\"1612\"},{\"id\":\"1644\"}],\"tags\":[\"hv_created\"],\"tooltips\":[[\"Variable\",\"@{Variable}\"],[\"Date\",\"@{Date}{%F %T}\"],[\"value\",\"@{value}\"]]},\"id\":\"1561\",\"type\":\"HoverTool\"},{\"attributes\":{\"axis\":{\"id\":\"1572\"},\"grid_line_color\":null,\"ticker\":null},\"id\":\"1575\",\"type\":\"Grid\"},{\"attributes\":{\"months\":[0,4,8]},\"id\":\"1629\",\"type\":\"MonthsTicker\"},{\"attributes\":{},\"id\":\"1582\",\"type\":\"WheelZoomTool\"},{\"attributes\":{\"line_alpha\":0.1,\"line_color\":\"lightgray\",\"line_width\":2,\"x\":{\"field\":\"Date\"},\"y\":{\"field\":\"Close\"}},\"id\":\"1602\",\"type\":\"Line\"},{\"attributes\":{},\"id\":\"1584\",\"type\":\"ResetTool\"},{\"attributes\":{\"months\":[0,6]},\"id\":\"1630\",\"type\":\"MonthsTicker\"},{\"attributes\":{},\"id\":\"1634\",\"type\":\"UnionRenderers\"},{\"attributes\":{},\"id\":\"1631\",\"type\":\"YearsTicker\"},{\"attributes\":{\"overlay\":{\"id\":\"1585\"}},\"id\":\"1583\",\"type\":\"BoxZoomTool\"},{\"attributes\":{},\"id\":\"1632\",\"type\":\"UnionRenderers\"},{\"attributes\":{\"data\":{\"Close\":{\"__ndarray__\":\"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\",\"dtype\":\"float64\",\"order\":\"little\",\"shape\":[756]},\"Date\":{\"__ndarray__\":\"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\",\"dtype\":\"float64\",\"order\":\"little\",\"shape\":[756]}},\"selected\":{\"id\":\"1599\"},\"selection_policy\":{\"id\":\"1632\"}},\"id\":\"1598\",\"type\":\"ColumnDataSource\"},{\"attributes\":{\"active_drag\":\"auto\",\"active_inspect\":\"auto\",\"active_multi\":null,\"active_scroll\":\"auto\",\"active_tap\":\"auto\",\"tools\":[{\"id\":\"1560\"},{\"id\":\"1561\"},{\"id\":\"1580\"},{\"id\":\"1581\"},{\"id\":\"1582\"},{\"id\":\"1583\"},{\"id\":\"1584\"}]},\"id\":\"1586\",\"type\":\"Toolbar\"},{\"attributes\":{\"label\":{\"value\":\"SMA50\"},\"renderers\":[{\"id\":\"1612\"}]},\"id\":\"1637\",\"type\":\"LegendItem\"},{\"attributes\":{},\"id\":\"1668\",\"type\":\"UnionRenderers\"},{\"attributes\":{\"source\":{\"id\":\"1638\"}},\"id\":\"1645\",\"type\":\"CDSView\"},{\"attributes\":{},\"id\":\"1568\",\"type\":\"LinearScale\"},{\"attributes\":{\"source\":{\"id\":\"1598\"}},\"id\":\"1605\",\"type\":\"CDSView\"},{\"attributes\":{\"line_color\":\"#2ba02b\",\"line_width\":2,\"x\":{\"field\":\"Date\"},\"y\":{\"field\":\"value\"}},\"id\":\"1641\",\"type\":\"Line\"},{\"attributes\":{},\"id\":\"1639\",\"type\":\"Selection\"}],\"root_ids\":[\"1556\"]},\"title\":\"Bokeh Application\",\"version\":\"2.2.3\"}};\n",
       "    var render_items = [{\"docid\":\"bdc11e55-ed53-489f-b6de-da4402f65e39\",\"root_ids\":[\"1556\"],\"roots\":{\"1556\":\"b27c3529-4470-429f-8c2b-dd1c2fb72db6\"}}];\n",
       "    root.Bokeh.embed.embed_items_notebook(docs_json, render_items);\n",
       "  }\n",
       "  if (root.Bokeh !== undefined && root.Bokeh.Panel !== undefined) {\n",
       "    embed_document(root);\n",
       "  } else {\n",
       "    var attempts = 0;\n",
       "    var timer = setInterval(function(root) {\n",
       "      if (root.Bokeh !== undefined && root.Bokeh.Panel !== undefined) {\n",
       "        clearInterval(timer);\n",
       "        embed_document(root);\n",
       "      } else if (document.readyState == \"complete\") {\n",
       "        attempts++;\n",
       "        if (attempts > 100) {\n",
       "          clearInterval(timer);\n",
       "          console.log(\"Bokeh: ERROR: Unable to run BokehJS code because BokehJS library is missing\");\n",
       "        }\n",
       "      }\n",
       "    }, 10, root)\n",
       "  }\n",
       "})(window);</script>"
      ],
      "text/plain": [
       ":Overlay\n",
       "   .Curve.I     :Curve   [Date]   (Close)\n",
       "   .NdOverlay.I :NdOverlay   [Variable]\n",
       "      :Curve   [Date]   (value)"
      ]
     },
     "execution_count": 14,
     "metadata": {
      "application/vnd.holoviews_exec.v0+json": {
       "id": "1556"
      }
     },
     "output_type": "execute_result"
    }
   ],
   "source": [
    "# Plot the security_close and moving_avgs\n",
    "# YOUR CODE HERE\n"
   ]
  },
  {
   "cell_type": "markdown",
   "metadata": {},
   "source": [
    "### Step 3: Combine all four plots from Steps 1 and 2 into one overlay plot."
   ]
  },
  {
   "cell_type": "code",
   "execution_count": null,
   "metadata": {},
   "outputs": [
    {
     "data": {
      "application/vnd.holoviews_exec.v0+json": "",
      "text/html": [
       "<div id='2872'>\n",
       "\n",
       "\n",
       "\n",
       "\n",
       "\n",
       "  <div class=\"bk-root\" id=\"60b8dd90-8e15-4ca9-9073-1397a77d9737\" data-root-id=\"2872\"></div>\n",
       "</div>\n",
       "<script type=\"application/javascript\">(function(root) {\n",
       "  function embed_document(root) {\n",
       "    var docs_json = {\"c8fdab1b-c5f6-492c-80ca-9011bbbcefa5\":{\"roots\":{\"references\":[{\"attributes\":{\"label\":{\"value\":\"SMA100\"},\"renderers\":[{\"id\":\"2962\"}]},\"id\":\"2988\",\"type\":\"LegendItem\"},{\"attributes\":{\"data_source\":{\"id\":\"3165\"},\"glyph\":{\"id\":\"3168\"},\"hover_glyph\":null,\"muted_glyph\":{\"id\":\"3170\"},\"nonselection_glyph\":{\"id\":\"3169\"},\"selection_glyph\":null,\"view\":{\"id\":\"3172\"}},\"id\":\"3171\",\"type\":\"GlyphRenderer\"},{\"attributes\":{\"data\":{\"Close\":{\"__ndarray__\":\"I/YJoBi7RUAFwePbuyZCQIveqYB7/EFA\",\"dtype\":\"float64\",\"order\":\"little\",\"shape\":[3]},\"Date\":{\"__ndarray__\":\"AACAhQgscUIAAABmVm5xQgAAAKmSsnFC\",\"dtype\":\"float64\",\"order\":\"little\",\"shape\":[3]}},\"selected\":{\"id\":\"3158\"},\"selection_policy\":{\"id\":\"3197\"}},\"id\":\"3157\",\"type\":\"ColumnDataSource\"},{\"attributes\":{\"line_alpha\":0.1,\"line_color\":\"#ff7e0e\",\"line_width\":2,\"x\":{\"field\":\"Date\"},\"y\":{\"field\":\"value\"}},\"id\":\"2928\",\"type\":\"Line\"},{\"attributes\":{},\"id\":\"2888\",\"type\":\"LinearScale\"},{\"attributes\":{},\"id\":\"3158\",\"type\":\"Selection\"},{\"attributes\":{},\"id\":\"3197\",\"type\":\"UnionRenderers\"},{\"attributes\":{},\"id\":\"2898\",\"type\":\"SaveTool\"},{\"attributes\":{\"angle\":{\"units\":\"rad\",\"value\":3.141592653589793},\"fill_color\":{\"value\":\"orange\"},\"line_color\":{\"value\":\"orange\"},\"marker\":{\"value\":\"triangle\"},\"size\":{\"units\":\"screen\",\"value\":5.477225575051661},\"x\":{\"field\":\"Date\"},\"y\":{\"field\":\"Close\"}},\"id\":\"3168\",\"type\":\"Scatter\"},{\"attributes\":{\"axis\":{\"id\":\"2890\"},\"grid_line_color\":null,\"ticker\":null},\"id\":\"2893\",\"type\":\"Grid\"},{\"attributes\":{\"source\":{\"id\":\"2916\"}},\"id\":\"2923\",\"type\":\"CDSView\"},{\"attributes\":{},\"id\":\"2957\",\"type\":\"Selection\"},{\"attributes\":{\"line_alpha\":0.1,\"line_color\":\"lightgray\",\"line_width\":2,\"x\":{\"field\":\"Date\"},\"y\":{\"field\":\"Close\"}},\"id\":\"2920\",\"type\":\"Line\"},{\"attributes\":{\"data_source\":{\"id\":\"2924\"},\"glyph\":{\"id\":\"2927\"},\"hover_glyph\":null,\"muted_glyph\":{\"id\":\"2929\"},\"nonselection_glyph\":{\"id\":\"2928\"},\"selection_glyph\":null,\"view\":{\"id\":\"2931\"}},\"id\":\"2930\",\"type\":\"GlyphRenderer\"},{\"attributes\":{\"data_source\":{\"id\":\"2916\"},\"glyph\":{\"id\":\"2919\"},\"hover_glyph\":null,\"muted_glyph\":{\"id\":\"2921\"},\"nonselection_glyph\":{\"id\":\"2920\"},\"selection_glyph\":null,\"view\":{\"id\":\"2923\"}},\"id\":\"2922\",\"type\":\"GlyphRenderer\"},{\"attributes\":{\"line_alpha\":0.2,\"line_color\":\"lightgray\",\"line_width\":2,\"x\":{\"field\":\"Date\"},\"y\":{\"field\":\"Close\"}},\"id\":\"2921\",\"type\":\"Line\"},{\"attributes\":{},\"id\":\"2986\",\"type\":\"UnionRenderers\"},{\"attributes\":{\"end\":1262217600000.0,\"reset_end\":1262217600000.0,\"reset_start\":1167782400000.0,\"start\":1167782400000.0,\"tags\":[[[\"Date\",\"Date\",null]]]},\"id\":\"2874\",\"type\":\"Range1d\"},{\"attributes\":{\"source\":{\"id\":\"2924\"}},\"id\":\"2931\",\"type\":\"CDSView\"},{\"attributes\":{},\"id\":\"2900\",\"type\":\"WheelZoomTool\"},{\"attributes\":{\"data_source\":{\"id\":\"2956\"},\"glyph\":{\"id\":\"2959\"},\"hover_glyph\":null,\"muted_glyph\":{\"id\":\"2961\"},\"nonselection_glyph\":{\"id\":\"2960\"},\"selection_glyph\":null,\"view\":{\"id\":\"2963\"}},\"id\":\"2962\",\"type\":\"GlyphRenderer\"},{\"attributes\":{\"data\":{\"Close\":{\"__ndarray__\":\"ehUZHZBeRUAiF5zB36dDQABUceMWgzRA\",\"dtype\":\"float64\",\"order\":\"little\",\"shape\":[3]},\"Date\":{\"__ndarray__\":\"AADAiaJccUIAAEAbWpNxQgAAwHkHFnJC\",\"dtype\":\"float64\",\"order\":\"little\",\"shape\":[3]}},\"selected\":{\"id\":\"3166\"},\"selection_policy\":{\"id\":\"3199\"}},\"id\":\"3165\",\"type\":\"ColumnDataSource\"},{\"attributes\":{},\"id\":\"3166\",\"type\":\"Selection\"},{\"attributes\":{\"days\":[1,2,3,4,5,6,7,8,9,10,11,12,13,14,15,16,17,18,19,20,21,22,23,24,25,26,27,28,29,30,31]},\"id\":\"2941\",\"type\":\"DaysTicker\"},{\"attributes\":{\"end\":54.2879814,\"reset_end\":54.2879814,\"reset_start\":9.930060600000001,\"start\":9.930060600000001,\"tags\":[[[\"Close\",\"Close\",null]]]},\"id\":\"2875\",\"type\":\"Range1d\"},{\"attributes\":{\"angle\":{\"units\":\"rad\",\"value\":3.141592653589793},\"fill_alpha\":{\"value\":0.2},\"fill_color\":{\"value\":\"orange\"},\"line_alpha\":{\"value\":0.2},\"line_color\":{\"value\":\"orange\"},\"marker\":{\"value\":\"triangle\"},\"size\":{\"units\":\"screen\",\"value\":5.477225575051661},\"x\":{\"field\":\"Date\"},\"y\":{\"field\":\"Close\"}},\"id\":\"3170\",\"type\":\"Scatter\"},{\"attributes\":{\"label\":{\"value\":\"SMA50\"},\"renderers\":[{\"id\":\"2930\"}]},\"id\":\"2955\",\"type\":\"LegendItem\"},{\"attributes\":{\"source\":{\"id\":\"3157\"}},\"id\":\"3164\",\"type\":\"CDSView\"},{\"attributes\":{\"overlay\":{\"id\":\"2903\"}},\"id\":\"2901\",\"type\":\"BoxZoomTool\"},{\"attributes\":{\"margin\":[5,5,5,5],\"name\":\"HSpacer04135\",\"sizing_mode\":\"stretch_width\"},\"id\":\"3425\",\"type\":\"Spacer\"},{\"attributes\":{},\"id\":\"3199\",\"type\":\"UnionRenderers\"},{\"attributes\":{\"active_drag\":\"auto\",\"active_inspect\":\"auto\",\"active_multi\":null,\"active_scroll\":\"auto\",\"active_tap\":\"auto\",\"tools\":[{\"id\":\"2876\"},{\"id\":\"2877\"},{\"id\":\"2898\"},{\"id\":\"2899\"},{\"id\":\"2900\"},{\"id\":\"2901\"},{\"id\":\"2902\"}]},\"id\":\"2904\",\"type\":\"Toolbar\"},{\"attributes\":{\"data\":{\"Date\":{\"__ndarray__\":\"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\",\"dtype\":\"float64\",\"order\":\"little\",\"shape\":[756]},\"Variable\":[\"SMA100\",\"SMA100\",\"SMA100\",\"SMA100\",\"SMA100\",\"SMA100\",\"SMA100\",\"SMA100\",\"SMA100\",\"SMA100\",\"SMA100\",\"SMA100\",\"SMA100\",\"SMA100\",\"SMA100\",\"SMA100\",\"SMA100\",\"SMA100\",\"SMA100\",\"SMA100\",\"SMA100\",\"SMA100\",\"SMA100\",\"SMA100\",\"SMA100\",\"SMA100\",\"SMA100\",\"SMA100\",\"SMA100\",\"SMA100\",\"SMA100\",\"SMA100\",\"SMA100\",\"SMA100\",\"SMA100\",\"SMA100\",\"SMA100\",\"SMA100\",\"SMA100\",\"SMA100\",\"SMA100\",\"SMA100\",\"SMA100\",\"SMA100\",\"SMA100\",\"SMA100\",\"SMA100\",\"SMA100\",\"SMA100\",\"SMA100\",\"SMA100\",\"SMA100\",\"SMA100\",\"SMA100\",\"SMA100\",\"SMA100\",\"SMA100\",\"SMA100\",\"SMA100\",\"SMA100\",\"SMA100\",\"SMA100\",\"SMA100\",\"SMA100\",\"SMA100\",\"SMA100\",\"SMA100\",\"SMA100\",\"SMA100\",\"SMA100\",\"SMA100\",\"SMA100\",\"SMA100\",\"SMA100\",\"SMA100\",\"SMA100\",\"SMA100\",\"SMA100\",\"SMA100\",\"SMA100\",\"SMA100\",\"SMA100\",\"SMA100\",\"SMA100\",\"SMA100\",\"SMA100\",\"SMA100\",\"SMA100\",\"SMA100\",\"SMA100\",\"SMA100\",\"SMA100\",\"SMA100\",\"SMA100\",\"SMA100\",\"SMA100\",\"SMA100\",\"SMA100\",\"SMA100\",\"SMA100\",\"SMA100\",\"SMA100\",\"SMA100\",\"SMA100\",\"SMA100\",\"SMA100\",\"SMA100\",\"SMA100\",\"SMA100\",\"SMA100\",\"SMA100\",\"SMA100\",\"SMA100\",\"SMA100\",\"SMA100\",\"SMA100\",\"SMA100\",\"SMA100\",\"SMA100\",\"SMA100\",\"SMA100\",\"SMA100\",\"SMA100\",\"SMA100\",\"SMA100\",\"SMA100\",\"SMA100\",\"SMA100\",\"SMA100\",\"SMA100\",\"SMA100\",\"SMA100\",\"SMA100\",\"SMA100\",\"SMA100\",\"SMA100\",\"SMA100\",\"SMA100\",\"SMA100\",\"SMA100\",\"SMA100\",\"SMA100\",\"SMA100\",\"SMA100\",\"SMA100\",\"SMA100\",\"SMA100\",\"SMA100\",\"SMA100\",\"SMA100\",\"SMA100\",\"SMA100\",\"SMA100\",\"SMA100\",\"SMA100\",\"SMA100\",\"SMA100\",\"SMA100\",\"SMA100\",\"SMA100\",\"SMA100\",\"SMA100\",\"SMA100\",\"SMA100\",\"SMA100\",\"SMA100\",\"SMA100\",\"SMA100\",\"SMA100\",\"SMA100\",\"SMA100\",\"SMA100\",\"SMA100\",\"SMA100\",\"SMA100\",\"SMA100\",\"SMA100\",\"SMA100\",\"SMA100\",\"SMA100\",\"SMA100\",\"SMA100\",\"SMA100\",\"SMA100\",\"SMA100\",\"SMA100\",\"SMA100\",\"SMA100\",\"SMA100\",\"SMA100\",\"SMA100\",\"SMA100\",\"SMA100\",\"SMA100\",\"SMA100\",\"SMA100\",\"SMA100\",\"SMA100\",\"SMA100\",\"SMA100\",\"SMA100\",\"SMA100\",\"SMA100\",\"SMA100\",\"SMA100\",\"SMA100\",\"SMA100\",\"SMA100\",\"SMA100\",\"SMA100\",\"SMA100\",\"SMA100\",\"SMA100\",\"SMA100\",\"SMA100\",\"SMA100\",\"SMA100\",\"SMA100\",\"SMA100\",\"SMA100\",\"SMA100\",\"SMA100\",\"SMA100\",\"SMA100\",\"SMA100\",\"SMA100\",\"SMA100\",\"SMA100\",\"SMA100\",\"SMA100\",\"SMA100\",\"SMA100\",\"SMA100\",\"SMA100\",\"SMA100\",\"SMA100\",\"SMA100\",\"SMA100\",\"SMA100\",\"SMA100\",\"SMA100\",\"SMA100\",\"SMA100\",\"SMA100\",\"SMA100\",\"SMA100\",\"SMA100\",\"SMA100\",\"SMA100\",\"SMA100\",\"SMA100\",\"SMA100\",\"SMA100\",\"SMA100\",\"SMA100\",\"SMA100\",\"SMA100\",\"SMA100\",\"SMA100\",\"SMA100\",\"SMA100\",\"SMA100\",\"SMA100\",\"SMA100\",\"SMA100\",\"SMA100\",\"SMA100\",\"SMA100\",\"SMA100\",\"SMA100\",\"SMA100\",\"SMA100\",\"SMA100\",\"SMA100\",\"SMA100\",\"SMA100\",\"SMA100\",\"SMA100\",\"SMA100\",\"SMA100\",\"SMA100\",\"SMA100\",\"SMA100\",\"SMA100\",\"SMA100\",\"SMA100\",\"SMA100\",\"SMA100\",\"SMA100\",\"SMA100\",\"SMA100\",\"SMA100\",\"SMA100\",\"SMA100\",\"SMA100\",\"SMA100\",\"SMA100\",\"SMA100\",\"SMA100\",\"SMA100\",\"SMA100\",\"SMA100\",\"SMA100\",\"SMA100\",\"SMA100\",\"SMA100\",\"SMA100\",\"SMA100\",\"SMA100\",\"SMA100\",\"SMA100\",\"SMA100\",\"SMA100\",\"SMA100\",\"SMA100\",\"SMA100\",\"SMA100\",\"SMA100\",\"SMA100\",\"SMA100\",\"SMA100\",\"SMA100\",\"SMA100\",\"SMA100\",\"SMA100\",\"SMA100\",\"SMA100\",\"SMA100\",\"SMA100\",\"SMA100\",\"SMA100\",\"SMA100\",\"SMA100\",\"SMA100\",\"SMA100\",\"SMA100\",\"SMA100\",\"SMA100\",\"SMA100\",\"SMA100\",\"SMA100\",\"SMA100\",\"SMA100\",\"SMA100\",\"SMA100\",\"SMA100\",\"SMA100\",\"SMA100\",\"SMA100\",\"SMA100\",\"SMA100\",\"SMA100\",\"SMA100\",\"SMA100\",\"SMA100\",\"SMA100\",\"SMA100\",\"SMA100\",\"SMA100\",\"SMA100\",\"SMA100\",\"SMA100\",\"SMA100\",\"SMA100\",\"SMA100\",\"SMA100\",\"SMA100\",\"SMA100\",\"SMA100\",\"SMA100\",\"SMA100\",\"SMA100\",\"SMA100\",\"SMA100\",\"SMA100\",\"SMA100\",\"SMA100\",\"SMA100\",\"SMA100\",\"SMA100\",\"SMA100\",\"SMA100\",\"SMA100\",\"SMA100\",\"SMA100\",\"SMA100\",\"SMA100\",\"SMA100\",\"SMA100\",\"SMA100\",\"SMA100\",\"SMA100\",\"SMA100\",\"SMA100\",\"SMA100\",\"SMA100\",\"SMA100\",\"SMA100\",\"SMA100\",\"SMA100\",\"SMA100\",\"SMA100\",\"SMA100\",\"SMA100\",\"SMA100\",\"SMA100\",\"SMA100\",\"SMA100\",\"SMA100\",\"SMA100\",\"SMA100\",\"SMA100\",\"SMA100\",\"SMA100\",\"SMA100\",\"SMA100\",\"SMA100\",\"SMA100\",\"SMA100\",\"SMA100\",\"SMA100\",\"SMA100\",\"SMA100\",\"SMA100\",\"SMA100\",\"SMA100\",\"SMA100\",\"SMA100\",\"SMA100\",\"SMA100\",\"SMA100\",\"SMA100\",\"SMA100\",\"SMA100\",\"SMA100\",\"SMA100\",\"SMA100\",\"SMA100\",\"SMA100\",\"SMA100\",\"SMA100\",\"SMA100\",\"SMA100\",\"SMA100\",\"SMA100\",\"SMA100\",\"SMA100\",\"SMA100\",\"SMA100\",\"SMA100\",\"SMA100\",\"SMA100\",\"SMA100\",\"SMA100\",\"SMA100\",\"SMA100\",\"SMA100\",\"SMA100\",\"SMA100\",\"SMA100\",\"SMA100\",\"SMA100\",\"SMA100\",\"SMA100\",\"SMA100\",\"SMA100\",\"SMA100\",\"SMA100\",\"SMA100\",\"SMA100\",\"SMA100\",\"SMA100\",\"SMA100\",\"SMA100\",\"SMA100\",\"SMA100\",\"SMA100\",\"SMA100\",\"SMA100\",\"SMA100\",\"SMA100\",\"SMA100\",\"SMA100\",\"SMA100\",\"SMA100\",\"SMA100\",\"SMA100\",\"SMA100\",\"SMA100\",\"SMA100\",\"SMA100\",\"SMA100\",\"SMA100\",\"SMA100\",\"SMA100\",\"SMA100\",\"SMA100\",\"SMA100\",\"SMA100\",\"SMA100\",\"SMA100\",\"SMA100\",\"SMA100\",\"SMA100\",\"SMA100\",\"SMA100\",\"SMA100\",\"SMA100\",\"SMA100\",\"SMA100\",\"SMA100\",\"SMA100\",\"SMA100\",\"SMA100\",\"SMA100\",\"SMA100\",\"SMA100\",\"SMA100\",\"SMA100\",\"SMA100\",\"SMA100\",\"SMA100\",\"SMA100\",\"SMA100\",\"SMA100\",\"SMA100\",\"SMA100\",\"SMA100\",\"SMA100\",\"SMA100\",\"SMA100\",\"SMA100\",\"SMA100\",\"SMA100\",\"SMA100\",\"SMA100\",\"SMA100\",\"SMA100\",\"SMA100\",\"SMA100\",\"SMA100\",\"SMA100\",\"SMA100\",\"SMA100\",\"SMA100\",\"SMA100\",\"SMA100\",\"SMA100\",\"SMA100\",\"SMA100\",\"SMA100\",\"SMA100\",\"SMA100\",\"SMA100\",\"SMA100\",\"SMA100\",\"SMA100\",\"SMA100\",\"SMA100\",\"SMA100\",\"SMA100\",\"SMA100\",\"SMA100\",\"SMA100\",\"SMA100\",\"SMA100\",\"SMA100\",\"SMA100\",\"SMA100\",\"SMA100\",\"SMA100\",\"SMA100\",\"SMA100\",\"SMA100\",\"SMA100\",\"SMA100\",\"SMA100\",\"SMA100\",\"SMA100\",\"SMA100\",\"SMA100\",\"SMA100\",\"SMA100\",\"SMA100\",\"SMA100\",\"SMA100\",\"SMA100\",\"SMA100\",\"SMA100\",\"SMA100\",\"SMA100\",\"SMA100\",\"SMA100\",\"SMA100\",\"SMA100\",\"SMA100\",\"SMA100\",\"SMA100\",\"SMA100\",\"SMA100\",\"SMA100\",\"SMA100\",\"SMA100\",\"SMA100\",\"SMA100\",\"SMA100\",\"SMA100\",\"SMA100\",\"SMA100\",\"SMA100\",\"SMA100\",\"SMA100\",\"SMA100\",\"SMA100\",\"SMA100\",\"SMA100\",\"SMA100\",\"SMA100\",\"SMA100\",\"SMA100\",\"SMA100\",\"SMA100\",\"SMA100\",\"SMA100\",\"SMA100\",\"SMA100\",\"SMA100\",\"SMA100\",\"SMA100\",\"SMA100\",\"SMA100\",\"SMA100\",\"SMA100\",\"SMA100\",\"SMA100\",\"SMA100\",\"SMA100\",\"SMA100\",\"SMA100\",\"SMA100\",\"SMA100\",\"SMA100\",\"SMA100\",\"SMA100\",\"SMA100\",\"SMA100\",\"SMA100\",\"SMA100\",\"SMA100\",\"SMA100\",\"SMA100\",\"SMA100\",\"SMA100\",\"SMA100\",\"SMA100\",\"SMA100\",\"SMA100\",\"SMA100\",\"SMA100\",\"SMA100\",\"SMA100\",\"SMA100\",\"SMA100\",\"SMA100\",\"SMA100\",\"SMA100\",\"SMA100\",\"SMA100\",\"SMA100\",\"SMA100\",\"SMA100\",\"SMA100\",\"SMA100\",\"SMA100\",\"SMA100\",\"SMA100\",\"SMA100\",\"SMA100\",\"SMA100\",\"SMA100\",\"SMA100\",\"SMA100\",\"SMA100\",\"SMA100\",\"SMA100\",\"SMA100\",\"SMA100\",\"SMA100\",\"SMA100\",\"SMA100\",\"SMA100\",\"SMA100\",\"SMA100\",\"SMA100\",\"SMA100\",\"SMA100\",\"SMA100\",\"SMA100\",\"SMA100\",\"SMA100\",\"SMA100\",\"SMA100\",\"SMA100\",\"SMA100\",\"SMA100\",\"SMA100\",\"SMA100\",\"SMA100\",\"SMA100\",\"SMA100\",\"SMA100\",\"SMA100\",\"SMA100\",\"SMA100\",\"SMA100\",\"SMA100\",\"SMA100\",\"SMA100\",\"SMA100\",\"SMA100\",\"SMA100\",\"SMA100\",\"SMA100\",\"SMA100\",\"SMA100\",\"SMA100\",\"SMA100\",\"SMA100\",\"SMA100\",\"SMA100\",\"SMA100\",\"SMA100\",\"SMA100\",\"SMA100\",\"SMA100\",\"SMA100\",\"SMA100\",\"SMA100\",\"SMA100\",\"SMA100\",\"SMA100\",\"SMA100\",\"SMA100\",\"SMA100\",\"SMA100\",\"SMA100\",\"SMA100\",\"SMA100\",\"SMA100\",\"SMA100\",\"SMA100\",\"SMA100\",\"SMA100\",\"SMA100\",\"SMA100\",\"SMA100\"],\"value\":{\"__ndarray__\":\"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\",\"dtype\":\"float64\",\"order\":\"little\",\"shape\":[756]}},\"selected\":{\"id\":\"2957\"},\"selection_policy\":{\"id\":\"2986\"}},\"id\":\"2956\",\"type\":\"ColumnDataSource\"},{\"attributes\":{\"source\":{\"id\":\"2956\"}},\"id\":\"2963\",\"type\":\"CDSView\"},{\"attributes\":{\"source\":{\"id\":\"3165\"}},\"id\":\"3172\",\"type\":\"CDSView\"},{\"attributes\":{},\"id\":\"2913\",\"type\":\"DatetimeTickFormatter\"},{\"attributes\":{\"data_source\":{\"id\":\"3157\"},\"glyph\":{\"id\":\"3160\"},\"hover_glyph\":null,\"muted_glyph\":{\"id\":\"3162\"},\"nonselection_glyph\":{\"id\":\"3161\"},\"selection_glyph\":null,\"view\":{\"id\":\"3164\"}},\"id\":\"3163\",\"type\":\"GlyphRenderer\"},{\"attributes\":{\"num_minor_ticks\":5,\"tickers\":[{\"id\":\"2938\"},{\"id\":\"2939\"},{\"id\":\"2940\"},{\"id\":\"2941\"},{\"id\":\"2942\"},{\"id\":\"2943\"},{\"id\":\"2944\"},{\"id\":\"2945\"},{\"id\":\"2946\"},{\"id\":\"2947\"},{\"id\":\"2948\"},{\"id\":\"2949\"}]},\"id\":\"2891\",\"type\":\"DatetimeTicker\"},{\"attributes\":{\"line_color\":\"#ff7e0e\",\"line_width\":2,\"x\":{\"field\":\"Date\"},\"y\":{\"field\":\"value\"}},\"id\":\"2927\",\"type\":\"Line\"},{\"attributes\":{\"click_policy\":\"mute\",\"items\":[{\"id\":\"2955\"},{\"id\":\"2988\"}],\"location\":[0,0]},\"id\":\"2954\",\"type\":\"Legend\"},{\"attributes\":{\"axis\":{\"id\":\"2894\"},\"dimension\":1,\"grid_line_color\":null,\"ticker\":null},\"id\":\"2897\",\"type\":\"Grid\"},{\"attributes\":{\"data\":{\"Date\":{\"__ndarray__\":\"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\",\"dtype\":\"float64\",\"order\":\"little\",\"shape\":[756]},\"Variable\":[\"SMA50\",\"SMA50\",\"SMA50\",\"SMA50\",\"SMA50\",\"SMA50\",\"SMA50\",\"SMA50\",\"SMA50\",\"SMA50\",\"SMA50\",\"SMA50\",\"SMA50\",\"SMA50\",\"SMA50\",\"SMA50\",\"SMA50\",\"SMA50\",\"SMA50\",\"SMA50\",\"SMA50\",\"SMA50\",\"SMA50\",\"SMA50\",\"SMA50\",\"SMA50\",\"SMA50\",\"SMA50\",\"SMA50\",\"SMA50\",\"SMA50\",\"SMA50\",\"SMA50\",\"SMA50\",\"SMA50\",\"SMA50\",\"SMA50\",\"SMA50\",\"SMA50\",\"SMA50\",\"SMA50\",\"SMA50\",\"SMA50\",\"SMA50\",\"SMA50\",\"SMA50\",\"SMA50\",\"SMA50\",\"SMA50\",\"SMA50\",\"SMA50\",\"SMA50\",\"SMA50\",\"SMA50\",\"SMA50\",\"SMA50\",\"SMA50\",\"SMA50\",\"SMA50\",\"SMA50\",\"SMA50\",\"SMA50\",\"SMA50\",\"SMA50\",\"SMA50\",\"SMA50\",\"SMA50\",\"SMA50\",\"SMA50\",\"SMA50\",\"SMA50\",\"SMA50\",\"SMA50\",\"SMA50\",\"SMA50\",\"SMA50\",\"SMA50\",\"SMA50\",\"SMA50\",\"SMA50\",\"SMA50\",\"SMA50\",\"SMA50\",\"SMA50\",\"SMA50\",\"SMA50\",\"SMA50\",\"SMA50\",\"SMA50\",\"SMA50\",\"SMA50\",\"SMA50\",\"SMA50\",\"SMA50\",\"SMA50\",\"SMA50\",\"SMA50\",\"SMA50\",\"SMA50\",\"SMA50\",\"SMA50\",\"SMA50\",\"SMA50\",\"SMA50\",\"SMA50\",\"SMA50\",\"SMA50\",\"SMA50\",\"SMA50\",\"SMA50\",\"SMA50\",\"SMA50\",\"SMA50\",\"SMA50\",\"SMA50\",\"SMA50\",\"SMA50\",\"SMA50\",\"SMA50\",\"SMA50\",\"SMA50\",\"SMA50\",\"SMA50\",\"SMA50\",\"SMA50\",\"SMA50\",\"SMA50\",\"SMA50\",\"SMA50\",\"SMA50\",\"SMA50\",\"SMA50\",\"SMA50\",\"SMA50\",\"SMA50\",\"SMA50\",\"SMA50\",\"SMA50\",\"SMA50\",\"SMA50\",\"SMA50\",\"SMA50\",\"SMA50\",\"SMA50\",\"SMA50\",\"SMA50\",\"SMA50\",\"SMA50\",\"SMA50\",\"SMA50\",\"SMA50\",\"SMA50\",\"SMA50\",\"SMA50\",\"SMA50\",\"SMA50\",\"SMA50\",\"SMA50\",\"SMA50\",\"SMA50\",\"SMA50\",\"SMA50\",\"SMA50\",\"SMA50\",\"SMA50\",\"SMA50\",\"SMA50\",\"SMA50\",\"SMA50\",\"SMA50\",\"SMA50\",\"SMA50\",\"SMA50\",\"SMA50\",\"SMA50\",\"SMA50\",\"SMA50\",\"SMA50\",\"SMA50\",\"SMA50\",\"SMA50\",\"SMA50\",\"SMA50\",\"SMA50\",\"SMA50\",\"SMA50\",\"SMA50\",\"SMA50\",\"SMA50\",\"SMA50\",\"SMA50\",\"SMA50\",\"SMA50\",\"SMA50\",\"SMA50\",\"SMA50\",\"SMA50\",\"SMA50\",\"SMA50\",\"SMA50\",\"SMA50\",\"SMA50\",\"SMA50\",\"SMA50\",\"SMA50\",\"SMA50\",\"SMA50\",\"SMA50\",\"SMA50\",\"SMA50\",\"SMA50\",\"SMA50\",\"SMA50\",\"SMA50\",\"SMA50\",\"SMA50\",\"SMA50\",\"SMA50\",\"SMA50\",\"SMA50\",\"SMA50\",\"SMA50\",\"SMA50\",\"SMA50\",\"SMA50\",\"SMA50\",\"SMA50\",\"SMA50\",\"SMA50\",\"SMA50\",\"SMA50\",\"SMA50\",\"SMA50\",\"SMA50\",\"SMA50\",\"SMA50\",\"SMA50\",\"SMA50\",\"SMA50\",\"SMA50\",\"SMA50\",\"SMA50\",\"SMA50\",\"SMA50\",\"SMA50\",\"SMA50\",\"SMA50\",\"SMA50\",\"SMA50\",\"SMA50\",\"SMA50\",\"SMA50\",\"SMA50\",\"SMA50\",\"SMA50\",\"SMA50\",\"SMA50\",\"SMA50\",\"SMA50\",\"SMA50\",\"SMA50\",\"SMA50\",\"SMA50\",\"SMA50\",\"SMA50\",\"SMA50\",\"SMA50\",\"SMA50\",\"SMA50\",\"SMA50\",\"SMA50\",\"SMA50\",\"SMA50\",\"SMA50\",\"SMA50\",\"SMA50\",\"SMA50\",\"SMA50\",\"SMA50\",\"SMA50\",\"SMA50\",\"SMA50\",\"SMA50\",\"SMA50\",\"SMA50\",\"SMA50\",\"SMA50\",\"SMA50\",\"SMA50\",\"SMA50\",\"SMA50\",\"SMA50\",\"SMA50\",\"SMA50\",\"SMA50\",\"SMA50\",\"SMA50\",\"SMA50\",\"SMA50\",\"SMA50\",\"SMA50\",\"SMA50\",\"SMA50\",\"SMA50\",\"SMA50\",\"SMA50\",\"SMA50\",\"SMA50\",\"SMA50\",\"SMA50\",\"SMA50\",\"SMA50\",\"SMA50\",\"SMA50\",\"SMA50\",\"SMA50\",\"SMA50\",\"SMA50\",\"SMA50\",\"SMA50\",\"SMA50\",\"SMA50\",\"SMA50\",\"SMA50\",\"SMA50\",\"SMA50\",\"SMA50\",\"SMA50\",\"SMA50\",\"SMA50\",\"SMA50\",\"SMA50\",\"SMA50\",\"SMA50\",\"SMA50\",\"SMA50\",\"SMA50\",\"SMA50\",\"SMA50\",\"SMA50\",\"SMA50\",\"SMA50\",\"SMA50\",\"SMA50\",\"SMA50\",\"SMA50\",\"SMA50\",\"SMA50\",\"SMA50\",\"SMA50\",\"SMA50\",\"SMA50\",\"SMA50\",\"SMA50\",\"SMA50\",\"SMA50\",\"SMA50\",\"SMA50\",\"SMA50\",\"SMA50\",\"SMA50\",\"SMA50\",\"SMA50\",\"SMA50\",\"SMA50\",\"SMA50\",\"SMA50\",\"SMA50\",\"SMA50\",\"SMA50\",\"SMA50\",\"SMA50\",\"SMA50\",\"SMA50\",\"SMA50\",\"SMA50\",\"SMA50\",\"SMA50\",\"SMA50\",\"SMA50\",\"SMA50\",\"SMA50\",\"SMA50\",\"SMA50\",\"SMA50\",\"SMA50\",\"SMA50\",\"SMA50\",\"SMA50\",\"SMA50\",\"SMA50\",\"SMA50\",\"SMA50\",\"SMA50\",\"SMA50\",\"SMA50\",\"SMA50\",\"SMA50\",\"SMA50\",\"SMA50\",\"SMA50\",\"SMA50\",\"SMA50\",\"SMA50\",\"SMA50\",\"SMA50\",\"SMA50\",\"SMA50\",\"SMA50\",\"SMA50\",\"SMA50\",\"SMA50\",\"SMA50\",\"SMA50\",\"SMA50\",\"SMA50\",\"SMA50\",\"SMA50\",\"SMA50\",\"SMA50\",\"SMA50\",\"SMA50\",\"SMA50\",\"SMA50\",\"SMA50\",\"SMA50\",\"SMA50\",\"SMA50\",\"SMA50\",\"SMA50\",\"SMA50\",\"SMA50\",\"SMA50\",\"SMA50\",\"SMA50\",\"SMA50\",\"SMA50\",\"SMA50\",\"SMA50\",\"SMA50\",\"SMA50\",\"SMA50\",\"SMA50\",\"SMA50\",\"SMA50\",\"SMA50\",\"SMA50\",\"SMA50\",\"SMA50\",\"SMA50\",\"SMA50\",\"SMA50\",\"SMA50\",\"SMA50\",\"SMA50\",\"SMA50\",\"SMA50\",\"SMA50\",\"SMA50\",\"SMA50\",\"SMA50\",\"SMA50\",\"SMA50\",\"SMA50\",\"SMA50\",\"SMA50\",\"SMA50\",\"SMA50\",\"SMA50\",\"SMA50\",\"SMA50\",\"SMA50\",\"SMA50\",\"SMA50\",\"SMA50\",\"SMA50\",\"SMA50\",\"SMA50\",\"SMA50\",\"SMA50\",\"SMA50\",\"SMA50\",\"SMA50\",\"SMA50\",\"SMA50\",\"SMA50\",\"SMA50\",\"SMA50\",\"SMA50\",\"SMA50\",\"SMA50\",\"SMA50\",\"SMA50\",\"SMA50\",\"SMA50\",\"SMA50\",\"SMA50\",\"SMA50\",\"SMA50\",\"SMA50\",\"SMA50\",\"SMA50\",\"SMA50\",\"SMA50\",\"SMA50\",\"SMA50\",\"SMA50\",\"SMA50\",\"SMA50\",\"SMA50\",\"SMA50\",\"SMA50\",\"SMA50\",\"SMA50\",\"SMA50\",\"SMA50\",\"SMA50\",\"SMA50\",\"SMA50\",\"SMA50\",\"SMA50\",\"SMA50\",\"SMA50\",\"SMA50\",\"SMA50\",\"SMA50\",\"SMA50\",\"SMA50\",\"SMA50\",\"SMA50\",\"SMA50\",\"SMA50\",\"SMA50\",\"SMA50\",\"SMA50\",\"SMA50\",\"SMA50\",\"SMA50\",\"SMA50\",\"SMA50\",\"SMA50\",\"SMA50\",\"SMA50\",\"SMA50\",\"SMA50\",\"SMA50\",\"SMA50\",\"SMA50\",\"SMA50\",\"SMA50\",\"SMA50\",\"SMA50\",\"SMA50\",\"SMA50\",\"SMA50\",\"SMA50\",\"SMA50\",\"SMA50\",\"SMA50\",\"SMA50\",\"SMA50\",\"SMA50\",\"SMA50\",\"SMA50\",\"SMA50\",\"SMA50\",\"SMA50\",\"SMA50\",\"SMA50\",\"SMA50\",\"SMA50\",\"SMA50\",\"SMA50\",\"SMA50\",\"SMA50\",\"SMA50\",\"SMA50\",\"SMA50\",\"SMA50\",\"SMA50\",\"SMA50\",\"SMA50\",\"SMA50\",\"SMA50\",\"SMA50\",\"SMA50\",\"SMA50\",\"SMA50\",\"SMA50\",\"SMA50\",\"SMA50\",\"SMA50\",\"SMA50\",\"SMA50\",\"SMA50\",\"SMA50\",\"SMA50\",\"SMA50\",\"SMA50\",\"SMA50\",\"SMA50\",\"SMA50\",\"SMA50\",\"SMA50\",\"SMA50\",\"SMA50\",\"SMA50\",\"SMA50\",\"SMA50\",\"SMA50\",\"SMA50\",\"SMA50\",\"SMA50\",\"SMA50\",\"SMA50\",\"SMA50\",\"SMA50\",\"SMA50\",\"SMA50\",\"SMA50\",\"SMA50\",\"SMA50\",\"SMA50\",\"SMA50\",\"SMA50\",\"SMA50\",\"SMA50\",\"SMA50\",\"SMA50\",\"SMA50\",\"SMA50\",\"SMA50\",\"SMA50\",\"SMA50\",\"SMA50\",\"SMA50\",\"SMA50\",\"SMA50\",\"SMA50\",\"SMA50\",\"SMA50\",\"SMA50\",\"SMA50\",\"SMA50\",\"SMA50\",\"SMA50\",\"SMA50\",\"SMA50\",\"SMA50\",\"SMA50\",\"SMA50\",\"SMA50\",\"SMA50\",\"SMA50\",\"SMA50\",\"SMA50\",\"SMA50\",\"SMA50\",\"SMA50\",\"SMA50\",\"SMA50\",\"SMA50\",\"SMA50\",\"SMA50\",\"SMA50\",\"SMA50\",\"SMA50\",\"SMA50\",\"SMA50\",\"SMA50\",\"SMA50\",\"SMA50\",\"SMA50\",\"SMA50\",\"SMA50\",\"SMA50\",\"SMA50\",\"SMA50\",\"SMA50\",\"SMA50\",\"SMA50\",\"SMA50\",\"SMA50\",\"SMA50\",\"SMA50\",\"SMA50\",\"SMA50\",\"SMA50\",\"SMA50\",\"SMA50\",\"SMA50\",\"SMA50\",\"SMA50\",\"SMA50\",\"SMA50\",\"SMA50\",\"SMA50\",\"SMA50\",\"SMA50\",\"SMA50\",\"SMA50\",\"SMA50\",\"SMA50\",\"SMA50\",\"SMA50\",\"SMA50\",\"SMA50\",\"SMA50\",\"SMA50\",\"SMA50\",\"SMA50\",\"SMA50\",\"SMA50\",\"SMA50\",\"SMA50\",\"SMA50\",\"SMA50\",\"SMA50\",\"SMA50\",\"SMA50\",\"SMA50\",\"SMA50\",\"SMA50\",\"SMA50\",\"SMA50\",\"SMA50\",\"SMA50\",\"SMA50\",\"SMA50\",\"SMA50\",\"SMA50\",\"SMA50\",\"SMA50\",\"SMA50\",\"SMA50\",\"SMA50\",\"SMA50\",\"SMA50\",\"SMA50\",\"SMA50\",\"SMA50\",\"SMA50\",\"SMA50\",\"SMA50\",\"SMA50\",\"SMA50\",\"SMA50\",\"SMA50\",\"SMA50\",\"SMA50\",\"SMA50\",\"SMA50\",\"SMA50\",\"SMA50\",\"SMA50\",\"SMA50\"],\"value\":{\"__ndarray__\":\"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\",\"dtype\":\"float64\",\"order\":\"little\",\"shape\":[756]}},\"selected\":{\"id\":\"2925\"},\"selection_policy\":{\"id\":\"2952\"}},\"id\":\"2924\",\"type\":\"ColumnDataSource\"},{\"attributes\":{\"line_color\":\"lightgray\",\"line_width\":2,\"x\":{\"field\":\"Date\"},\"y\":{\"field\":\"Close\"}},\"id\":\"2919\",\"type\":\"Line\"},{\"attributes\":{\"children\":[{\"id\":\"2873\"},{\"id\":\"2881\"},{\"id\":\"3425\"}],\"margin\":[0,0,0,0],\"name\":\"Row04130\",\"tags\":[\"embedded\"]},\"id\":\"2872\",\"type\":\"Row\"},{\"attributes\":{\"base\":60,\"mantissas\":[1,2,5,10,15,20,30],\"max_interval\":1800000.0,\"min_interval\":1000.0,\"num_minor_ticks\":0},\"id\":\"2939\",\"type\":\"AdaptiveTicker\"},{\"attributes\":{\"days\":[1,4,7,10,13,16,19,22,25,28]},\"id\":\"2942\",\"type\":\"DaysTicker\"},{\"attributes\":{\"bottom_units\":\"screen\",\"fill_alpha\":0.5,\"fill_color\":\"lightgrey\",\"left_units\":\"screen\",\"level\":\"overlay\",\"line_alpha\":1.0,\"line_color\":\"black\",\"line_dash\":[4,4],\"line_width\":2,\"right_units\":\"screen\",\"top_units\":\"screen\"},\"id\":\"2903\",\"type\":\"BoxAnnotation\"},{\"attributes\":{\"mantissas\":[1,2,5],\"max_interval\":500.0,\"num_minor_ticks\":0},\"id\":\"2938\",\"type\":\"AdaptiveTicker\"},{\"attributes\":{},\"id\":\"2917\",\"type\":\"Selection\"},{\"attributes\":{\"callback\":null,\"formatters\":{\"@{Date}\":\"datetime\"},\"renderers\":[{\"id\":\"2922\"},{\"id\":\"3163\"},{\"id\":\"3171\"}],\"tags\":[\"hv_created\"],\"tooltips\":[[\"Date\",\"@{Date}{%F %T}\"],[\"Close\",\"@{Close}\"]]},\"id\":\"2876\",\"type\":\"HoverTool\"},{\"attributes\":{},\"id\":\"2915\",\"type\":\"BasicTickFormatter\"},{\"attributes\":{\"below\":[{\"id\":\"2890\"}],\"center\":[{\"id\":\"2893\"},{\"id\":\"2897\"}],\"left\":[{\"id\":\"2894\"}],\"margin\":[5,5,5,5],\"min_border_bottom\":10,\"min_border_left\":10,\"min_border_right\":10,\"min_border_top\":10,\"plot_height\":400,\"plot_width\":1000,\"renderers\":[{\"id\":\"2922\"},{\"id\":\"2930\"},{\"id\":\"2962\"},{\"id\":\"3163\"},{\"id\":\"3171\"}],\"right\":[{\"id\":\"2954\"}],\"sizing_mode\":\"fixed\",\"title\":{\"id\":\"2882\"},\"toolbar\":{\"id\":\"2904\"},\"x_range\":{\"id\":\"2874\"},\"x_scale\":{\"id\":\"2886\"},\"y_range\":{\"id\":\"2875\"},\"y_scale\":{\"id\":\"2888\"}},\"id\":\"2881\",\"subtype\":\"Figure\",\"type\":\"Plot\"},{\"attributes\":{\"line_alpha\":0.2,\"line_color\":\"#2ba02b\",\"line_width\":2,\"x\":{\"field\":\"Date\"},\"y\":{\"field\":\"value\"}},\"id\":\"2961\",\"type\":\"Line\"},{\"attributes\":{\"months\":[0,1,2,3,4,5,6,7,8,9,10,11]},\"id\":\"2945\",\"type\":\"MonthsTicker\"},{\"attributes\":{},\"id\":\"2950\",\"type\":\"UnionRenderers\"},{\"attributes\":{\"months\":[0,4,8]},\"id\":\"2947\",\"type\":\"MonthsTicker\"},{\"attributes\":{},\"id\":\"2886\",\"type\":\"LinearScale\"},{\"attributes\":{\"base\":24,\"mantissas\":[1,2,4,6,8,12],\"max_interval\":43200000.0,\"min_interval\":3600000.0,\"num_minor_ticks\":0},\"id\":\"2940\",\"type\":\"AdaptiveTicker\"},{\"attributes\":{\"line_alpha\":0.1,\"line_color\":\"#2ba02b\",\"line_width\":2,\"x\":{\"field\":\"Date\"},\"y\":{\"field\":\"value\"}},\"id\":\"2960\",\"type\":\"Line\"},{\"attributes\":{},\"id\":\"2949\",\"type\":\"YearsTicker\"},{\"attributes\":{},\"id\":\"2952\",\"type\":\"UnionRenderers\"},{\"attributes\":{\"line_alpha\":0.2,\"line_color\":\"#ff7e0e\",\"line_width\":2,\"x\":{\"field\":\"Date\"},\"y\":{\"field\":\"value\"}},\"id\":\"2929\",\"type\":\"Line\"},{\"attributes\":{},\"id\":\"2899\",\"type\":\"PanTool\"},{\"attributes\":{\"text\":\"VNQ - Short-Position Dual Moving Average Trading Algorithm\",\"text_color\":{\"value\":\"black\"},\"text_font_size\":{\"value\":\"12pt\"}},\"id\":\"2882\",\"type\":\"Title\"},{\"attributes\":{\"axis_label\":\"Price in $\",\"bounds\":\"auto\",\"formatter\":{\"id\":\"2915\"},\"major_label_orientation\":\"horizontal\",\"ticker\":{\"id\":\"2895\"}},\"id\":\"2894\",\"type\":\"LinearAxis\"},{\"attributes\":{\"fill_alpha\":{\"value\":0.1},\"fill_color\":{\"value\":\"purple\"},\"line_alpha\":{\"value\":0.1},\"line_color\":{\"value\":\"purple\"},\"marker\":{\"value\":\"triangle\"},\"size\":{\"units\":\"screen\",\"value\":5.477225575051661},\"x\":{\"field\":\"Date\"},\"y\":{\"field\":\"Close\"}},\"id\":\"3161\",\"type\":\"Scatter\"},{\"attributes\":{},\"id\":\"2925\",\"type\":\"Selection\"},{\"attributes\":{\"fill_alpha\":{\"value\":0.2},\"fill_color\":{\"value\":\"purple\"},\"line_alpha\":{\"value\":0.2},\"line_color\":{\"value\":\"purple\"},\"marker\":{\"value\":\"triangle\"},\"size\":{\"units\":\"screen\",\"value\":5.477225575051661},\"x\":{\"field\":\"Date\"},\"y\":{\"field\":\"Close\"}},\"id\":\"3162\",\"type\":\"Scatter\"},{\"attributes\":{\"callback\":null,\"formatters\":{\"@{Date}\":\"datetime\"},\"renderers\":[{\"id\":\"2930\"},{\"id\":\"2962\"}],\"tags\":[\"hv_created\"],\"tooltips\":[[\"Variable\",\"@{Variable}\"],[\"Date\",\"@{Date}{%F %T}\"],[\"value\",\"@{value}\"]]},\"id\":\"2877\",\"type\":\"HoverTool\"},{\"attributes\":{\"line_color\":\"#2ba02b\",\"line_width\":2,\"x\":{\"field\":\"Date\"},\"y\":{\"field\":\"value\"}},\"id\":\"2959\",\"type\":\"Line\"},{\"attributes\":{\"axis_label\":\"Date\",\"bounds\":\"auto\",\"formatter\":{\"id\":\"2913\"},\"major_label_orientation\":\"horizontal\",\"ticker\":{\"id\":\"2891\"}},\"id\":\"2890\",\"type\":\"DatetimeAxis\"},{\"attributes\":{\"days\":[1,15]},\"id\":\"2944\",\"type\":\"DaysTicker\"},{\"attributes\":{\"margin\":[5,5,5,5],\"name\":\"HSpacer04134\",\"sizing_mode\":\"stretch_width\"},\"id\":\"2873\",\"type\":\"Spacer\"},{\"attributes\":{\"days\":[1,8,15,22]},\"id\":\"2943\",\"type\":\"DaysTicker\"},{\"attributes\":{\"fill_color\":{\"value\":\"purple\"},\"line_color\":{\"value\":\"purple\"},\"marker\":{\"value\":\"triangle\"},\"size\":{\"units\":\"screen\",\"value\":5.477225575051661},\"x\":{\"field\":\"Date\"},\"y\":{\"field\":\"Close\"}},\"id\":\"3160\",\"type\":\"Scatter\"},{\"attributes\":{\"months\":[0,6]},\"id\":\"2948\",\"type\":\"MonthsTicker\"},{\"attributes\":{},\"id\":\"2895\",\"type\":\"BasicTicker\"},{\"attributes\":{\"months\":[0,2,4,6,8,10]},\"id\":\"2946\",\"type\":\"MonthsTicker\"},{\"attributes\":{\"data\":{\"Close\":{\"__ndarray__\":\"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\",\"dtype\":\"float64\",\"order\":\"little\",\"shape\":[756]},\"Date\":{\"__ndarray__\":\"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\",\"dtype\":\"float64\",\"order\":\"little\",\"shape\":[756]}},\"selected\":{\"id\":\"2917\"},\"selection_policy\":{\"id\":\"2950\"}},\"id\":\"2916\",\"type\":\"ColumnDataSource\"},{\"attributes\":{\"angle\":{\"units\":\"rad\",\"value\":3.141592653589793},\"fill_alpha\":{\"value\":0.1},\"fill_color\":{\"value\":\"orange\"},\"line_alpha\":{\"value\":0.1},\"line_color\":{\"value\":\"orange\"},\"marker\":{\"value\":\"triangle\"},\"size\":{\"units\":\"screen\",\"value\":5.477225575051661},\"x\":{\"field\":\"Date\"},\"y\":{\"field\":\"Close\"}},\"id\":\"3169\",\"type\":\"Scatter\"},{\"attributes\":{},\"id\":\"2902\",\"type\":\"ResetTool\"}],\"root_ids\":[\"2872\"]},\"title\":\"Bokeh Application\",\"version\":\"2.2.3\"}};\n",
       "    var render_items = [{\"docid\":\"c8fdab1b-c5f6-492c-80ca-9011bbbcefa5\",\"root_ids\":[\"2872\"],\"roots\":{\"2872\":\"60b8dd90-8e15-4ca9-9073-1397a77d9737\"}}];\n",
       "    root.Bokeh.embed.embed_items_notebook(docs_json, render_items);\n",
       "  }\n",
       "  if (root.Bokeh !== undefined && root.Bokeh.Panel !== undefined) {\n",
       "    embed_document(root);\n",
       "  } else {\n",
       "    var attempts = 0;\n",
       "    var timer = setInterval(function(root) {\n",
       "      if (root.Bokeh !== undefined && root.Bokeh.Panel !== undefined) {\n",
       "        clearInterval(timer);\n",
       "        embed_document(root);\n",
       "      } else if (document.readyState == \"complete\") {\n",
       "        attempts++;\n",
       "        if (attempts > 100) {\n",
       "          clearInterval(timer);\n",
       "          console.log(\"Bokeh: ERROR: Unable to run BokehJS code because BokehJS library is missing\");\n",
       "        }\n",
       "      }\n",
       "    }, 10, root)\n",
       "  }\n",
       "})(window);</script>"
      ],
      "text/plain": [
       ":Overlay\n",
       "   .Curve.I          :Curve   [Date]   (Close)\n",
       "   .NdOverlay.I      :NdOverlay   [Variable]\n",
       "      :Curve   [Date]   (value)\n",
       "   .Scatter.Close.I  :Scatter   [Date]   (Close)\n",
       "   .Scatter.Close.II :Scatter   [Date]   (Close)"
      ]
     },
     "execution_count": 16,
     "metadata": {
      "application/vnd.holoviews_exec.v0+json": {
       "id": "2872"
      }
     },
     "output_type": "execute_result"
    }
   ],
   "source": [
    "# Overlay all four plots in a single visualization\n",
    "entry_exit_plot = # YOUR CODE HERE\n"
   ]
  }
 ],
 "metadata": {
  "interpreter": {
   "hash": "7631c39f756ee97fc32a5db05973838915965d11307db0fdf357e8b46bea8845"
  },
  "kernelspec": {
   "display_name": "Python 3.7.13 ('dev')",
   "language": "python",
   "name": "python3"
  },
  "language_info": {
   "codemirror_mode": {
    "name": "ipython",
    "version": 3
   },
   "file_extension": ".py",
   "mimetype": "text/x-python",
   "name": "python",
   "nbconvert_exporter": "python",
   "pygments_lexer": "ipython3",
   "version": "3.7.13"
  }
 },
 "nbformat": 4,
 "nbformat_minor": 4
}
