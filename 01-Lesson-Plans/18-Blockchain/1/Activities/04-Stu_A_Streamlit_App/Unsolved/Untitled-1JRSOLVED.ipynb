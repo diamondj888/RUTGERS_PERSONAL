{
 "cells": [
  {
   "cell_type": "code",
   "execution_count": 1,
   "metadata": {},
   "outputs": [
    {
     "name": "stderr",
     "output_type": "stream",
     "text": [
      "2022-07-16 13:26:23.629 \n",
      "  \u001b[33m\u001b[1mWarning:\u001b[0m to view this Streamlit app on a browser, run it with the following\n",
      "  command:\n",
      "\n",
      "    streamlit run /Users/jasonraeppold/opt/anaconda3/envs/dev/lib/python3.7/site-packages/ipykernel_launcher.py [ARGUMENTS]\n"
     ]
    }
   ],
   "source": [
    "# @TODO: Import the libraries for Pandas and Streamlit\n",
    "# YOUR CODE HERE!\n",
    "import streamlit as st\n",
    "import pandas as pd\n",
    "# @TODO: Create a title for your application using markdown syntax and the\n",
    "# Streamlit `write` function.\n",
    "# YOUR CODE HERE!\n",
    "st.write(\"# Python Web App\")\n",
    "\n",
    "# @TODO: Create an opening sentence for your application using regular text and\n",
    "# the Streamlit `write` function.\n",
    "# YOUR CODE HERE!\n",
    "st.write(\"Hi, you should really check this out and try it!\")\n",
    "# @TODO: Create a Pandas dataframe\n",
    "# YOUR CODE HERE!\n",
    "df = pd.DataFrame({'col1': [1,2], 'col2': [3,4]})\n",
    "# @TODO: Write the Pandas dataframe to the page\n",
    "# YOUR CODE HERE!\n",
    "\n",
    "st.write(df)\n",
    "# @TODO: Create a text input box using the Streamlit `text_input` function.\n",
    "input_value = st.text_input(\"Enter a Message\")\n",
    "\n",
    "# @TODO: Save the input as a variable.\n",
    "# YOUR CODE HERE!\n",
    "\n",
    "# @TODO: Utilize the Streamlit `button` function to display the text input\n",
    "# variable created in the prior step to the page.\n",
    "# YOUR CODE HERE!\n",
    "if st.button(\"Display Message\"): \n",
    "    st.write(input_value)"
   ]
  }
 ],
 "metadata": {
  "kernelspec": {
   "display_name": "Python 3.7.13 ('dev')",
   "language": "python",
   "name": "python3"
  },
  "language_info": {
   "codemirror_mode": {
    "name": "ipython",
    "version": 3
   },
   "file_extension": ".py",
   "mimetype": "text/x-python",
   "name": "python",
   "nbconvert_exporter": "python",
   "pygments_lexer": "ipython3",
   "version": "3.7.13"
  },
  "orig_nbformat": 4,
  "vscode": {
   "interpreter": {
    "hash": "7631c39f756ee97fc32a5db05973838915965d11307db0fdf357e8b46bea8845"
   }
  }
 },
 "nbformat": 4,
 "nbformat_minor": 2
}
