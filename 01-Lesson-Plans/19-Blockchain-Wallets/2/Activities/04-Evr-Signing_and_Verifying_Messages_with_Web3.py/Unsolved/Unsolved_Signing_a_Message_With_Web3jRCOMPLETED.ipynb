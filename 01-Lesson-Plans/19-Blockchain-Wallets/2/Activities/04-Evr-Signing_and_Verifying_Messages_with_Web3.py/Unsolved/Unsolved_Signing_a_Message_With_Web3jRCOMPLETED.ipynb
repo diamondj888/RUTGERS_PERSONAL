{
 "cells": [
  {
   "cell_type": "code",
   "execution_count": 22,
   "metadata": {},
   "outputs": [
    {
     "name": "stdout",
     "output_type": "stream",
     "text": [
      "0xbb27Bd3Bb45D1f37527547739222808CD1744bab\n"
     ]
    }
   ],
   "source": [
    "# Imports\n",
    "import os\n",
    "from dotenv import load_dotenv\n",
    "load_dotenv()\n",
    "from bip44 import Wallet\n",
    "from eth_account import Account\n",
    "\n",
    "# Load the value of the MNEMONIC variable from the .env file\n",
    "mnemonic = os.getenv('MNEMONIC')\n",
    "\n",
    "type(mnemonic)\n",
    "\n",
    "# Instantiate a new instance of Wallet and pass it the mnemonic variable\n",
    "wallet = Wallet(mnemonic)\n",
    "# Review your wallet instance\n",
    "wallet\n",
    "\n",
    "# Calling the derive_account method on your wallet instance\n",
    "# Pass the string eth to the method and the account to get the keys\n",
    "private, public = wallet.derive_account(\"eth\", account=0)\n",
    "# Review the byte string of your private key\n",
    "private\n",
    "\n",
    "# Construct the Ethereum account by calling Account.privateKeyToAccount\n",
    "# Pass it your private key variable\n",
    "account = Account.privateKeyToAccount(private)\n",
    "# Print account.address to access the address associated with your new Ethereum account\n",
    "print(account.address)"
   ]
  },
  {
   "cell_type": "code",
   "execution_count": 23,
   "metadata": {},
   "outputs": [],
   "source": [
    "from web3.auto import w3\n",
    "from eth_account.messages import encode_defunct"
   ]
  },
  {
   "cell_type": "code",
   "execution_count": 24,
   "metadata": {},
   "outputs": [
    {
     "data": {
      "text/plain": [
       "SignedMessage(messageHash=HexBytes('0xaacad5983e22bdfec55ba5cfbbb4f6b8d53a7b40ea28bc4f4226d8d9ace71bdb'), r=103174188968975683965199084679673372229470389608395634532244155922024691576164, s=14241245972485278248317078340927466784720197572921911553624038755177928141558, v=28, signature=HexBytes('0xe41a858328bb5fc2051e00d10724b754ef93056cff48e18c744051944036ad641f7c42738bc349e8138360baf76df27212f91ca214a980f6615555ce87fd2af61c'))"
      ]
     },
     "execution_count": 24,
     "metadata": {},
     "output_type": "execute_result"
    }
   ],
   "source": [
    "msg = \"Jason writes his first message\"\n",
    "\n",
    "encoded_message = encode_defunct(text=msg)\n",
    "\n",
    "signed_message = w3.eth.account.sign_message(encoded_message, private_key = private)\n",
    "\n",
    "signed_message"
   ]
  },
  {
   "cell_type": "code",
   "execution_count": 25,
   "metadata": {},
   "outputs": [
    {
     "data": {
      "text/plain": [
       "'0x7973885363e69FD8f1A7660060c3CeB2c76f1363'"
      ]
     },
     "execution_count": 25,
     "metadata": {},
     "output_type": "execute_result"
    }
   ],
   "source": [
    "w3.eth.account.recover_message(message, signature=signed_message.signature)"
   ]
  }
 ],
 "metadata": {
  "kernelspec": {
   "display_name": "Python 3.7.13 ('eth')",
   "language": "python",
   "name": "python3"
  },
  "language_info": {
   "codemirror_mode": {
    "name": "ipython",
    "version": 3
   },
   "file_extension": ".py",
   "mimetype": "text/x-python",
   "name": "python",
   "nbconvert_exporter": "python",
   "pygments_lexer": "ipython3",
   "version": "3.7.13"
  },
  "vscode": {
   "interpreter": {
    "hash": "2369bbc1c3957270a389aecd77b05dfeebe1fc95eb58c1d663a9eac4818261e4"
   }
  }
 },
 "nbformat": 4,
 "nbformat_minor": 2
}
