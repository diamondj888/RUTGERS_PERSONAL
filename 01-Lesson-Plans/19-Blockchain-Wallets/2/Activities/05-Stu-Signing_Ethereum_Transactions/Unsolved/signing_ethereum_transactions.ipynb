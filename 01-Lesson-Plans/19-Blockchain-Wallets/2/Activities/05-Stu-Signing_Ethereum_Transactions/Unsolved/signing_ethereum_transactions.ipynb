{
 "cells": [
  {
   "cell_type": "markdown",
   "metadata": {},
   "source": [
    "# Signing Ethereum Transactions\n",
    "\n",
    "In this activity, you will use the Web3.py library to sign and authorize messages using your public-private key pair.\n",
    "\n",
    "## Instructions\n",
    "Complete each of the following steps:\n",
    "\n",
    "1. In the `Unsolved` folder, add the `.env` file that contains the mnemonic seed phrase that you generated in the first activity. Be sure to save this as the variable `MNEMONIC`.\n",
    "\n",
    "2. Call `os.getenv(\"MNEMONIC\")` and save its value as a variable named `mnemonic`. Confirm that your seed phrase is available by checking the `type` of your `mnemonic` variable. \n",
    "\n",
    "> **Rewind** The information contained in an `.env` file should never be displayed to a program’s user. To confirm that the information is available, you can check the data type of the variable using the syntax `type(variable)`. If the variable has been imported correctly, the result should be a data type “str”, indicating that it is a string variable. \n",
    "\n",
    "\n",
    "3. From the bip44 package, generate a `Wallet` instance and pass your `mnemonic` variable as the parameter.\n",
    "\n",
    "\n",
    "4. Derive public and private keys from your wallet instance; save the values as two variables named `public` and `private`. \n",
    "\n",
    "> **Important** Remember that with the code we’re using today, generating a wallet with the same mnemonic seed phrase will generate the same private key and account information every time we run the program.\n",
    "\n",
    "5. Using the `Account` object and the `privateKeyToAccount` function, use your private key to generate an Ethereum account. To confirm the account was successfully initiated, print the account’s address.\n",
    "\n",
    "\n",
    "6. Create a new string variable named `msg`, and set its value equal to any message you would like to sign&mdash;e.g., “Zach owes Glenna 40”.\n",
    "\n",
    "\n",
    "7. Use `encode_defunct(text=msg)` from Web3.py to byte encode your message. Save the output as a variable named `encoded_msg`.\n",
    "\n",
    "\n",
    "8. Call the `w3.eth.account.sign_message` method. Pass it your encoded message variable and your private key. Your private key will “sign” your new message. Save the returned signed message as a variable named `signed_message`.\n",
    "\n",
    "\n",
    "9. Then, call the `w3.eth.account.recover_message` method. Pass it your encoded message variable and the message’s signature from the `signed_message.signature`. Confirm that the returned value matches the account address that was printed in Step 5. \n",
    "\n",
    "\n",
    "## References\n",
    "\n",
    "[Web3.py](https://web3py.readthedocs.io/en/stable/)\n",
    "\n",
    "[encode_defunct](https://web3py.readthedocs.io/en/stable/web3.eth.account.html?highlight=eth.account) \n",
    "\n",
    "[web3.auto](https://web3py.readthedocs.io/en/stable/providers.html?highlight=from%20web3.auto%20import%20w3#automatic-vs-manual-providers)\n",
    "\n",
    "[mnemonic](https://pypi.org/project/mnemonic/)\n",
    "\n",
    "[bip44](https://pypi.org/project/bip44/)\n",
    "\n",
    "[Ethereum](https://ethereum.org/en/developers/docs/)\n",
    "\n",
    "---"
   ]
  },
  {
   "cell_type": "markdown",
   "metadata": {},
   "source": [
    "## Step 1: In the `Unsolved` folder, add the `.env` file that contains the mnemonic seed phrase that you generated in the first activity. Be sure to save this as the variable `MNEMONIC`."
   ]
  },
  {
   "cell_type": "code",
   "execution_count": 40,
   "metadata": {},
   "outputs": [],
   "source": [
    "# Imports\n",
    "import os\n",
    "from dotenv import load_dotenv\n",
    "load_dotenv()\n",
    "from bip44 import Wallet\n",
    "from eth_account import Account\n",
    "from web3.auto import w3\n",
    "from eth_account.messages import encode_defunct"
   ]
  },
  {
   "cell_type": "markdown",
   "metadata": {},
   "source": [
    "## Step 2: Call `os.getenv(\"MNEMONIC\")` and save its value as a variable named `mnemonic`. Confirm that your seed phrase is available by checking the `type` of your `mnemonic` variable. "
   ]
  },
  {
   "cell_type": "code",
   "execution_count": 41,
   "metadata": {},
   "outputs": [
    {
     "data": {
      "text/plain": [
       "str"
      ]
     },
     "execution_count": 41,
     "metadata": {},
     "output_type": "execute_result"
    }
   ],
   "source": [
    "# Call os.getenv(\"MNEMONIC\") and save it's value as a variable named mnemonic\n",
    "mnemonic = os.getenv('MNEMONIC') # YOUR CODE HERE\n",
    "\n",
    "# View the data type of mnemonic to confirm its availability\n",
    "# YOUR CODE HERE\n",
    "type(mnemonic)\n"
   ]
  },
  {
   "cell_type": "markdown",
   "metadata": {},
   "source": [
    "## Step 3: From the bip44 package, generate a `Wallet` instance and pass your `mnemonic` variable as the parameter."
   ]
  },
  {
   "cell_type": "code",
   "execution_count": 42,
   "metadata": {},
   "outputs": [
    {
     "data": {
      "text/plain": [
       "<bip44.wallet.Wallet at 0x7fe69925f590>"
      ]
     },
     "execution_count": 42,
     "metadata": {},
     "output_type": "execute_result"
    }
   ],
   "source": [
    "# Instantiate a new instance of Wallet and pass it the mnemonic variable\n",
    "wallet = Wallet(mnemonic)\n",
    "# YOUR CODE HERE\n",
    "\n",
    "# Review your wallet instance\n",
    "# YOUR CODE HERE\n",
    "wallet"
   ]
  },
  {
   "cell_type": "markdown",
   "metadata": {},
   "source": [
    "## Step 4: Derive public and private keys from your wallet instance; save the values as two variables named `public` and `private`. "
   ]
  },
  {
   "cell_type": "code",
   "execution_count": 43,
   "metadata": {},
   "outputs": [
    {
     "data": {
      "text/plain": [
       "b'\"\\xe6$\\xd9fv:\\xf7\\x19\\xb8\\xb6\\xd0\\xd1\\x0b\\x8dq\\x9b\\xa1@\\xb9\\xcf\\xf4\\x89\\xfa<\\xfc\\xd0\\xdbb\\x9b\\x87\\xef'"
      ]
     },
     "execution_count": 43,
     "metadata": {},
     "output_type": "execute_result"
    }
   ],
   "source": [
    "# Calling the derive_account method on your wallet instance\n",
    "# Pass the string eth to the method\n",
    "private, public = wallet.derive_account(\"eth\", account=0)# YOUR CODE HERE\n",
    "\n",
    "# Review the byte string of your private key\n",
    "# YOUR CODE HERE\n",
    "private"
   ]
  },
  {
   "cell_type": "markdown",
   "metadata": {},
   "source": [
    "## Step 5: Using the `Account` object and the `privateKeyToAccount` function, use your private key to generate an Ethereum account. To confirm the account was successfully initiated, print the account’s address."
   ]
  },
  {
   "cell_type": "code",
   "execution_count": 44,
   "metadata": {},
   "outputs": [
    {
     "name": "stdout",
     "output_type": "stream",
     "text": [
      "0x23Ed378A954Fe4fdAB89d8Ae23D932F2A61EB265\n"
     ]
    }
   ],
   "source": [
    "# Construct the Ethereum account by calling Account.privateKeyToAccount\n",
    "# Pass it your private key variable\n",
    "account = Account.privateKeyToAccount(private)# YOUR CODE HERE\n",
    "\n",
    "# Print the account's address\n",
    "# YOUR CODE HERE\n",
    "print(account.address)"
   ]
  },
  {
   "cell_type": "markdown",
   "metadata": {},
   "source": [
    "## Step 6: Create a new string variable named `msg`, and set its value equal to any message you would like to sign&mdash; .e.g.,“Zach owes Glenna $40”."
   ]
  },
  {
   "cell_type": "code",
   "execution_count": 45,
   "metadata": {},
   "outputs": [],
   "source": [
    "# Create a string message \n",
    "msg = \"Loss of inner balance killed the Osmonds\" # YOUR CODE HERE\n"
   ]
  },
  {
   "cell_type": "markdown",
   "metadata": {},
   "source": [
    "## Step 7: Use `encode_defunct(text=msg)` from Web3.py to byte encode your message. Save the output as a variable named `encoded_msg`."
   ]
  },
  {
   "cell_type": "code",
   "execution_count": 46,
   "metadata": {},
   "outputs": [
    {
     "data": {
      "text/plain": [
       "SignableMessage(version=b'E', header=b'thereum Signed Message:\\n40', body=b'Loss of inner balance killed the Osmonds')"
      ]
     },
     "execution_count": 46,
     "metadata": {},
     "output_type": "execute_result"
    }
   ],
   "source": [
    "# Use the encode_defunct message to encode your message string\n",
    "encoded_message = encode_defunct(text=msg)# YOUR CODE HERE\n",
    "encoded_message"
   ]
  },
  {
   "cell_type": "markdown",
   "metadata": {},
   "source": [
    "## Step 8: Call the `w3.eth.account.sign_message` method. Pass it your encoded message variable and your private key. Your private key will “sign” your new message. Save the returned signed message as a variable named `signed_message`."
   ]
  },
  {
   "cell_type": "code",
   "execution_count": 47,
   "metadata": {},
   "outputs": [
    {
     "data": {
      "text/plain": [
       "SignedMessage(messageHash=HexBytes('0xacc967ef73e0f6b50193dac51dbcc59468f4b5d14a4ab9baef4e8b4da2fccc39'), r=58708548297809206318827465014437862471728625205449636260084767637171062365628, s=10006695348672572690841929218872818869035850093942442625218981512755585020182, v=28, signature=HexBytes('0x81cbdc5c710ef59b188c953334f805a427886628e45850a7345cc607ccdeddbc161f96bf5a7ff86c94a0b14c63de645eb3375533a1c5f167a61f2d1a9cf0f1161c'))"
      ]
     },
     "execution_count": 47,
     "metadata": {},
     "output_type": "execute_result"
    }
   ],
   "source": [
    "# Use w3.eth.account.sign_message to create a signed message\n",
    "# Pass the method your encoded message and private key\n",
    "signed_message = w3.eth.account.sign_message(encoded_message, private_key = private)# YOUR CODE HERE\n",
    "\n",
    "# Review your signed message\n",
    "# YOUR CODE HERE\n",
    "signed_message"
   ]
  },
  {
   "cell_type": "markdown",
   "metadata": {},
   "source": [
    "## Step 9: Then, call the `w3.eth.account.recover_message` method. Pass it your encoded message variable and the message’s signature from the `signed_message.signature`. Confirm that the returned value matches the account address that was printed in Step 5. "
   ]
  },
  {
   "cell_type": "code",
   "execution_count": 48,
   "metadata": {},
   "outputs": [
    {
     "data": {
      "text/plain": [
       "'0x23Ed378A954Fe4fdAB89d8Ae23D932F2A61EB265'"
      ]
     },
     "execution_count": 48,
     "metadata": {},
     "output_type": "execute_result"
    }
   ],
   "source": [
    "# Call the `w3.eth.account.recover_message` method\n",
    "# Pass your encoded message variable and the message’s signature \n",
    "# YOUR CODE HERE\n",
    "w3.eth.account.recover_message(encoded_message, signature=signed_message.signature)"
   ]
  },
  {
   "cell_type": "code",
   "execution_count": null,
   "metadata": {},
   "outputs": [],
   "source": [
    "\n"
   ]
  }
 ],
 "metadata": {
  "kernelspec": {
   "display_name": "Python 3.7.13 ('eth')",
   "language": "python",
   "name": "python3"
  },
  "language_info": {
   "codemirror_mode": {
    "name": "ipython",
    "version": 3
   },
   "file_extension": ".py",
   "mimetype": "text/x-python",
   "name": "python",
   "nbconvert_exporter": "python",
   "pygments_lexer": "ipython3",
   "version": "3.7.13"
  },
  "vscode": {
   "interpreter": {
    "hash": "2369bbc1c3957270a389aecd77b05dfeebe1fc95eb58c1d663a9eac4818261e4"
   }
  }
 },
 "nbformat": 4,
 "nbformat_minor": 4
}
